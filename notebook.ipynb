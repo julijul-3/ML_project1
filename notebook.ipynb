{
 "cells": [
  {
   "cell_type": "code",
   "execution_count": 2,
   "metadata": {},
   "outputs": [],
   "source": [
    "# Useful starting lines\n",
    "%matplotlib inline\n",
    "import numpy as np\n",
    "import matplotlib.pyplot as plt\n",
    "from helpers import *\n",
    "from implementations import *\n",
    "\n",
    "# from test_utils import test\n",
    "\n",
    "%load_ext autoreload\n",
    "%autoreload 2"
   ]
  },
  {
   "cell_type": "markdown",
   "metadata": {},
   "source": [
    "## Run de A a Z"
   ]
  },
  {
   "cell_type": "markdown",
   "metadata": {},
   "source": [
    "### Loading  data "
   ]
  },
  {
   "cell_type": "code",
   "execution_count": 3,
   "metadata": {},
   "outputs": [],
   "source": [
    "x_train, x_test, y_train, train_ids, test_ids = load_csv_data(\"dataset\")"
   ]
  },
  {
   "cell_type": "code",
   "execution_count": 6,
   "metadata": {},
   "outputs": [],
   "source": [
    "labels = np.genfromtxt(\"dataset/x_test.csv\", delimiter=\",\", dtype = str, max_rows=1)\n",
    "labels = np.delete(labels,0) # delete the label 'id' as we dont have it in x_train and x_test"
   ]
  },
  {
   "cell_type": "markdown",
   "metadata": {},
   "source": [
    "### Cleaning and feature selection"
   ]
  },
  {
   "cell_type": "markdown",
   "metadata": {},
   "source": [
    "Due to the high number of features with all different exceptions values and linearity, we decided to select manually the features we found relevant. The list below is the name of the feature, the exception values that we have to remplace, and wheter we remplace by majority (True) or by the mean (False)"
   ]
  },
  {
   "cell_type": "code",
   "execution_count": 52,
   "metadata": {},
   "outputs": [],
   "source": [
    "label_list = [(\"MSCODE\", [], True, None),\n",
    "            (\"_HCVU651\", [9], True, None),\n",
    "            (\"_RFHYPE5\", [9], True, None),\n",
    "            (\"_RFCHOL\", [9], True, None),\n",
    "            (\"_RACE\",[9], True, None),\n",
    "            (\"_BMI5\",[], False, None),\n",
    "            (\"_EDUCAG\",[9], True, None),\n",
    "            (\"_INCOMG\",[9], True, None),\n",
    "            (\"_DRNKWEK\",[99900], False, None),\n",
    "            (\"_SMOKER3\",[9], True, None),\n",
    "            (\"_FRUTSUM\",[], False, None),\n",
    "            (\"_VEGESUM\",[], False, None),\n",
    "            (\"PA1MIN_\",[], False, None),\n",
    "            (\"GENHLTH\",[7,9], False, None),\n",
    "            (\"CHECKUP1\",[7,9], False, None),\n",
    "            (\"MENTHLTH\",[77, 99], False, 88), \n",
    "            (\"BPHIGH4\",[7,9], True, None),\n",
    "            (\"BPMEDS\",[7,9], True, None),\n",
    "            (\"TOLDHI2\",[7,9], True, None),\n",
    "            (\"CHCOCNCR\",[7,8,9], True, None),\n",
    "            (\"DIABETE3\",[7,8,9], True, None),\n",
    "            (\"SEX\",[], True, None),\n",
    "            (\"QLACTLM2\",[7,9], True, None),\n",
    "            (\"AVEDRNK2\",[77, 99], False, None),\n",
    "            (\"EXERANY2\",[7,9], True, None),\n",
    "            (\"SHINGLE2\", [7,9], True, None),\n",
    "            (\"LMTJOIN3\", [7,9], True, None),\n",
    "            (\"CVDASPRN\", [7,9], True, None),\n",
    "            (\"PHYSHLTH\",[77,99], False, 88), #88 -> 0 \n",
    "            (\"POORHLTH\",[77,99], False, 88), # 88 -> 0  \n",
    "            (\"HLTHPLN1\",[7,9], True, None),\n",
    "            (\"BLOODCHO\", [7,9], True, None),\n",
    "            (\"CHOLCHK\",[7,9],True, None),\n",
    "            (\"CVDSTRK3\", [7,9], True, None),\n",
    "            (\"ASTHMA3\", [7,9], True, None),\n",
    "            (\"ASTHNOW\", [7,9], True, None),\n",
    "            (\"CHCSCNCR\", [7,9], True, None),\n",
    "            (\"CHCCOPD1\",[7,9], True, None),\n",
    "            (\"HAVARTH3\", [7,9], True, None),\n",
    "            (\"ADDEPEV2\", [7,9], True, None),\n",
    "            (\"CHCKIDNY\", [7,9], True, None),\n",
    "            (\"DIABAGE2\", [98,99], False, None),\n",
    "            (\"MARITAL\", [9], True, None),\n",
    "            (\"RENTHOM1\", [7,9], True, None),\n",
    "            (\"EMPLOY1\", [9], True, None),\n",
    "            (\"CHILDREN\", [99], False, 88), # 88 -> 0 \n",
    "            (\"INCOME2\", [77,99], True, None),\n",
    "            (\"INTERNET\", [7,9], True, None),\n",
    "            (\"QLACTLM2\", [7,9], True, None),\n",
    "            (\"USEEQUIP\", [7,9], True, None),\n",
    "            (\"BLIND\", [7,9], True, None),\n",
    "            (\"DECIDE\", [7,9], True, None),\n",
    "            (\"DIFFWALK\", [7,9], True, None),\n",
    "            (\"DIFFDRES\", [7,9], True, None),\n",
    "            (\"DIFFALON\", [7,9], True, None),\n",
    "            (\"SMOKE100\", [7,9], True, None),\n",
    "            (\"SMOKDAY2\", [7,9], True, None),\n",
    "            (\"STOPSMK2\", [7,9], True, None),\n",
    "            (\"USENOW3\", [7,9], True, None), \n",
    "            (\"DRNK3GE5\", [77,99],False, 88),\n",
    "            (\"MAXDRNKS\", [77,99], False, None),\n",
    "            (\"LMTJOIN3\", [7,9], True, None),\n",
    "            (\"ARTHDIS2\", [7,9], True, None),\n",
    "            (\"ARTHSOCL\", [7,9], True,None),\n",
    "            (\"FLUSHOT6\", [7,9],True, None),\n",
    "            (\"PNEUVAC3\", [7,9], True, None),\n",
    "            (\"PDIABTST\", [7,9], True,None),\n",
    "            (\"_RFHLTH\", [9], True, None),\n",
    "            (\"_CHOLCHK\", [9], True, None),\n",
    "            (\"_LTASTH1\", [9], True,None),\n",
    "            (\"_CASTHM1\", [9], True, None),\n",
    "            (\"_DRDXAR1\", [], True, None),\n",
    "            (\"WTKG3\", [99999], False , None),\n",
    "            (\"_RFBMI5\", [9], True, None),\n",
    "            (\"_RFSMOK3\", [9], True , None),\n",
    "            (\"DRNKANY5\", [7,9], True, None),\n",
    "            (\"DROCDY3_\", [900], False,None),\n",
    "            (\"_RFBING5\", [9], True, None),\n",
    "            (\"FTJUDA1_\", [], False, None),\n",
    "            (\"FRUTDA1_\", [], False, None),\n",
    "            (\"BEANDAY_\", [], False, None),\n",
    "            (\"GRENDAY_\",[], False,None),\n",
    "            (\"ORNGDAY_\", [],False, None),\n",
    "            (\"VEGEDA1_\", [], False, None),\n",
    "            ]\n",
    "\n",
    "cleaned_x_train = clean_data(labels, label_list, x_train)"
   ]
  },
  {
   "cell_type": "code",
   "execution_count": 72,
   "metadata": {},
   "outputs": [
    {
     "data": {
      "text/plain": [
       "(328135, 84)"
      ]
     },
     "execution_count": 72,
     "metadata": {},
     "output_type": "execute_result"
    }
   ],
   "source": [
    "cleaned_x_train.shape"
   ]
  },
  {
   "cell_type": "markdown",
   "metadata": {},
   "source": [
    "We then check that we have enough data in our features, i.e. there is not an exagerated amount of nans"
   ]
  },
  {
   "cell_type": "code",
   "execution_count": 6,
   "metadata": {},
   "outputs": [],
   "source": [
    "# want to see which labels are way to small\n",
    "\n",
    "for label in label_list:\n",
    "    l, _, _ = label\n",
    "    id = np.where(labels == l)[0][0]\n",
    "    x = x_train[:][id]\n",
    "\n",
    "    # Count the number of NaN values\n",
    "    nans= np.count_nonzero(np.isnan(x))\n",
    "    nan_perc = nans/len(x) *100\n",
    "    #print(nan_perc)"
   ]
  },
  {
   "cell_type": "markdown",
   "metadata": {},
   "source": [
    "We check that our features are uncorrelated as it would lead to less good results, but we saw that the uncorrelated data had the same dimension as the original cleaned data, so no changes were made."
   ]
  },
  {
   "cell_type": "code",
   "execution_count": 7,
   "metadata": {},
   "outputs": [
    {
     "name": "stdout",
     "output_type": "stream",
     "text": [
      "(328135, 28)\n"
     ]
    },
    {
     "data": {
      "text/plain": [
       "(328135, 28)"
      ]
     },
     "execution_count": 7,
     "metadata": {},
     "output_type": "execute_result"
    }
   ],
   "source": [
    "correlation_matrix = np.corrcoef(cleaned_x_train, rowvar=False)\n",
    "correlation_threshold = 0.7\n",
    "uncorrelated_indices = np.where(np.abs(correlation_matrix) < correlation_threshold)\n",
    "uncorrelated_columns = np.unique(uncorrelated_indices[1])\n",
    "uncorrelated_data = cleaned_x_train[:, uncorrelated_columns]\n",
    "print(uncorrelated_data.shape)\n",
    "cleaned_x_train.shape"
   ]
  },
  {
   "cell_type": "markdown",
   "metadata": {},
   "source": [
    "## Training\n",
    "We here choose which function we want to train our data with"
   ]
  },
  {
   "cell_type": "markdown",
   "metadata": {},
   "source": [
    "#### Ridge regression"
   ]
  },
  {
   "cell_type": "code",
   "execution_count": 8,
   "metadata": {},
   "outputs": [
    {
     "data": {
      "text/plain": [
       "(701,)"
      ]
     },
     "execution_count": 8,
     "metadata": {},
     "output_type": "execute_result"
    }
   ],
   "source": [
    "lambda_ = 0.0001\n",
    "degree = 25\n",
    "## tx is cleaned data \n",
    "poly = build_poly(cleaned_x_train,degree)\n",
    "w , loss = ridge_regression(y_train,poly,lambda_)\n",
    "w.shape"
   ]
  },
  {
   "cell_type": "markdown",
   "metadata": {},
   "source": [
    "#### Mean squared errors gd"
   ]
  },
  {
   "cell_type": "code",
   "execution_count": 9,
   "metadata": {},
   "outputs": [],
   "source": [
    "gamma = 0.0001\n",
    "max_iters = 1000\n",
    "w_initial = np.zeros(cleaned_x_train.shape[1])\n",
    "\n",
    "w, loss = mean_squared_error_gd(y_train, cleaned_x_train, w_initial, max_iters, gamma)"
   ]
  },
  {
   "cell_type": "code",
   "execution_count": 10,
   "metadata": {},
   "outputs": [
    {
     "data": {
      "text/plain": [
       "0.15174410864282326"
      ]
     },
     "execution_count": 10,
     "metadata": {},
     "output_type": "execute_result"
    }
   ],
   "source": [
    "loss"
   ]
  },
  {
   "cell_type": "markdown",
   "metadata": {},
   "source": []
  },
  {
   "cell_type": "markdown",
   "metadata": {},
   "source": [
    "#### Mean squared error sgd"
   ]
  },
  {
   "cell_type": "code",
   "execution_count": 19,
   "metadata": {},
   "outputs": [],
   "source": [
    "x_train_1, y_train_1, x_test_1, y_test_1 = split_train_test(y_train, x_train, 0.7)\n",
    "cleaned_x_train_1 = clean_data(labels, label_list, x_train_1)\n",
    "cleaned_x_test_1 = clean_data(labels, label_list, x_test_1)"
   ]
  },
  {
   "cell_type": "code",
   "execution_count": 138,
   "metadata": {},
   "outputs": [
    {
     "name": "stdout",
     "output_type": "stream",
     "text": [
      "y pred : '[4.37600356e+25 5.52661106e+25 4.51852034e+25 ... 3.91049147e+25\n",
      " 5.08228170e+25 5.06617256e+25]'.\n"
     ]
    }
   ],
   "source": [
    "x_train_1, y_train_1, x_test_1, y_test_1 = split_train_test(y_train, x_train, 0.7)\n",
    "cleaned_x_train_1 = clean_data(labels, label_list, x_train_1)\n",
    "cleaned_x_test_1 = clean_data(labels, label_list, x_test_1)\n",
    "\n",
    "gamma = 0.03684211157894737\n",
    "max_iters = 300\n",
    "#w_initial = np.zeros(cleaned_x_train.shape[1])\n",
    "initial_w = np.zeros(cleaned_x_train_1.shape[1])\n",
    "# remettre a 0 entre chaque run ? \n",
    "w = []\n",
    "loss = 0\n",
    "yp = []\n",
    "acc = 0\n",
    "f1 = 0\n",
    "\n",
    "#w, loss = mean_squared_error_sgd(y_train, cleaned_x_train, w_initial, max_iters, gamma)\n",
    "w, loss = mean_squared_error_gd(y_train_1, cleaned_x_train_1, initial_w, max_iters, gamma)\n",
    "yp = predict_labels_mse(w,cleaned_x_test_1)\n",
    "#yp = predict_labels_logistic(w, cleaned_x_test_1)\n",
    "\n",
    "# mesure accuracy\n",
    "acc = measure_accuracy(y_test_1, yp)\n",
    "f1 = measure_f1_score(y_test_1, yp)"
   ]
  },
  {
   "cell_type": "code",
   "execution_count": 139,
   "metadata": {},
   "outputs": [
    {
     "data": {
      "text/plain": [
       "0.16356988284456384"
      ]
     },
     "execution_count": 139,
     "metadata": {},
     "output_type": "execute_result"
    }
   ],
   "source": [
    "f1"
   ]
  },
  {
   "cell_type": "markdown",
   "metadata": {},
   "source": [
    "0.00360482144868762"
   ]
  },
  {
   "cell_type": "markdown",
   "metadata": {},
   "source": [
    "#### Least squared error"
   ]
  },
  {
   "cell_type": "code",
   "execution_count": 12,
   "metadata": {},
   "outputs": [],
   "source": [
    "w, loss = least_squares(y_train, cleaned_x_train)"
   ]
  },
  {
   "cell_type": "markdown",
   "metadata": {},
   "source": [
    "#### logistic regression"
   ]
  },
  {
   "cell_type": "code",
   "execution_count": 13,
   "metadata": {},
   "outputs": [
    {
     "name": "stderr",
     "output_type": "stream",
     "text": [
      "c:\\Users\\duval\\Documents\\GitHub\\ML_project1\\helpers.py:96: RuntimeWarning: overflow encountered in exp\n",
      "  return 1.0 / (1 + np.exp(-t))\n",
      "c:\\Users\\duval\\Documents\\GitHub\\ML_project1\\helpers.py:115: RuntimeWarning: divide by zero encountered in log\n",
      "  loss = -np.mean(y * np.log(pred) + (1 - y) * np.log(1 - pred))\n",
      "c:\\Users\\duval\\AppData\\Local\\Programs\\Python\\Python311\\Lib\\site-packages\\numpy\\core\\_methods.py:180: RuntimeWarning: invalid value encountered in reduce\n",
      "  ret = umr_sum(arr, axis, dtype, out, keepdims, where=where)\n"
     ]
    }
   ],
   "source": [
    "max_iters = 1000\n",
    "gamma = 0.01\n",
    "w_initial = np.zeros(cleaned_x_train.shape[1])\n",
    "w, loss = logistic_regression(y_train, cleaned_x_train, w_initial, max_iters, gamma)"
   ]
  },
  {
   "cell_type": "markdown",
   "metadata": {},
   "source": [
    "#### reg logistic"
   ]
  },
  {
   "cell_type": "code",
   "execution_count": 14,
   "metadata": {},
   "outputs": [],
   "source": [
    "max_iters = 1000\n",
    "gamma = 0.01\n",
    "lambda_ = 0.001\n",
    "w_initial = np.zeros(cleaned_x_train.shape[1])\n",
    "w, loss = reg_logistic_regression(y_train, cleaned_x_train, lambda_, w_initial, max_iters, gamma)"
   ]
  },
  {
   "cell_type": "code",
   "execution_count": 15,
   "metadata": {},
   "outputs": [],
   "source": [
    "#print(w)\n",
    "#print(loss)\n",
    "#print(len(w))"
   ]
  },
  {
   "cell_type": "markdown",
   "metadata": {},
   "source": [
    "### Testing\n",
    "\n",
    "We then test our data, cleaning the test dataset and building predictions"
   ]
  },
  {
   "cell_type": "code",
   "execution_count": 54,
   "metadata": {},
   "outputs": [],
   "source": [
    "#clean up x test\n",
    "\n",
    "cleaned_x_test = clean_data(labels, label_list, x_test)\n"
   ]
  },
  {
   "cell_type": "code",
   "execution_count": 17,
   "metadata": {},
   "outputs": [
    {
     "data": {
      "text/plain": [
       "(109379, 701)"
      ]
     },
     "execution_count": 17,
     "metadata": {},
     "output_type": "execute_result"
    }
   ],
   "source": [
    "# only used for ridge\n",
    "poly_test = build_poly(cleaned_x_test,degree)\n",
    "poly_test.shape                                 "
   ]
  },
  {
   "cell_type": "markdown",
   "metadata": {},
   "source": [
    "#### Prediction\n",
    "\n",
    "Use the correct prediction function depending on which train method"
   ]
  },
  {
   "cell_type": "code",
   "execution_count": 18,
   "metadata": {},
   "outputs": [],
   "source": [
    "yp = predict_labels_mse(w,cleaned_x_test)"
   ]
  },
  {
   "cell_type": "code",
   "execution_count": 19,
   "metadata": {},
   "outputs": [
    {
     "name": "stdout",
     "output_type": "stream",
     "text": [
      "[0.00000000e+000 0.00000000e+000 0.00000000e+000 ... 1.19096188e-304\n",
      " 0.00000000e+000 0.00000000e+000]\n"
     ]
    }
   ],
   "source": [
    "yp = predict_labels_logistic(w,cleaned_x_test)"
   ]
  },
  {
   "cell_type": "code",
   "execution_count": 20,
   "metadata": {},
   "outputs": [],
   "source": [
    "#print(len(np.where(y_pred == 1)[0]))"
   ]
  },
  {
   "cell_type": "markdown",
   "metadata": {},
   "source": [
    "#### CSV Submission"
   ]
  },
  {
   "cell_type": "code",
   "execution_count": 21,
   "metadata": {},
   "outputs": [],
   "source": [
    "create_csv_submission(test_ids,yp,\"outputs/ridge_degre25_200features.csv\")"
   ]
  },
  {
   "cell_type": "markdown",
   "metadata": {},
   "source": [
    "## Train test split for our own cross validation"
   ]
  },
  {
   "cell_type": "markdown",
   "metadata": {},
   "source": [
    "####read me or smth\n",
    "\n",
    "- N c'est le nombre de loops\n",
    "- pour l'instant ca loop sur gamma mais si tu veux changer de param tu peux le modifier\n",
    "- initial_w, accs et f1s pas besoin de changer\n",
    "\n",
    "Utilise pas ridge i guess tfacon c'est pas celle qui nous interesse\n"
   ]
  },
  {
   "cell_type": "code",
   "execution_count": 77,
   "metadata": {},
   "outputs": [],
   "source": [
    "x_train_1, y_train_1, x_test_1, y_test_1 = split_train_test(y_train, x_train, 0.6)\n",
    "cleaned_x_train_1 = clean_data(labels, label_list, x_train_1)\n",
    "cleaned_x_test_1 = clean_data(labels, label_list, x_test_1)"
   ]
  },
  {
   "cell_type": "code",
   "execution_count": 80,
   "metadata": {},
   "outputs": [
    {
     "name": "stdout",
     "output_type": "stream",
     "text": [
      "y pred : '[-3.86836112 -0.9438371  -0.79778624 ...  0.03453413 -1.09315406\n",
      " -0.52677595]'.\n",
      "y pred : '[ 3.12567177  0.67683337 -1.92261164 ...  1.14480517 -1.81145354\n",
      "  0.94434354]'.\n",
      "y pred : '[-0.26232482 -0.73475675 -0.90690548 ...  0.11605854 -0.94849401\n",
      " -0.86210978]'.\n",
      "y pred : '[-0.25933356 -0.83140562 -0.81753155 ... -0.07188808 -0.89737581\n",
      " -0.819845  ]'.\n",
      "y pred : '[-0.11827825 -0.86365607 -0.75827577 ... -0.17233343 -0.87557772\n",
      " -0.61436494]'.\n",
      "y pred : '[ 0.13882423 -0.87209227 -0.68717902 ... -0.19358449 -0.82858333\n",
      " -0.15938601]'.\n",
      "y pred : '[ 0.85394071 -0.76154504 -0.54089667 ... -0.06854787 -0.59301626\n",
      "  1.53466113]'.\n",
      "y pred : '[-17.95157929  -4.57424725  -3.78249634 ...  -5.64871935  -6.57051798\n",
      " -44.04061927]'.\n",
      "y pred : '[-2.47504841 -1.67346299 -1.00597671 ... -1.1244175  -1.59373554\n",
      " -6.70358822]'.\n",
      "y pred : '[-1.65241389 -1.59475957 -0.83354371 ... -0.95443338 -1.35162783\n",
      " -4.86656789]'.\n"
     ]
    }
   ],
   "source": [
    "N = 10\n",
    "max_iters = 300\n",
    "\n",
    "gammas = np.linspace(0.00000001, 0.1, N)\n",
    "#gammas = [0.018,0.185,0.019,0.0195,0.020]\n",
    "#degree = range(25)\n",
    "degree = 14\n",
    "#gammas = np.linspace(0.01,0.001,N)\n",
    "#gammas = np.linspace(0.00001, 0.1, N)\n",
    "\n",
    "#lambda_ = 0.01\n",
    "lambda_ = np.linspace(0.0001, 0.1, N)\n",
    "\n",
    "initial_w = np.zeros(cleaned_x_train_1.shape[1])\n",
    "accs6 = []\n",
    "f1s6 = []\n",
    "\n",
    "for lam in lambda_:\n",
    "    #print(\"Gamma : '{}'.\".format(gamma))\n",
    "    # train\n",
    "    # choisi la methode de train qui t'interesse\n",
    "    poly_train = build_poly(cleaned_x_train_1, degree)\n",
    "    w, loss = ridge_regression(y_train_1, poly_train, lam)\n",
    "    #w, loss = mean_squared_error_gd(y_train_1, cleaned_x_train_1, initial_w, max_iters, gamma)\n",
    "    ## remplacer gamma par lambda \n",
    "    #w, loss = reg_logistic_regression(y_train_1, cleaned_x_train_1, lambda_, initial_w, max_iters, gamma)\n",
    "    #predict \n",
    "    # choisi la methode de test qui t'interresse (commente l'autre)\n",
    "    poly_test = build_poly(cleaned_x_test_1, degree)\n",
    "    yp = predict_labels_mse(w,poly_test)\n",
    "    #yp = predict_labels_logistic(w, cleaned_x_test_1)\n",
    "\n",
    "    # mesure accuracy\n",
    "    acc = measure_accuracy(y_test_1, yp)\n",
    "    f1 = measure_f1_score(y_test_1, yp)\n",
    "    accs6.append(acc)\n",
    "    f1s6.append(f1)"
   ]
  },
  {
   "cell_type": "code",
   "execution_count": 79,
   "metadata": {},
   "outputs": [
    {
     "name": "stdout",
     "output_type": "stream",
     "text": [
      "[0.7411179579074403, 0.8560527101732829, 0.6801306783204423, 0.8439722796174733, 0.7809187709899005, 0.7496815325446311, 0.856826784179634, 0.872460641079559, 0.8727044439162049, 0.5850841424539974, 0.8425419415789233, 0.6296036692215095, 0.8349612202294787, 0.8712344004754141, 0.879782711384034, 0.8572005424596584, 0.7642205189937069, 0.5425129900803023, 0.6192725555030704, 0.6494202081460374]\n",
      "[0.19462247335886837, 0.25065837484532155, 0.12431169697980977, 0.22335487394193138, 0.2084562871614182, 0.1424842878917587, 0.14469851441887563, 0.13120199294166493, 0.1327187409160749, 0.18680714831804282, 0.1899423823148983, 0.14154541601921175, 0.10753131179960448, 0.11080128373757037, 0.14592692828146142, 0.18184992797590466, 0.17194231129424986, 0.16458672454331705, 0.16771593218080677, 0.16962916177930162]\n"
     ]
    }
   ],
   "source": [
    "# pour 0.5\n",
    "print(accs)\n",
    "print(f1s)"
   ]
  },
  {
   "cell_type": "code",
   "execution_count": 81,
   "metadata": {},
   "outputs": [
    {
     "name": "stdout",
     "output_type": "stream",
     "text": [
      "[0.8425419415789233, 0.6296036692215095, 0.8349612202294787, 0.8712344004754141, 0.879782711384034, 0.8572005424596584, 0.7642205189937069, 0.5425129900803023, 0.6192725555030704, 0.6494202081460374]\n",
      "[0.1899423823148983, 0.14154541601921175, 0.10753131179960448, 0.11080128373757037, 0.14592692828146142, 0.18184992797590466, 0.17194231129424986, 0.16458672454331705, 0.16771593218080677, 0.16962916177930162]\n"
     ]
    }
   ],
   "source": [
    "print(accs6)\n",
    "print(f1s6)"
   ]
  },
  {
   "cell_type": "code",
   "execution_count": null,
   "metadata": {},
   "outputs": [],
   "source": [
    "print(accs7)\n",
    "print(f1s7)"
   ]
  },
  {
   "cell_type": "code",
   "execution_count": 48,
   "metadata": {},
   "outputs": [
    {
     "data": {
      "text/plain": [
       "0.08900000000000001"
      ]
     },
     "execution_count": 48,
     "metadata": {},
     "output_type": "execute_result"
    }
   ],
   "source": [
    "lambda_ = np.linspace(0.001, 0.1, N)\n",
    "lambda_[9]"
   ]
  },
  {
   "cell_type": "code",
   "execution_count": 84,
   "metadata": {},
   "outputs": [
    {
     "name": "stdout",
     "output_type": "stream",
     "text": [
      "Indices of elements above the threshold:  [10, 11]\n"
     ]
    }
   ],
   "source": [
    "threshold = 0.19\n",
    "# Get the indices where values are greater than the threshold\n",
    "indices_above_threshold = [i for i, value in enumerate(f1s) if value > threshold]\n",
    "\n",
    "# Sort the indices\n",
    "indices_above_threshold.sort()\n",
    "\n",
    "print(\"Indices of elements above the threshold: \", indices_above_threshold)"
   ]
  },
  {
   "cell_type": "markdown",
   "metadata": {},
   "source": [
    "0.63 / 0.219 : entre 0.0156 et 0.0159 \n",
    "0.837 : 0.153 : 0.0156\n",
    "0.88 / 0.148 : 0.0157\n",
    "\n",
    "1ere fois\n",
    "je tente 300 et gamma = 0.0156 : [0.8348740349451442, 0.780607476635514]\n",
    "je tente 300 et gamma = 0.0157 :  [0.08033946251768034, 0.16027061705354018]\n",
    "2eme fois idem \n",
    "[0.9062474603819586, 0.8959162941893539]\n",
    "[0.027809965237543453, 0.1580936729663106]\n",
    "3eme fois\n",
    "[0.8829744006501422, 0.12064201544087769]\n",
    "[0.10683826949914715, 0.1655355903447212]\n",
    "\n",
    "\n",
    "gammas = np.linspace(0.01455,0.01655,N)\n",
    " 9 au cas ou 0.015392105263157894\n",
    " 10 0.74 / 0.195 : 0.015497368421052631\n",
    " 11 0.87 / 0.20  : 0.015602631578947368 \n",
    " 12 au cas ou : 0.015707894736842105\n",
    "il devrait exister un \n",
    "\n",
    "0.86 / 0.22 mais jsp quelle valeurs \n",
    "\n",
    "Visiblement rester a des chiffres exacts "
   ]
  },
  {
   "cell_type": "code",
   "execution_count": null,
   "metadata": {},
   "outputs": [],
   "source": [
    "[0.9109101991060544, 0.8207029662738724, 0.9089800893945551, 0.9085331166192605, 0.9055160503860219, 0.6329642421779764, 0.9071820398212109, 0.9067249085737505, 0.13592035757822024, 0.13160300690776108, 0.9076696464851687, 0.9055160503860219, 0.7161722876879317, 0.7563490451036164, 0.9104937017472572, 0.9076594880130029, 0.09873019097927671, 0.22479683055668429, 0.6392929703372613, 0.9107273466070703, 0.8376980902072328, 0.09902478667208452, 0.31964648516863065, 0.0904611946363267]\n",
    "[0.00022799817601459188, 0.09291807996710864, 0.03135135135135135, 0.006838738142510479, 0.02413178050571818, 0.21964968359214704, 0.025594539831502613, 0.047312720481427685, 0.15646879152700371, 0.16390364132507848, 0.052735799895779055, 0.054103528933184174, 0.1750324790362584, 0.19310344827586207, 0.0036186814429492254, 0.018570503131073203, 0.163112071161084, 0.1593575465150864, 0.12429712932820361, 0.00022753128555176336, 0.0610049955921246, 0.16367751060820368, 0.1621756861567715, 0.1635135513887721]"
   ]
  },
  {
   "cell_type": "code",
   "execution_count": 60,
   "metadata": {},
   "outputs": [
    {
     "name": "stdout",
     "output_type": "stream",
     "text": [
      "[0.910930516050386, 0.910930516050386, 0.9099756196668021, 0.8630434782608696, 0.6709670865501829, 0.2854937017472572, 0.5486286062576189, 0.9109203575782202, 0.9109203575782202, 0.910930516050386, 0.9095184884193417, 0.9108187728565623, 0.910930516050386, 0.910930516050386, 0.09434173100365705, 0.910930516050386, 0.08906948394961398, 0.08906948394961398, 0.08907964242177976, 0.08906948394961398]\n",
      "[0.0, 0.0, 0.022501654533421574, 0.21970135432341706, 0.1793767418292374, 0.14222298104831826, 0.13871174087499272, 0.0, 0.0, 0.0, 0.0017931189061974671, 0.0, 0.0, 0.0, 0.1627018041454962, 0.0, 0.16356988284456384, 0.16356988284456384, 0.16357140858339475, 0.16356988284456384]\n"
     ]
    }
   ],
   "source": [
    "# Previous Test cant remember param gamma rip for the 0.86 : 0.22\n",
    "print(accs)\n",
    "print(f1s)"
   ]
  },
  {
   "cell_type": "code",
   "execution_count": 62,
   "metadata": {},
   "outputs": [
    {
     "data": {
      "image/png": "[encoded data removed]",
      "text/plain": [
       "<Figure size 432x288 with 1 Axes>"
      ]
     },
     "metadata": {
      "needs_background": "light"
     },
     "output_type": "display_data"
    }
   ],
   "source": [
    "# tu peux plot tes tableaux ici ca fait ton parametre x accuracies et f1 \n",
    "# (change le gammas si t'as changé de param la haut)\n",
    "plt.plot(lambda_,accs,\"r\")\n",
    "plt.plot(lambda_, f1s, \"b\")\n",
    "plt.plot(lambda_,accs6,\"g\")\n",
    "plt.plot(lambda_, f1s6, \"y\")\n",
    "plt.plot(lambda_,accs7,\"o\")\n",
    "plt.plot(lambda_, f1s7, \"p\")\n",
    "\n",
    "plt.title(\"ridge regression\")\n",
    "plt.legend([\"accuracy 0.5\", \"f1 0.5\", \"accuracy 0.6\", \"f1 0.6\", \"accuracy 0.6\", \"f1 0.6\"])\n",
    "plt.xlabel(\"lambda\")\n",
    "plt.ylabel(\"Accuracy and F1 (%)\")\n",
    "plt.xscale('log')\n",
    "plt.show()"
   ]
  },
  {
   "cell_type": "code",
   "execution_count": 63,
   "metadata": {},
   "outputs": [
    {
     "name": "stdout",
     "output_type": "stream",
     "text": [
      "[0.0001 0.0112 0.0223 0.0334 0.0445 0.0556 0.0667 0.0778 0.0889 0.1   ]\n"
     ]
    }
   ],
   "source": [
    "print(lambda_)"
   ]
  },
  {
   "cell_type": "code",
   "execution_count": 70,
   "metadata": {},
   "outputs": [
    {
     "name": "stdout",
     "output_type": "stream",
     "text": [
      "0.872460641079559\n"
     ]
    },
    {
     "data": {
      "text/plain": [
       "0.25065837484532155"
      ]
     },
     "execution_count": 70,
     "metadata": {},
     "output_type": "execute_result"
    }
   ],
   "source": [
    "print(accs[7])\n",
    "f1s[1]"
   ]
  },
  {
   "cell_type": "code",
   "execution_count": null,
   "metadata": {},
   "outputs": [],
   "source": []
  },
  {
   "cell_type": "code",
   "execution_count": null,
   "metadata": {},
   "outputs": [],
   "source": []
  },
  {
   "cell_type": "code",
   "execution_count": null,
   "metadata": {},
   "outputs": [],
   "source": []
  },
  {
   "cell_type": "markdown",
   "metadata": {},
   "source": [
    "# testing which method is better"
   ]
  },
  {
   "cell_type": "code",
   "execution_count": 28,
   "metadata": {},
   "outputs": [
    {
     "name": "stdout",
     "output_type": "stream",
     "text": [
      "accuracy ridge:\n",
      "0.9063693620479479\n",
      "f1 ridge:\n",
      "0.19382489285401908\n",
      "accuracy mse gd:\n",
      "0.910930516050386\n",
      "f1 mse gd:\n",
      "0.0\n",
      "accuracy mse sgd:\n",
      "0.8993295408370581\n",
      "f1 mse sgd:\n",
      "0.15385928961748635\n",
      "accuracy least squares:\n",
      "0.910930516050386\n",
      "f1 mse least squares:\n",
      "0.0\n",
      "accuracy logistic reg:\n",
      "0.910930516050386\n",
      "f1 mse logistic reg:\n",
      "0.0\n",
      "accuracy reg logistic reg:\n",
      "0.910930516050386\n",
      "f1 mse reg logistic reg:\n",
      "0.0\n"
     ]
    }
   ],
   "source": [
    "gamma = 0.01\n",
    "lambda_ = 0.0000001\n",
    "max_iters = 1000\n",
    "degree = 9\n",
    "initial_w = np.zeros(cleaned_x_train_1.shape[1])\n",
    "\n",
    "# ridge\n",
    "poly_train = build_poly(cleaned_x_train_1, degree)\n",
    "w, loss = ridge_regression(y_train_1, poly_train, lambda_)\n",
    "poly_test = build_poly(cleaned_x_test_1, degree)\n",
    "yp = predict_labels_mse(w, poly_test)\n",
    "\n",
    "print(\"accuracy ridge:\")\n",
    "accuracy = measure_accuracy(y_test_1, yp)\n",
    "print(accuracy)\n",
    "print(\"f1 ridge:\")\n",
    "f1 = measure_f1_score(y_test_1, yp)\n",
    "print(f1)\n",
    "\n",
    "# mse gd\n",
    "w, loss = mean_squared_error_gd(y_train_1, cleaned_x_train_1, initial_w, max_iters, gamma)\n",
    "yp = predict_labels_mse(w, cleaned_x_test_1)\n",
    "\n",
    "print(\"accuracy mse gd:\")\n",
    "accuracy = measure_accuracy(y_test_1, yp)\n",
    "print(accuracy)\n",
    "print(\"f1 mse gd:\")\n",
    "f1 = measure_f1_score(y_test_1, yp)\n",
    "print(f1)\n",
    "\n",
    "# mse sgd\n",
    "w, loss = mean_squared_error_sgd(y_train_1, cleaned_x_train_1, initial_w, max_iters, gamma)\n",
    "yp = predict_labels_mse(w, cleaned_x_test_1)\n",
    "\n",
    "print(\"accuracy mse sgd:\")\n",
    "accuracy = measure_accuracy(y_test_1, yp)\n",
    "print(accuracy)\n",
    "print(\"f1 mse sgd:\")\n",
    "f1 = measure_f1_score(y_test_1, yp)\n",
    "print(f1)\n",
    "\n",
    "# mse sgd\n",
    "w, loss = least_squares(y_train_1, cleaned_x_train_1)\n",
    "yp = predict_labels_mse(w, cleaned_x_test_1)\n",
    "\n",
    "print(\"accuracy least squares:\")\n",
    "accuracy = measure_accuracy(y_test_1, yp)\n",
    "print(accuracy)\n",
    "print(\"f1 mse least squares:\")\n",
    "f1 = measure_f1_score(y_test_1, yp)\n",
    "print(f1)\n",
    "\n",
    "# logistic reg\n",
    "w, loss = logistic_regression(y_train_1, cleaned_x_train_1, initial_w, max_iters, gamma)\n",
    "yp = predict_labels_logistic(w, cleaned_x_test_1)\n",
    "\n",
    "print(\"accuracy logistic reg:\")\n",
    "accuracy = measure_accuracy(y_test_1, yp)\n",
    "print(accuracy)\n",
    "print(\"f1 mse logistic reg:\")\n",
    "f1 = measure_f1_score(y_test_1, yp)\n",
    "print(f1)\n",
    "\n",
    "#  reg logistic reg\n",
    "w, loss = reg_logistic_regression(y_train_1, cleaned_x_train_1, lambda_, initial_w, max_iters, gamma)\n",
    "yp = predict_labels_logistic(w, cleaned_x_test_1)\n",
    "\n",
    "print(\"accuracy reg logistic reg:\")\n",
    "accuracy = measure_accuracy(y_test_1, yp)\n",
    "print(accuracy)\n",
    "print(\"f1 mse reg logistic reg:\")\n",
    "f1 = measure_f1_score(y_test_1, yp)\n",
    "print(f1)\n"
   ]
  },
  {
   "cell_type": "code",
   "execution_count": null,
   "metadata": {},
   "outputs": [],
   "source": [
    "lamdas = 0.0000001\n",
    "accs = []\n",
    "f1s = []\n",
    "degrees = range(25)\n",
    "for deg in degrees:\n",
    "\n",
    "    # ridge\n",
    "    poly_train = build_poly(cleaned_x_train_1, deg)\n",
    "    w, loss = ridge_regression(y_train_1, poly_train, lamdas)\n",
    "    poly_test = build_poly(cleaned_x_test_1, deg)\n",
    "    yp = predict_labels_mse(w, poly_test)\n",
    "\n",
    "    accuracy = measure_accuracy(y_test_1, yp)\n",
    "    f1 = measure_f1_score(y_test_1, yp)\n",
    "    accs.append(accuracy)\n",
    "    f1s.append(f1)\n",
    "\n",
    "\n"
   ]
  }
 ],
 "metadata": {
  "kernelspec": {
   "display_name": "Python 3",
   "language": "python",
   "name": "python3"
  },
  "language_info": {
   "codemirror_mode": {
    "name": "ipython",
    "version": 3
   },
   "file_extension": ".py",
   "mimetype": "text/x-python",
   "name": "python",
   "nbconvert_exporter": "python",
   "pygments_lexer": "ipython3",
   "version": "3.9.18"
  }
 },
 "nbformat": 4,
 "nbformat_minor": 2
}
