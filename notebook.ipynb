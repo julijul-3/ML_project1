{
 "cells": [
  {
   "cell_type": "code",
   "execution_count": 2,
   "metadata": {},
   "outputs": [],
   "source": [
    "# Useful starting lines\n",
    "%matplotlib inline\n",
    "import numpy as np\n",
    "import matplotlib.pyplot as plt\n",
    "from helpers import *\n",
    "from implementations import *\n",
    "\n",
    "# from test_utils import test\n",
    "\n",
    "%load_ext autoreload\n",
    "%autoreload 2"
   ]
  },
  {
   "cell_type": "markdown",
   "metadata": {},
   "source": [
    "## Run de A a Z"
   ]
  },
  {
   "cell_type": "markdown",
   "metadata": {},
   "source": [
    "### Loading  data "
   ]
  },
  {
   "cell_type": "code",
   "execution_count": 3,
   "metadata": {},
   "outputs": [],
   "source": [
    "x_train, x_test, y_train, train_ids, test_ids = load_csv_data(\"dataset\")"
   ]
  },
  {
   "cell_type": "code",
   "execution_count": 6,
   "metadata": {},
   "outputs": [],
   "source": [
    "labels = np.genfromtxt(\"dataset/x_test.csv\", delimiter=\",\", dtype = str, max_rows=1)\n",
    "labels = np.delete(labels,0) # delete the label 'id' as we dont have it in x_train and x_test"
   ]
  },
  {
   "cell_type": "code",
   "execution_count": null,
   "metadata": {},
   "outputs": [],
   "source": []
  },
  {
   "cell_type": "markdown",
   "metadata": {},
   "source": [
    "### Cleaning and feature selection"
   ]
  },
  {
   "cell_type": "markdown",
   "metadata": {},
   "source": [
    "Due to the high number of features with all different exceptions values and linearity, we decided to select manually the features we found relevant. The list below is the name of the feature, the exception values that we have to remplace, and wheter we remplace by majority (True) or by the mean (False)"
   ]
  },
  {
   "cell_type": "code",
   "execution_count": 31,
   "metadata": {},
   "outputs": [],
   "source": [
    "label_list = [(\"MSCODE\", [], True, None),\n",
    "            (\"_HCVU651\", [9], True, None),\n",
    "            (\"_RFHYPE5\", [9], True, None),\n",
    "            (\"_RFCHOL\", [9], True, None),\n",
    "            (\"_RACE\",[9], True, None),\n",
    "            (\"_BMI5\",[], False, None),\n",
    "            (\"_EDUCAG\",[9], True, None),\n",
    "            (\"_INCOMG\",[9], True, None),\n",
    "            (\"_DRNKWEK\",[99900], False, None),\n",
    "            (\"_SMOKER3\",[9], True, None),\n",
    "            (\"_FRUTSUM\",[], False, None),\n",
    "            (\"_VEGESUM\",[], False, None),\n",
    "            (\"PA1MIN_\",[], False, None),\n",
    "            (\"GENHLTH\",[7,9], False, None),\n",
    "            (\"CHECKUP1\",[7,9], False, None),\n",
    "            (\"MENTHLTH\",[77, 99], False, 88), #88 -> 0 \n",
    "            (\"BPHIGH4\",[7,9], True, None),\n",
    "            (\"BPMEDS\",[7,9], True, None),\n",
    "            (\"TOLDHI2\",[7,9], True, None),\n",
    "            (\"CHCOCNCR\",[7,8,9], True, None),\n",
    "            (\"DIABETE3\",[7,8,9], True, None),\n",
    "            (\"SEX\",[], True, None),\n",
    "            (\"QLACTLM2\",[7,9], True, None),\n",
    "            (\"AVEDRNK2\",[77, 99], False, None),\n",
    "            (\"EXERANY2\",[7,9], True, None),\n",
    "            (\"SHINGLE2\", [7,9], True, None),\n",
    "            (\"LMTJOIN3\", [7,9], True, None),\n",
    "            (\"CVDASPRN\", [7,9], True, None),\n",
    "            (\"PHYSHLTH\",[77,99], False, 88), #88 -> 0 \n",
    "            (\"POORHLTH\",[77,99], False, 88), # 88 -> 0  \n",
    "            (\"HLTHPLN1\",[7,9], True, None),\n",
    "            (\"BLOODCHO\", [7,9], True, None),\n",
    "            (\"CHOLCHK\",[7,9],True, None),\n",
    "            #(\"CVDINFR4\", [7,9], True, None),\n",
    "            #(\"CVDCRHD4\", [7,9], True, None),\n",
    "            (\"CVDSTRK3\", [7,9], True, None),\n",
    "            (\"ASTHMA3\", [7,9], True, None),\n",
    "            (\"ASTHNOW\", [7,9], True, None),\n",
    "            (\"CHCSCNCR\", [7,9], True, None),\n",
    "            (\"CHCCOPD1\",[7,9], True, None),\n",
    "            (\"HAVARTH3\", [7,9], True, None),\n",
    "            (\"ADDEPEV2\", [7,9], True, None),\n",
    "            (\"CHCKIDNY\", [7,9], True, None),\n",
    "            (\"DIABAGE2\", [98,99], False, None),\n",
    "            (\"MARITAL\", [9], True, None),\n",
    "            (\"RENTHOM1\", [7,9], True, None),\n",
    "            (\"EMPLOY1\", [9], True, None),\n",
    "            (\"CHILDREN\", [99], False, 88), # 88 -> 0 \n",
    "            (\"INCOME2\", [77,99], True, None),\n",
    "            (\"INTERNET\", [7,9], True, None),\n",
    "            (\"QLACTLM2\", [7,9], True, None),\n",
    "            (\"USEEQUIP\", [7,9], True, None),\n",
    "            (\"BLIND\", [7,9], True, None),\n",
    "            (\"DECIDE\", [7,9], True, None),\n",
    "            (\"DIFFWALK\", [7,9], True, None),\n",
    "            (\"DIFFDRES\", [7,9], True, None),\n",
    "            (\"DIFFALON\", [7,9], True, None),\n",
    "            (\"SMOKE100\", [7,9], True, None),\n",
    "            (\"SMOKDAY2\", [7,9], True, None),\n",
    "            (\"STOPSMK2\", [7,9], True, None),\n",
    "            (\"USENOW3\", [7,9], True, None), \n",
    "            (\"DRNK3GE5\", [77,99],False, 88)  ## 88 -> 0 \n",
    "            ]\n",
    "\n",
    "cleaned_x_train = clean_data(labels, label_list, x_train)"
   ]
  },
  {
   "cell_type": "code",
   "execution_count": 53,
   "metadata": {},
   "outputs": [
    {
     "data": {
      "text/plain": [
       "array([[ 1.00000000e+00,  1.00000000e+00,  1.00000000e+00, ...,\n",
       "        -4.89451372e-01,  2.00000000e+00,  3.00000000e+00],\n",
       "       [ 5.00000000e+00,  1.00000000e+00,  2.00000000e+00, ...,\n",
       "        -9.33005477e-17,  2.00000000e+00,  3.00000000e+00],\n",
       "       [ 1.00000000e+00,  1.00000000e+00,  1.00000000e+00, ...,\n",
       "        -6.70001037e-01,  2.00000000e+00,  3.00000000e+00],\n",
       "       ...,\n",
       "       [ 1.00000000e+00,  1.00000000e+00,  1.00000000e+00, ...,\n",
       "        -6.20760219e-01,  2.00000000e+00,  3.00000000e+00],\n",
       "       [ 5.00000000e+00,  1.00000000e+00,  1.00000000e+00, ...,\n",
       "        -7.71765394e-01,  2.00000000e+00,  3.00000000e+00],\n",
       "       [ 1.00000000e+00,  1.00000000e+00,  2.00000000e+00, ...,\n",
       "        -8.17723491e-01,  2.00000000e+00,  3.00000000e+00]])"
      ]
     },
     "execution_count": 53,
     "metadata": {},
     "output_type": "execute_result"
    }
   ],
   "source": [
    "cleaned_x_train"
   ]
  },
  {
   "cell_type": "markdown",
   "metadata": {},
   "source": [
    "We then check that we have enough data in our features, i.e. there is not an exagerated amount of nans"
   ]
  },
  {
   "cell_type": "code",
   "execution_count": 6,
   "metadata": {},
   "outputs": [],
   "source": [
    "# want to see which labels are way to small\n",
    "\n",
    "for label in label_list:\n",
    "    l, _, _ = label\n",
    "    id = np.where(labels == l)[0][0]\n",
    "    x = x_train[:][id]\n",
    "\n",
    "    # Count the number of NaN values\n",
    "    nans= np.count_nonzero(np.isnan(x))\n",
    "    nan_perc = nans/len(x) *100\n",
    "    #print(nan_perc)"
   ]
  },
  {
   "cell_type": "markdown",
   "metadata": {},
   "source": [
    "We check that our features are uncorrelated as it would lead to less good results, but we saw that the uncorrelated data had the same dimension as the original cleaned data, so no changes were made."
   ]
  },
  {
   "cell_type": "code",
   "execution_count": 7,
   "metadata": {},
   "outputs": [
    {
     "name": "stdout",
     "output_type": "stream",
     "text": [
      "(328135, 28)\n"
     ]
    },
    {
     "data": {
      "text/plain": [
       "(328135, 28)"
      ]
     },
     "execution_count": 7,
     "metadata": {},
     "output_type": "execute_result"
    }
   ],
   "source": [
    "correlation_matrix = np.corrcoef(cleaned_x_train, rowvar=False)\n",
    "correlation_threshold = 0.7\n",
    "uncorrelated_indices = np.where(np.abs(correlation_matrix) < correlation_threshold)\n",
    "uncorrelated_columns = np.unique(uncorrelated_indices[1])\n",
    "uncorrelated_data = cleaned_x_train[:, uncorrelated_columns]\n",
    "print(uncorrelated_data.shape)\n",
    "cleaned_x_train.shape"
   ]
  },
  {
   "cell_type": "markdown",
   "metadata": {},
   "source": [
    "## Training\n",
    "We here choose which function we want to train our data with"
   ]
  },
  {
   "cell_type": "markdown",
   "metadata": {},
   "source": [
    "#### Ridge regression"
   ]
  },
  {
   "cell_type": "code",
   "execution_count": 8,
   "metadata": {},
   "outputs": [
    {
     "data": {
      "text/plain": [
       "(701,)"
      ]
     },
     "execution_count": 8,
     "metadata": {},
     "output_type": "execute_result"
    }
   ],
   "source": [
    "lambda_ = 0.0001\n",
    "degree = 25\n",
    "## tx is cleaned data \n",
    "poly = build_poly(cleaned_x_train,degree)\n",
    "w , loss = ridge_regression(y_train,poly,lambda_)\n",
    "w.shape"
   ]
  },
  {
   "cell_type": "markdown",
   "metadata": {},
   "source": [
    "#### Mean squared errors gd"
   ]
  },
  {
   "cell_type": "code",
   "execution_count": 9,
   "metadata": {},
   "outputs": [],
   "source": [
    "gamma = 0.0001\n",
    "max_iters = 1000\n",
    "w_initial = np.zeros(cleaned_x_train.shape[1])\n",
    "\n",
    "w, loss = mean_squared_error_gd(y_train, cleaned_x_train, w_initial, max_iters, gamma)"
   ]
  },
  {
   "cell_type": "code",
   "execution_count": 10,
   "metadata": {},
   "outputs": [
    {
     "data": {
      "text/plain": [
       "0.15174410864282326"
      ]
     },
     "execution_count": 10,
     "metadata": {},
     "output_type": "execute_result"
    }
   ],
   "source": [
    "loss"
   ]
  },
  {
   "cell_type": "markdown",
   "metadata": {},
   "source": []
  },
  {
   "cell_type": "markdown",
   "metadata": {},
   "source": [
    "#### Mean squared error sgd"
   ]
  },
  {
   "cell_type": "code",
   "execution_count": 19,
   "metadata": {},
   "outputs": [],
   "source": [
    "x_train_1, y_train_1, x_test_1, y_test_1 = split_train_test(y_train, x_train, 0.7)\n",
    "cleaned_x_train_1 = clean_data(labels, label_list, x_train_1)\n",
    "cleaned_x_test_1 = clean_data(labels, label_list, x_test_1)"
   ]
  },
  {
   "cell_type": "code",
   "execution_count": 138,
   "metadata": {},
   "outputs": [
    {
     "name": "stdout",
     "output_type": "stream",
     "text": [
      "y pred : '[4.37600356e+25 5.52661106e+25 4.51852034e+25 ... 3.91049147e+25\n",
      " 5.08228170e+25 5.06617256e+25]'.\n"
     ]
    }
   ],
   "source": [
    "x_train_1, y_train_1, x_test_1, y_test_1 = split_train_test(y_train, x_train, 0.7)\n",
    "cleaned_x_train_1 = clean_data(labels, label_list, x_train_1)\n",
    "cleaned_x_test_1 = clean_data(labels, label_list, x_test_1)\n",
    "\n",
    "gamma = 0.03684211157894737\n",
    "max_iters = 300\n",
    "#w_initial = np.zeros(cleaned_x_train.shape[1])\n",
    "initial_w = np.zeros(cleaned_x_train_1.shape[1])\n",
    "# remettre a 0 entre chaque run ? \n",
    "w = []\n",
    "loss = 0\n",
    "yp = []\n",
    "acc = 0\n",
    "f1 = 0\n",
    "\n",
    "#w, loss = mean_squared_error_sgd(y_train, cleaned_x_train, w_initial, max_iters, gamma)\n",
    "w, loss = mean_squared_error_gd(y_train_1, cleaned_x_train_1, initial_w, max_iters, gamma)\n",
    "yp = predict_labels_mse(w,cleaned_x_test_1)\n",
    "#yp = predict_labels_logistic(w, cleaned_x_test_1)\n",
    "\n",
    "# mesure accuracy\n",
    "acc = measure_accuracy(y_test_1, yp)\n",
    "f1 = measure_f1_score(y_test_1, yp)"
   ]
  },
  {
   "cell_type": "code",
   "execution_count": 139,
   "metadata": {},
   "outputs": [
    {
     "data": {
      "text/plain": [
       "0.16356988284456384"
      ]
     },
     "execution_count": 139,
     "metadata": {},
     "output_type": "execute_result"
    }
   ],
   "source": [
    "f1"
   ]
  },
  {
   "cell_type": "markdown",
   "metadata": {},
   "source": [
    "0.00360482144868762"
   ]
  },
  {
   "cell_type": "markdown",
   "metadata": {},
   "source": [
    "#### Least squared error"
   ]
  },
  {
   "cell_type": "code",
   "execution_count": 12,
   "metadata": {},
   "outputs": [],
   "source": [
    "w, loss = least_squares(y_train, cleaned_x_train)"
   ]
  },
  {
   "cell_type": "markdown",
   "metadata": {},
   "source": [
    "#### logistic regression"
   ]
  },
  {
   "cell_type": "code",
   "execution_count": 13,
   "metadata": {},
   "outputs": [
    {
     "name": "stderr",
     "output_type": "stream",
     "text": [
      "c:\\Users\\duval\\Documents\\GitHub\\ML_project1\\helpers.py:96: RuntimeWarning: overflow encountered in exp\n",
      "  return 1.0 / (1 + np.exp(-t))\n",
      "c:\\Users\\duval\\Documents\\GitHub\\ML_project1\\helpers.py:115: RuntimeWarning: divide by zero encountered in log\n",
      "  loss = -np.mean(y * np.log(pred) + (1 - y) * np.log(1 - pred))\n",
      "c:\\Users\\duval\\AppData\\Local\\Programs\\Python\\Python311\\Lib\\site-packages\\numpy\\core\\_methods.py:180: RuntimeWarning: invalid value encountered in reduce\n",
      "  ret = umr_sum(arr, axis, dtype, out, keepdims, where=where)\n"
     ]
    }
   ],
   "source": [
    "max_iters = 1000\n",
    "gamma = 0.01\n",
    "w_initial = np.zeros(cleaned_x_train.shape[1])\n",
    "w, loss = logistic_regression(y_train, cleaned_x_train, w_initial, max_iters, gamma)"
   ]
  },
  {
   "cell_type": "markdown",
   "metadata": {},
   "source": [
    "#### reg logistic"
   ]
  },
  {
   "cell_type": "code",
   "execution_count": 14,
   "metadata": {},
   "outputs": [],
   "source": [
    "max_iters = 1000\n",
    "gamma = 0.01\n",
    "lambda_ = 0.001\n",
    "w_initial = np.zeros(cleaned_x_train.shape[1])\n",
    "w, loss = reg_logistic_regression(y_train, cleaned_x_train, lambda_, w_initial, max_iters, gamma)"
   ]
  },
  {
   "cell_type": "code",
   "execution_count": 15,
   "metadata": {},
   "outputs": [],
   "source": [
    "#print(w)\n",
    "#print(loss)\n",
    "#print(len(w))"
   ]
  },
  {
   "cell_type": "markdown",
   "metadata": {},
   "source": [
    "### Testing\n",
    "\n",
    "We then test our data, cleaning the test dataset and building predictions"
   ]
  },
  {
   "cell_type": "code",
   "execution_count": 54,
   "metadata": {},
   "outputs": [],
   "source": [
    "#clean up x test\n",
    "\n",
    "cleaned_x_test = clean_data(labels, label_list, x_test)\n"
   ]
  },
  {
   "cell_type": "code",
   "execution_count": 17,
   "metadata": {},
   "outputs": [
    {
     "data": {
      "text/plain": [
       "(109379, 701)"
      ]
     },
     "execution_count": 17,
     "metadata": {},
     "output_type": "execute_result"
    }
   ],
   "source": [
    "# only used for ridge\n",
    "poly_test = build_poly(cleaned_x_test,degree)\n",
    "poly_test.shape                                 "
   ]
  },
  {
   "cell_type": "markdown",
   "metadata": {},
   "source": [
    "#### Prediction\n",
    "\n",
    "Use the correct prediction function depending on which train method"
   ]
  },
  {
   "cell_type": "code",
   "execution_count": 18,
   "metadata": {},
   "outputs": [],
   "source": [
    "yp = predict_labels_mse(w,cleaned_x_test)"
   ]
  },
  {
   "cell_type": "code",
   "execution_count": 19,
   "metadata": {},
   "outputs": [
    {
     "name": "stdout",
     "output_type": "stream",
     "text": [
      "[0.00000000e+000 0.00000000e+000 0.00000000e+000 ... 1.19096188e-304\n",
      " 0.00000000e+000 0.00000000e+000]\n"
     ]
    }
   ],
   "source": [
    "yp = predict_labels_logistic(w,cleaned_x_test)"
   ]
  },
  {
   "cell_type": "code",
   "execution_count": 20,
   "metadata": {},
   "outputs": [],
   "source": [
    "#print(len(np.where(y_pred == 1)[0]))"
   ]
  },
  {
   "cell_type": "markdown",
   "metadata": {},
   "source": [
    "#### CSV Submission"
   ]
  },
  {
   "cell_type": "code",
   "execution_count": 21,
   "metadata": {},
   "outputs": [],
   "source": [
    "create_csv_submission(test_ids,yp,\"outputs/ridge_degre25_200features.csv\")"
   ]
  },
  {
   "cell_type": "markdown",
   "metadata": {},
   "source": [
    "## Train test split for our own cross validation"
   ]
  },
  {
   "cell_type": "markdown",
   "metadata": {},
   "source": [
    "####read me or smth\n",
    "\n",
    "- N c'est le nombre de loops\n",
    "- pour l'instant ca loop sur gamma mais si tu veux changer de param tu peux le modifier\n",
    "- initial_w, accs et f1s pas besoin de changer\n",
    "\n",
    "Utilise pas ridge i guess tfacon c'est pas celle qui nous interesse\n"
   ]
  },
  {
   "cell_type": "code",
   "execution_count": 41,
   "metadata": {},
   "outputs": [],
   "source": [
    "x_train_1, y_train_1, x_test_1, y_test_1 = split_train_test(y_train, x_train, 0.7)\n",
    "cleaned_x_train_1 = clean_data(labels, label_list, x_train_1)\n",
    "cleaned_x_test_1 = clean_data(labels, label_list, x_test_1)"
   ]
  },
  {
   "cell_type": "code",
   "execution_count": 42,
   "metadata": {},
   "outputs": [
    {
     "name": "stdout",
     "output_type": "stream",
     "text": [
      "y pred : '[-0.80789572 -0.80789572 -0.80789572 ... -0.80789572 -0.80789572\n",
      " -0.80789572]'.\n",
      "y pred : '[-0.57960261 -1.04903954 -0.75116857 ... -0.75180709 -0.93336801\n",
      " -1.01151047]'.\n",
      "y pred : '[-0.58225667 -1.08135794 -0.78217306 ... -0.78220046 -0.9489452\n",
      " -1.05288827]'.\n",
      "y pred : '[-0.55466114 -1.07539417 -0.77138072 ... -0.82376515 -0.95251885\n",
      " -1.05176642]'.\n",
      "y pred : '[-0.52821733 -1.07309483 -0.76749943 ... -0.8070941  -0.95027453\n",
      " -1.05359174]'.\n",
      "y pred : '[-0.52443741 -1.07448694 -0.76840808 ... -0.79364848 -0.95201939\n",
      " -1.05483073]'.\n",
      "y pred : '[-0.51546931 -1.07555611 -0.77880054 ... -0.79933347 -0.95063816\n",
      " -1.05038205]'.\n",
      "y pred : '[-0.52920179 -1.07696881 -0.77928535 ... -0.8059991  -0.94920432\n",
      " -1.049947  ]'.\n",
      "y pred : '[-0.5568357  -1.07594346 -0.78954365 ... -0.79117519 -0.94968318\n",
      " -1.05205936]'.\n",
      "y pred : '[-0.56453225 -1.07726911 -0.79026362 ... -0.78773177 -0.95063491\n",
      " -1.0520951 ]'.\n",
      "y pred : '[-0.56484202 -1.07669393 -0.79180093 ... -0.79593705 -0.95084241\n",
      " -1.053054  ]'.\n",
      "y pred : '[ 3.13548096 -1.08264459 -0.78999053 ... -0.79166716 -0.95715916\n",
      " -1.06622988]'.\n",
      "y pred : '[-0.57083298 -1.07300525 -0.79331802 ... -0.80785489 -0.95176398\n",
      " -1.05152741]'.\n",
      "y pred : '[-0.40153471 -1.08078541 -0.79814823 ... -0.79775758 -0.96017775\n",
      " -1.0602069 ]'.\n",
      "y pred : '[-1.2283269  -1.06913903 -0.79993831 ... -0.84322557 -0.95133867\n",
      " -1.03762211]'.\n",
      "y pred : '[-0.28327547 -1.07626867 -0.79145005 ... -0.80306146 -0.95369806\n",
      " -1.04586071]'.\n",
      "y pred : '[-0.91126435 -1.0707907  -0.87772588 ... -0.66770098 -0.90511526\n",
      " -1.06160557]'.\n",
      "y pred : '[-37.59234643  -1.32352753  19.7420033  ...  -0.3049467    0.24429216\n",
      "  -2.29065842]'.\n",
      "y pred : '[-1.87383603 -1.07312177 -0.67001847 ... -0.82483255 -0.94273274\n",
      " -1.08104482]'.\n",
      "y pred : '[-4.6603111  -1.08804289 -0.65200544 ... -1.16405311 -0.98858638\n",
      " -1.11832718]'.\n",
      "y pred : '[-2.76889986 -1.07907419 -0.75207299 ... -1.0355611  -0.91811928\n",
      " -1.05327334]'.\n",
      "y pred : '[-6.32703877 -1.06883356 -1.52509924 ... -1.80086208 -0.76595561\n",
      " -1.06415598]'.\n",
      "y pred : '[-5.33160671 -1.02266339 -0.54014477 ... -1.13865375 -0.98149669\n",
      " -1.36425192]'.\n",
      "y pred : '[-12.07659319  -1.21454314   0.52856783 ...  -0.76833847  -0.87619753\n",
      "  -0.81732759]'.\n",
      "y pred : '[ 12.97670916   1.82025175 -11.11184691 ... -13.59254014  -1.20722296\n",
      "   6.68409506]'.\n"
     ]
    }
   ],
   "source": [
    "N = 10\n",
    "max_iters = 300\n",
    "\n",
    "gammas = np.linspace(0.00000001, 0.1, N)\n",
    "#gammas = [0.018,0.185,0.019,0.0195,0.020]\n",
    "degree = range(25)\n",
    "#degree = 19\n",
    "#gammas = np.linspace(0.01,0.001,N)\n",
    "#gammas = np.linspace(0.00001, 0.1, N)\n",
    "\n",
    "lambda_ = 0.01\n",
    "#lambda_ = np.linspace(0.001, 0.1, N)\n",
    "\n",
    "initial_w = np.zeros(cleaned_x_train_1.shape[1])\n",
    "accs = []\n",
    "f1s = []\n",
    "\n",
    "for deg in degree:\n",
    "    #print(\"Gamma : '{}'.\".format(gamma))\n",
    "    # train\n",
    "    # choisi la methode de train qui t'interesse\n",
    "    poly_train = build_poly(cleaned_x_train_1, deg)\n",
    "    w, loss = ridge_regression(y_train_1, poly_train, lambda_)\n",
    "    #w, loss = mean_squared_error_gd(y_train_1, cleaned_x_train_1, initial_w, max_iters, gamma)\n",
    "    ## remplacer gamma par lambda \n",
    "    #w, loss = reg_logistic_regression(y_train_1, cleaned_x_train_1, lambda_, initial_w, max_iters, gamma)\n",
    "    #predict \n",
    "    # choisi la methode de test qui t'interresse (commente l'autre)\n",
    "    poly_test = build_poly(cleaned_x_test_1, deg)\n",
    "    yp = predict_labels_mse(w,poly_test)\n",
    "    #yp = predict_labels_logistic(w, cleaned_x_test_1)\n",
    "\n",
    "    # mesure accuracy\n",
    "    acc = measure_accuracy(y_test_1, yp)\n",
    "    f1 = measure_f1_score(y_test_1, yp)\n",
    "    accs.append(acc)\n",
    "    f1s.append(f1)"
   ]
  },
  {
   "cell_type": "code",
   "execution_count": 40,
   "metadata": {},
   "outputs": [
    {
     "name": "stdout",
     "output_type": "stream",
     "text": [
      "[0.6853921170255993, 0.7082486793986185, 0.6965258025193011, 0.7804043071921983, 0.8285757822023567, 0.9038906948394961, 0.9038297440065014, 0.7992685900040634, 0.891395774075579, 0.8841019910605445]\n",
      "[0.12588202088625458, 0.1418668578941078, 0.13005241700640652, 0.10343826469246402, 0.20057795253209532, 0.040369205801805454, 0.03663376411926325, 0.12527667109340415, 0.2394536529842783, 0.23290526457338803]\n"
     ]
    }
   ],
   "source": [
    "print(accs)\n",
    "print(f1s)"
   ]
  },
  {
   "cell_type": "code",
   "execution_count": 48,
   "metadata": {},
   "outputs": [
    {
     "data": {
      "text/plain": [
       "0.08900000000000001"
      ]
     },
     "execution_count": 48,
     "metadata": {},
     "output_type": "execute_result"
    }
   ],
   "source": [
    "lambda_ = np.linspace(0.001, 0.1, N)\n",
    "lambda_[9]"
   ]
  },
  {
   "cell_type": "code",
   "execution_count": null,
   "metadata": {},
   "outputs": [],
   "source": []
  },
  {
   "cell_type": "code",
   "execution_count": null,
   "metadata": {},
   "outputs": [],
   "source": []
  },
  {
   "cell_type": "code",
   "execution_count": 84,
   "metadata": {},
   "outputs": [
    {
     "name": "stdout",
     "output_type": "stream",
     "text": [
      "Indices of elements above the threshold:  [10, 11]\n"
     ]
    }
   ],
   "source": [
    "threshold = 0.19\n",
    "# Get the indices where values are greater than the threshold\n",
    "indices_above_threshold = [i for i, value in enumerate(f1s) if value > threshold]\n",
    "\n",
    "# Sort the indices\n",
    "indices_above_threshold.sort()\n",
    "\n",
    "print(\"Indices of elements above the threshold: \", indices_above_threshold)"
   ]
  },
  {
   "cell_type": "markdown",
   "metadata": {},
   "source": [
    "0.63 / 0.219 : entre 0.0156 et 0.0159 \n",
    "0.837 : 0.153 : 0.0156\n",
    "0.88 / 0.148 : 0.0157\n",
    "\n",
    "1ere fois\n",
    "je tente 300 et gamma = 0.0156 : [0.8348740349451442, 0.780607476635514]\n",
    "je tente 300 et gamma = 0.0157 :  [0.08033946251768034, 0.16027061705354018]\n",
    "2eme fois idem \n",
    "[0.9062474603819586, 0.8959162941893539]\n",
    "[0.027809965237543453, 0.1580936729663106]\n",
    "3eme fois\n",
    "[0.8829744006501422, 0.12064201544087769]\n",
    "[0.10683826949914715, 0.1655355903447212]\n",
    "\n",
    "\n",
    "gammas = np.linspace(0.01455,0.01655,N)\n",
    " 9 au cas ou 0.015392105263157894\n",
    " 10 0.74 / 0.195 : 0.015497368421052631\n",
    " 11 0.87 / 0.20  : 0.015602631578947368 \n",
    " 12 au cas ou : 0.015707894736842105\n",
    "il devrait exister un \n",
    "\n",
    "0.86 / 0.22 mais jsp quelle valeurs \n",
    "\n",
    "Visiblement rester a des chiffres exacts "
   ]
  },
  {
   "cell_type": "code",
   "execution_count": null,
   "metadata": {},
   "outputs": [],
   "source": [
    "[0.9109101991060544, 0.8207029662738724, 0.9089800893945551, 0.9085331166192605, 0.9055160503860219, 0.6329642421779764, 0.9071820398212109, 0.9067249085737505, 0.13592035757822024, 0.13160300690776108, 0.9076696464851687, 0.9055160503860219, 0.7161722876879317, 0.7563490451036164, 0.9104937017472572, 0.9076594880130029, 0.09873019097927671, 0.22479683055668429, 0.6392929703372613, 0.9107273466070703, 0.8376980902072328, 0.09902478667208452, 0.31964648516863065, 0.0904611946363267]\n",
    "[0.00022799817601459188, 0.09291807996710864, 0.03135135135135135, 0.006838738142510479, 0.02413178050571818, 0.21964968359214704, 0.025594539831502613, 0.047312720481427685, 0.15646879152700371, 0.16390364132507848, 0.052735799895779055, 0.054103528933184174, 0.1750324790362584, 0.19310344827586207, 0.0036186814429492254, 0.018570503131073203, 0.163112071161084, 0.1593575465150864, 0.12429712932820361, 0.00022753128555176336, 0.0610049955921246, 0.16367751060820368, 0.1621756861567715, 0.1635135513887721]"
   ]
  },
  {
   "cell_type": "code",
   "execution_count": 60,
   "metadata": {},
   "outputs": [
    {
     "name": "stdout",
     "output_type": "stream",
     "text": [
      "[0.910930516050386, 0.910930516050386, 0.9099756196668021, 0.8630434782608696, 0.6709670865501829, 0.2854937017472572, 0.5486286062576189, 0.9109203575782202, 0.9109203575782202, 0.910930516050386, 0.9095184884193417, 0.9108187728565623, 0.910930516050386, 0.910930516050386, 0.09434173100365705, 0.910930516050386, 0.08906948394961398, 0.08906948394961398, 0.08907964242177976, 0.08906948394961398]\n",
      "[0.0, 0.0, 0.022501654533421574, 0.21970135432341706, 0.1793767418292374, 0.14222298104831826, 0.13871174087499272, 0.0, 0.0, 0.0, 0.0017931189061974671, 0.0, 0.0, 0.0, 0.1627018041454962, 0.0, 0.16356988284456384, 0.16356988284456384, 0.16357140858339475, 0.16356988284456384]\n"
     ]
    }
   ],
   "source": [
    "# Previous Test cant remember param gamma rip for the 0.86 : 0.22\n",
    "print(accs)\n",
    "print(f1s)"
   ]
  },
  {
   "cell_type": "code",
   "execution_count": 45,
   "metadata": {},
   "outputs": [
    {
     "data": {
      "image/png": "[encoded data removed]",
      "text/plain": [
       "<Figure size 432x288 with 1 Axes>"
      ]
     },
     "metadata": {
      "needs_background": "light"
     },
     "output_type": "display_data"
    }
   ],
   "source": [
    "# tu peux plot tes tableaux ici ca fait ton parametre x accuracies et f1 \n",
    "# (change le gammas si t'as changé de param la haut)\n",
    "plt.plot(degree,accs,\"r\")\n",
    "plt.plot(degree, f1s, \"b\")\n",
    "\n",
    "plt.title(\"ridge regression\")\n",
    "plt.legend([\"accuracy\", \"f1\"])\n",
    "plt.xlabel(\"degrees\")\n",
    "plt.ylabel(\"Accuracy and F1 (%)\")\n",
    "#plt.xscale('log')\n",
    "plt.show()"
   ]
  },
  {
   "cell_type": "code",
   "execution_count": null,
   "metadata": {},
   "outputs": [],
   "source": []
  },
  {
   "cell_type": "code",
   "execution_count": null,
   "metadata": {},
   "outputs": [],
   "source": []
  },
  {
   "cell_type": "code",
   "execution_count": 47,
   "metadata": {},
   "outputs": [
    {
     "name": "stdout",
     "output_type": "stream",
     "text": [
      "0.8917005282405526\n"
     ]
    },
    {
     "data": {
      "text/plain": [
       "0.2413719490500249"
      ]
     },
     "execution_count": 47,
     "metadata": {},
     "output_type": "execute_result"
    }
   ],
   "source": [
    "print(accs[15])\n",
    "f1s[15]"
   ]
  },
  {
   "cell_type": "code",
   "execution_count": null,
   "metadata": {},
   "outputs": [],
   "source": []
  },
  {
   "cell_type": "code",
   "execution_count": null,
   "metadata": {},
   "outputs": [],
   "source": []
  },
  {
   "cell_type": "markdown",
   "metadata": {},
   "source": [
    "# testing which method is better"
   ]
  },
  {
   "cell_type": "code",
   "execution_count": 28,
   "metadata": {},
   "outputs": [
    {
     "name": "stdout",
     "output_type": "stream",
     "text": [
      "accuracy ridge:\n",
      "0.9063693620479479\n",
      "f1 ridge:\n",
      "0.19382489285401908\n",
      "accuracy mse gd:\n",
      "0.910930516050386\n",
      "f1 mse gd:\n",
      "0.0\n",
      "accuracy mse sgd:\n",
      "0.8993295408370581\n",
      "f1 mse sgd:\n",
      "0.15385928961748635\n",
      "accuracy least squares:\n",
      "0.910930516050386\n",
      "f1 mse least squares:\n",
      "0.0\n",
      "accuracy logistic reg:\n",
      "0.910930516050386\n",
      "f1 mse logistic reg:\n",
      "0.0\n",
      "accuracy reg logistic reg:\n",
      "0.910930516050386\n",
      "f1 mse reg logistic reg:\n",
      "0.0\n"
     ]
    }
   ],
   "source": [
    "gamma = 0.01\n",
    "lambda_ = 0.0000001\n",
    "max_iters = 1000\n",
    "degree = 9\n",
    "initial_w = np.zeros(cleaned_x_train_1.shape[1])\n",
    "\n",
    "# ridge\n",
    "poly_train = build_poly(cleaned_x_train_1, degree)\n",
    "w, loss = ridge_regression(y_train_1, poly_train, lambda_)\n",
    "poly_test = build_poly(cleaned_x_test_1, degree)\n",
    "yp = predict_labels_mse(w, poly_test)\n",
    "\n",
    "print(\"accuracy ridge:\")\n",
    "accuracy = measure_accuracy(y_test_1, yp)\n",
    "print(accuracy)\n",
    "print(\"f1 ridge:\")\n",
    "f1 = measure_f1_score(y_test_1, yp)\n",
    "print(f1)\n",
    "\n",
    "# mse gd\n",
    "w, loss = mean_squared_error_gd(y_train_1, cleaned_x_train_1, initial_w, max_iters, gamma)\n",
    "yp = predict_labels_mse(w, cleaned_x_test_1)\n",
    "\n",
    "print(\"accuracy mse gd:\")\n",
    "accuracy = measure_accuracy(y_test_1, yp)\n",
    "print(accuracy)\n",
    "print(\"f1 mse gd:\")\n",
    "f1 = measure_f1_score(y_test_1, yp)\n",
    "print(f1)\n",
    "\n",
    "# mse sgd\n",
    "w, loss = mean_squared_error_sgd(y_train_1, cleaned_x_train_1, initial_w, max_iters, gamma)\n",
    "yp = predict_labels_mse(w, cleaned_x_test_1)\n",
    "\n",
    "print(\"accuracy mse sgd:\")\n",
    "accuracy = measure_accuracy(y_test_1, yp)\n",
    "print(accuracy)\n",
    "print(\"f1 mse sgd:\")\n",
    "f1 = measure_f1_score(y_test_1, yp)\n",
    "print(f1)\n",
    "\n",
    "# mse sgd\n",
    "w, loss = least_squares(y_train_1, cleaned_x_train_1)\n",
    "yp = predict_labels_mse(w, cleaned_x_test_1)\n",
    "\n",
    "print(\"accuracy least squares:\")\n",
    "accuracy = measure_accuracy(y_test_1, yp)\n",
    "print(accuracy)\n",
    "print(\"f1 mse least squares:\")\n",
    "f1 = measure_f1_score(y_test_1, yp)\n",
    "print(f1)\n",
    "\n",
    "# logistic reg\n",
    "w, loss = logistic_regression(y_train_1, cleaned_x_train_1, initial_w, max_iters, gamma)\n",
    "yp = predict_labels_logistic(w, cleaned_x_test_1)\n",
    "\n",
    "print(\"accuracy logistic reg:\")\n",
    "accuracy = measure_accuracy(y_test_1, yp)\n",
    "print(accuracy)\n",
    "print(\"f1 mse logistic reg:\")\n",
    "f1 = measure_f1_score(y_test_1, yp)\n",
    "print(f1)\n",
    "\n",
    "#  reg logistic reg\n",
    "w, loss = reg_logistic_regression(y_train_1, cleaned_x_train_1, lambda_, initial_w, max_iters, gamma)\n",
    "yp = predict_labels_logistic(w, cleaned_x_test_1)\n",
    "\n",
    "print(\"accuracy reg logistic reg:\")\n",
    "accuracy = measure_accuracy(y_test_1, yp)\n",
    "print(accuracy)\n",
    "print(\"f1 mse reg logistic reg:\")\n",
    "f1 = measure_f1_score(y_test_1, yp)\n",
    "print(f1)\n"
   ]
  },
  {
   "cell_type": "code",
   "execution_count": null,
   "metadata": {},
   "outputs": [],
   "source": [
    "lamdas = 0.0000001\n",
    "accs = []\n",
    "f1s = []\n",
    "degrees = range(25)\n",
    "for deg in degrees:\n",
    "\n",
    "    # ridge\n",
    "    poly_train = build_poly(cleaned_x_train_1, deg)\n",
    "    w, loss = ridge_regression(y_train_1, poly_train, lamdas)\n",
    "    poly_test = build_poly(cleaned_x_test_1, deg)\n",
    "    yp = predict_labels_mse(w, poly_test)\n",
    "\n",
    "    accuracy = measure_accuracy(y_test_1, yp)\n",
    "    f1 = measure_f1_score(y_test_1, yp)\n",
    "    accs.append(accuracy)\n",
    "    f1s.append(f1)\n",
    "\n",
    "\n"
   ]
  }
 ],
 "metadata": {
  "kernelspec": {
   "display_name": "Python 3",
   "language": "python",
   "name": "python3"
  },
  "language_info": {
   "codemirror_mode": {
    "name": "ipython",
    "version": 3
   },
   "file_extension": ".py",
   "mimetype": "text/x-python",
   "name": "python",
   "nbconvert_exporter": "python",
   "pygments_lexer": "ipython3",
   "version": "3.9.18"
  }
 },
 "nbformat": 4,
 "nbformat_minor": 2
}
