{
 "cells": [
  {
   "cell_type": "code",
   "execution_count": 1,
   "metadata": {},
   "outputs": [],
   "source": [
    "# Useful starting lines\n",
    "%matplotlib inline\n",
    "import numpy as np\n",
    "import matplotlib.pyplot as plt\n",
    "from helpers import *\n",
    "\n",
    "# from test_utils import test\n",
    "\n",
    "%load_ext autoreload\n",
    "%autoreload 2"
   ]
  },
  {
   "cell_type": "code",
   "execution_count": 2,
   "metadata": {},
   "outputs": [
    {
     "name": "stdout",
     "output_type": "stream",
     "text": [
      "[1. 1. 1. ... 1. 1. 1.]\n"
     ]
    }
   ],
   "source": [
    "\n",
    "y , tx , ids = load_csv_data(\"dataset/x_test.csv\")\n",
    "\n",
    "\n",
    "# 1 if had a heart attack\n",
    "print(y)\n",
    "\n",
    "\n"
   ]
  },
  {
   "cell_type": "code",
   "execution_count": 3,
   "metadata": {},
   "outputs": [
    {
     "name": "stdout",
     "output_type": "stream",
     "text": [
      "[[2.0820150e+06 2.0000000e+00 8.0000000e+00 ... 1.0000000e+00\n",
      "  1.0000000e+00 2.0000000e+00]\n",
      " [1.1920150e+06 1.0000000e+00 1.9000000e+01 ...           nan\n",
      "            nan 2.0000000e+00]\n",
      " [5.2620150e+06 5.0000000e+00 2.6000000e+01 ... 1.0000000e+00\n",
      "  1.0000000e+00 2.0000000e+00]\n",
      " ...\n",
      " [1.1272015e+07 1.1000000e+01 2.7000000e+01 ... 9.0000000e+00\n",
      "  9.0000000e+00           nan]\n",
      " [1.2122015e+07 1.2000000e+01 1.2000000e+01 ... 1.0000000e+00\n",
      "  1.0000000e+00 2.0000000e+00]\n",
      " [1.2282015e+07 1.2000000e+01 2.8000000e+01 ...           nan\n",
      "            nan 2.0000000e+00]]\n"
     ]
    }
   ],
   "source": [
    "# Commence par IDATE ? \n",
    "print(tx)"
   ]
  },
  {
   "cell_type": "code",
   "execution_count": 4,
   "metadata": {},
   "outputs": [
    {
     "name": "stdout",
     "output_type": "stream",
     "text": [
      "[44 27 35 ...  9 15 45]\n"
     ]
    }
   ],
   "source": [
    "# List des participants (States ?)\n",
    "\n",
    "print(ids)"
   ]
  }
 ],
 "metadata": {
  "kernelspec": {
   "display_name": "Python 3",
   "language": "python",
   "name": "python3"
  },
  "language_info": {
   "codemirror_mode": {
    "name": "ipython",
    "version": 3
   },
   "file_extension": ".py",
   "mimetype": "text/x-python",
   "name": "python",
   "nbconvert_exporter": "python",
   "pygments_lexer": "ipython3",
   "version": "3.11.0"
  }
 },
 "nbformat": 4,
 "nbformat_minor": 2
}
