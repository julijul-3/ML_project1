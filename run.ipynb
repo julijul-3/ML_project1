{
 "cells": [
  {
   "cell_type": "code",
   "execution_count": 72,
   "metadata": {},
   "outputs": [
    {
     "name": "stdout",
     "output_type": "stream",
     "text": [
      "The autoreload extension is already loaded. To reload it, use:\n",
      "  %reload_ext autoreload\n"
     ]
    }
   ],
   "source": [
    "# Useful starting lines\n",
    "%matplotlib inline\n",
    "import numpy as np\n",
    "import matplotlib.pyplot as plt\n",
    "from helpers import *\n",
    "\n",
    "# from test_utils import test\n",
    "\n",
    "%load_ext autoreload\n",
    "%autoreload 2"
   ]
  },
  {
   "cell_type": "markdown",
   "metadata": {},
   "source": [
    "## Loading"
   ]
  },
  {
   "cell_type": "markdown",
   "metadata": {},
   "source": [
    "### All variables Cleanup"
   ]
  },
  {
   "cell_type": "code",
   "execution_count": 63,
   "metadata": {},
   "outputs": [
    {
     "name": "stdout",
     "output_type": "stream",
     "text": [
      "13\n",
      "[218 231 232 234 242 253 257 258 259 264 276 277 301]\n",
      "13\n",
      "13\n"
     ]
    }
   ],
   "source": [
    "### remettre \"ID\" pour csv \n",
    "label_list = [\"MSCODE\", \"_HCVU651\", \"_RFHYPE5\", \"_RFCHOL\", \"_RACE\", \"_BMI5\", \"_EDUCAG\", \"_INCOMG\", \"_SMOKER3\", \"_DRNKWEK\", \"_FRUTSUM\", \"_VEGESUM\", \"PA1MIN_\"]\n",
    "label_ids = np.where(np.isin(labels, label_list))[0]\n",
    "# list taken from website -1 is actually None \n",
    "exception_list = [-1,9,9,9,9,-1,9,9,9,99900,-1,-1,-1]\n",
    "\n",
    "print(len(exception_list))\n",
    "\n",
    "print(label_ids)\n",
    "print(len(label_list))\n",
    "print(len(label_ids))\n"
   ]
  },
  {
   "cell_type": "code",
   "execution_count": 97,
   "metadata": {},
   "outputs": [
    {
     "name": "stdout",
     "output_type": "stream",
     "text": [
      "[[ 30  30  30 ...  30  30  30]\n",
      " [ 60  60  60 ...  60  60  60]\n",
      " [100 100 100 ... 100 100 100]\n",
      " ...\n",
      " [ 82  82  82 ...  82  82  82]\n",
      " [ 82  82  82 ...  82  82  82]\n",
      " [  0   0   0 ...   0   0   0]]\n",
      "109379\n"
     ]
    }
   ],
   "source": [
    "### ajoute initialement les ids\n",
    "#tab = [ids]\n",
    "\n",
    "tab_r = []\n",
    "\n",
    "label_arr = np.array(label_list)\n",
    "\n",
    "for i, j in zip(label_list, exception_list):\n",
    "    id_r = np.where(label_arr == i)[0][0]  # Find the index using NumPy\n",
    "    var_r = y[:, label_ids[id]]\n",
    "    tab_r.append(data_clean(var_r, j))\n",
    "\n",
    "\n",
    "resulting_array = np.array(tab_r).T\n",
    "\n",
    "print(resulting_array)\n",
    "print(len(resulting_array))"
   ]
  },
  {
   "cell_type": "markdown",
   "metadata": {},
   "source": [
    "## Run de A a Z - Ridge Regression "
   ]
  },
  {
   "cell_type": "markdown",
   "metadata": {},
   "source": [
    "### Loading  data "
   ]
  },
  {
   "cell_type": "code",
   "execution_count": 1,
   "metadata": {},
   "outputs": [
    {
     "ename": "NameError",
     "evalue": "name 'load_csv_data' is not defined",
     "output_type": "error",
     "traceback": [
      "\u001b[1;31m---------------------------------------------------------------------------\u001b[0m",
      "\u001b[1;31mNameError\u001b[0m                                 Traceback (most recent call last)",
      "\u001b[1;32mc:\\Users\\duval\\Documents\\GitHub\\ML_project1\\run.ipynb Cell 8\u001b[0m line \u001b[0;36m1\n\u001b[1;32m----> <a href='vscode-notebook-cell:/c%3A/Users/duval/Documents/GitHub/ML_project1/run.ipynb#X10sZmlsZQ%3D%3D?line=0'>1</a>\u001b[0m x_train, x_test, y_train, train_ids, test_ids \u001b[39m=\u001b[39m load_csv_data(\u001b[39m\"\u001b[39m\u001b[39mdataset\u001b[39m\u001b[39m\"\u001b[39m)\n",
      "\u001b[1;31mNameError\u001b[0m: name 'load_csv_data' is not defined"
     ]
    }
   ],
   "source": [
    "x_train, x_test, y_train, train_ids, test_ids = load_csv_data(\"dataset\")\n"
   ]
  },
  {
   "cell_type": "markdown",
   "metadata": {},
   "source": [
    "### Output labels "
   ]
  },
  {
   "cell_type": "code",
   "execution_count": 163,
   "metadata": {},
   "outputs": [],
   "source": [
    "labels = np.genfromtxt(\"dataset/x_test.csv\", delimiter=\",\", dtype = str, max_rows=1)\n",
    "labels = np.delete(labels,0)"
   ]
  },
  {
   "cell_type": "code",
   "execution_count": 164,
   "metadata": {},
   "outputs": [
    {
     "data": {
      "text/plain": [
       "'_STATE'"
      ]
     },
     "execution_count": 164,
     "metadata": {},
     "output_type": "execute_result"
    }
   ],
   "source": [
    "labels[0]"
   ]
  },
  {
   "cell_type": "markdown",
   "metadata": {},
   "source": [
    "### Cleaning"
   ]
  },
  {
   "cell_type": "code",
   "execution_count": 165,
   "metadata": {},
   "outputs": [
    {
     "name": "stdout",
     "output_type": "stream",
     "text": [
      "['MSCODE', '_HCVU651', '_RFHYPE5', '_RFCHOL', '_RACE', '_BMI5', '_EDUCAG', '_INCOMG', '_SMOKER3', '_DRNKWEK', '_FRUTSUM', '_VEGESUM', 'PA1MIN_']\n",
      "[218 231 232 234 242 253 257 258 259 264 276 277 301]\n",
      "13\n",
      "13\n",
      "13\n"
     ]
    }
   ],
   "source": [
    "### add \"ID\" for csv file creation\n",
    "label_list = [\"MSCODE\", \"_HCVU651\", \"_RFHYPE5\", \"_RFCHOL\", \"_RACE\", \"_BMI5\", \"_EDUCAG\", \"_INCOMG\", \"_SMOKER3\", \"_DRNKWEK\", \"_FRUTSUM\", \"_VEGESUM\", \"PA1MIN_\"]\n",
    "label_ids = np.where(np.isin(labels, label_list))[0]\n",
    "\n",
    "# list taken from website -1 is actually None \n",
    "exception_list = [-1,9,9,9,9,-1,9,9,9,99900,-1,-1,-1]\n",
    "\n",
    "print(label_list)\n",
    "print(label_ids)\n",
    "print(len(label_list))\n",
    "print(len(label_ids))\n",
    "print(len(exception_list))"
   ]
  },
  {
   "cell_type": "code",
   "execution_count": 185,
   "metadata": {},
   "outputs": [
    {
     "data": {
      "text/plain": [
       "array([3.60000000e+01, 1.10000000e+01, 1.11620150e+07, 1.10000000e+01,\n",
       "       1.60000000e+01, 2.01500000e+03, 1.10000000e+03, 2.01500858e+09,\n",
       "       2.01500858e+09, 1.00000000e+00, 1.00000000e+00,            nan,\n",
       "       1.00000000e+00, 2.00000000e+00,            nan, 1.00000000e+00,\n",
       "       0.00000000e+00, 1.00000000e+00,            nan,            nan,\n",
       "                  nan,            nan,            nan,            nan,\n",
       "                  nan,            nan, 3.00000000e+00, 1.00000000e+01,\n",
       "       8.80000000e+01, 3.00000000e+01, 1.00000000e+00, 1.00000000e+00,\n",
       "       2.00000000e+00, 1.00000000e+00, 1.00000000e+00, 1.00000000e+00,\n",
       "       1.00000000e+00, 1.00000000e+00, 2.00000000e+00, 1.00000000e+00,\n",
       "       1.00000000e+00, 1.00000000e+00, 2.00000000e+00, 2.00000000e+00,\n",
       "       1.00000000e+00, 1.00000000e+00, 2.00000000e+00, 2.00000000e+00,\n",
       "       1.00000000e+00, 6.50000000e+01, 2.00000000e+00, 3.00000000e+00,\n",
       "       5.00000000e+00, 2.00000000e+00, 2.00000000e+00,            nan,\n",
       "       2.00000000e+00, 2.00000000e+00, 8.00000000e+00, 8.80000000e+01,\n",
       "       1.00000000e+00, 2.00000000e+00, 2.80000000e+02, 5.03000000e+02,\n",
       "                  nan, 1.00000000e+00, 1.00000000e+00, 1.00000000e+00,\n",
       "       2.00000000e+00, 1.00000000e+00, 1.00000000e+00, 1.00000000e+00,\n",
       "       2.00000000e+00,            nan,            nan,            nan,\n",
       "       3.00000000e+00, 8.88000000e+02,            nan,            nan,\n",
       "                  nan, 1.01000000e+02, 3.20000000e+02, 3.01000000e+02,\n",
       "       3.12000000e+02, 2.04000000e+02, 2.05000000e+02, 2.00000000e+00,\n",
       "                  nan,            nan,            nan,            nan,\n",
       "                  nan,            nan, 8.88000000e+02, 1.00000000e+00,\n",
       "       9.00000000e+00, 9.00000000e+00, 7.00000000e+00, 1.00000000e+00,\n",
       "       1.00000000e+00, 1.20150000e+04, 5.00000000e+00, 1.00000000e+00,\n",
       "       7.00000000e+00,            nan,            nan,            nan,\n",
       "                  nan,            nan,            nan,            nan,\n",
       "                  nan,            nan,            nan,            nan,\n",
       "                  nan,            nan,            nan,            nan,\n",
       "                  nan,            nan,            nan,            nan,\n",
       "                  nan,            nan,            nan,            nan,\n",
       "                  nan,            nan,            nan,            nan,\n",
       "                  nan,            nan,            nan,            nan,\n",
       "                  nan,            nan,            nan,            nan,\n",
       "                  nan,            nan,            nan,            nan,\n",
       "                  nan,            nan,            nan,            nan,\n",
       "                  nan,            nan,            nan,            nan,\n",
       "                  nan,            nan,            nan,            nan,\n",
       "                  nan,            nan,            nan,            nan,\n",
       "                  nan,            nan,            nan,            nan,\n",
       "                  nan,            nan,            nan,            nan,\n",
       "                  nan,            nan,            nan,            nan,\n",
       "                  nan,            nan,            nan,            nan,\n",
       "                  nan,            nan,            nan,            nan,\n",
       "                  nan,            nan,            nan,            nan,\n",
       "                  nan,            nan,            nan,            nan,\n",
       "                  nan,            nan,            nan,            nan,\n",
       "                  nan,            nan,            nan,            nan,\n",
       "                  nan,            nan, 1.00000000e+00, 4.00000000e+00,\n",
       "                  nan,            nan,            nan,            nan,\n",
       "                  nan,            nan,            nan,            nan,\n",
       "                  nan,            nan,            nan,            nan,\n",
       "                  nan,            nan,            nan,            nan,\n",
       "       1.20000000e+01, 1.00000000e+00, 1.00000000e+00, 3.61071000e+05,\n",
       "       4.98919677e+01, 1.00000000e+00, 4.98919677e+01, 9.00000000e+00,\n",
       "                  nan,            nan,            nan, 9.00000000e+00,\n",
       "                  nan, 3.67616564e+02, 1.00000000e+00, 1.00000000e+00,\n",
       "       2.00000000e+00, 1.00000000e+00, 1.00000000e+00, 2.00000000e+00,\n",
       "       2.00000000e+00, 1.00000000e+00, 1.00000000e+00, 1.00000000e+00,\n",
       "       1.00000000e+00, 9.00000000e+00, 1.00000000e+00, 1.00000000e+00,\n",
       "       9.00000000e+00,            nan, 1.30000000e+01, 2.00000000e+00,\n",
       "       8.00000000e+01, 6.00000000e+00, 6.30000000e+01, 1.60000000e+00,\n",
       "       1.27010000e+02, 4.96000000e+01, 4.00000000e+00, 2.00000000e+00,\n",
       "       1.00000000e+00, 3.00000000e+00, 1.00000000e+00, 4.00000000e+00,\n",
       "       1.00000000e+00, 2.00000000e+00, 0.00000000e+00, 1.00000000e+00,\n",
       "       0.00000000e+00, 1.00000000e+00, 1.00000000e+00, 6.70000000e-01,\n",
       "       3.00000000e-02, 4.00000000e-01, 5.70000000e-01, 7.10000000e-01,\n",
       "       0.00000000e+00, 0.00000000e+00, 1.00000000e+00, 1.00000000e+00,\n",
       "       1.67000000e+00, 1.71000000e+00, 1.00000000e+00, 1.00000000e+00,\n",
       "       1.00000000e+00, 1.00000000e+00, 0.00000000e+00, 0.00000000e+00,\n",
       "       2.00000000e+00,            nan,            nan, 1.76600000e+01,\n",
       "       3.03000000e+00,            nan,            nan,            nan,\n",
       "                  nan,            nan,            nan,            nan,\n",
       "                  nan, 0.00000000e+00, 0.00000000e+00,            nan,\n",
       "                  nan, 4.82813551e+02, 8.21005598e+01,            nan,\n",
       "                  nan, 4.00000000e+00, 2.00000000e+00, 3.00000000e+00,\n",
       "       3.00000000e+00, 2.00000000e+00, 2.00000000e+00, 4.00000000e+00,\n",
       "       2.00000000e+00, 1.00000000e+00, 9.00000000e+00, 9.00000000e+00,\n",
       "       1.00000000e+00, 1.00000000e+00, 1.00000000e+00, 1.00000000e+00,\n",
       "       9.00000000e+00])"
      ]
     },
     "execution_count": 185,
     "metadata": {},
     "output_type": "execute_result"
    }
   ],
   "source": [
    "x_train[:][218]\n"
   ]
  },
  {
   "cell_type": "code",
   "execution_count": 146,
   "metadata": {},
   "outputs": [
    {
     "name": "stdout",
     "output_type": "stream",
     "text": [
      "218\n",
      "There are NaN values\n",
      "231\n",
      "232\n",
      "234\n",
      "242\n",
      "253\n",
      "There are NaN values\n",
      "257\n",
      "258\n",
      "259\n",
      "264\n",
      "276\n",
      "There are NaN values\n",
      "277\n",
      "301\n",
      "There are NaN values\n",
      "[[2.54225970e+00 1.00000000e+00 1.00000000e+00 ... 7.10000000e-01\n",
      "  1.21000000e+00 2.00000000e+02]\n",
      " [5.00000000e+00 1.00000000e+00 2.00000000e+00 ... 1.36179859e+00\n",
      "  1.94943283e+00 4.82813551e+02]\n",
      " [1.00000000e+00 1.00000000e+00 1.00000000e+00 ... 2.03000000e+00\n",
      "  2.86000000e+00 9.00000000e+01]\n",
      " ...\n",
      " [1.00000000e+00 1.00000000e+00 1.00000000e+00 ... 1.00000000e+00\n",
      "  7.80000000e-01 1.20000000e+02]\n",
      " [5.00000000e+00 1.00000000e+00 1.00000000e+00 ... 7.00000000e-02\n",
      "  3.60000000e-01 2.80000000e+01]\n",
      " [1.00000000e+00 1.00000000e+00 2.00000000e+00 ... 4.00000000e+00\n",
      "  7.00000000e+00 0.00000000e+00]]\n",
      "328135\n",
      "13\n"
     ]
    }
   ],
   "source": [
    "tab_train = []\n",
    "label_arr = np.array(label_list)\n",
    "\n",
    "for i, j in zip(label_list, exception_list):\n",
    "    id = np.where(label_arr == i)[0][0] \n",
    "    var = x_train[:, label_ids[id]]\n",
    "    print(label_ids[id])\n",
    "    tab_train.append(data_clean(var, j))\n",
    "\n",
    "cleaned_x_train = np.array(tab_train).T\n",
    "\n",
    "print(cleaned_x_train)\n",
    "print(len(cleaned_x_train))\n",
    "print(len(cleaned_x_train[0]))"
   ]
  },
  {
   "cell_type": "markdown",
   "metadata": {},
   "source": [
    "### Training"
   ]
  },
  {
   "cell_type": "markdown",
   "metadata": {},
   "source": [
    "#### Ridge regression"
   ]
  },
  {
   "cell_type": "code",
   "execution_count": 59,
   "metadata": {},
   "outputs": [],
   "source": [
    "lambda_ = 0.0001\n",
    "degree = 7\n",
    "## tx is cleaned data \n",
    "poly = build_poly(resulting_array_t,degree)\n",
    "w , loss = ridge_regression(yb,poly,lambda_)"
   ]
  },
  {
   "cell_type": "code",
   "execution_count": 60,
   "metadata": {},
   "outputs": [
    {
     "name": "stdout",
     "output_type": "stream",
     "text": [
      "[ 1.56537189e-02  1.34991226e-02  1.54709421e-02  1.54765743e-02\n",
      "  1.54760025e-02 -7.72468004e-02 -7.58913295e-03  1.30106606e-02\n",
      "  9.76146968e-03  1.33910074e-02 -7.82318362e-06  7.32856501e-04\n",
      " -3.49111254e-03  5.15987981e-06  9.79173925e-03  1.51053884e-02\n",
      "  1.51222850e-02  1.51205697e-02 -4.87075070e-02  2.86958669e-04\n",
      "  8.60427231e-03  1.94257734e-03  9.59241756e-03  1.40082321e-10\n",
      "  1.88029531e-04  1.99166118e-04 -6.57706662e-11  4.06470659e-03\n",
      "  1.43742811e-02  1.44137061e-02  1.44097038e-02  6.92860312e-02\n",
      " -4.42143992e-06  2.11881698e-03 -5.25788581e-03  3.92243482e-03\n",
      " -8.10571012e-12 -3.82436291e-06 -2.53239109e-06  1.67363363e-12\n",
      " -2.91463574e-03  1.29120663e-02  1.29965487e-02  1.29879726e-02\n",
      " -2.82315284e-02  2.30405430e-08 -5.11757412e-03 -5.53092270e-03\n",
      " -2.64908212e-03 -4.10933693e-12  1.80794218e-08  8.15377990e-09\n",
      " -2.47779878e-12 -6.39151114e-03  9.98763718e-03  1.01622358e-02\n",
      "  1.01445083e-02  5.39570779e-03 -1.55133371e-12 -7.37665283e-03\n",
      "  4.83953004e-03 -5.53957973e-03  2.35429358e-12  7.09244537e-11\n",
      " -6.58137022e-11  3.73292917e-13  3.38806518e-03  4.13877756e-03\n",
      "  4.49360624e-03  4.45758327e-03 -4.95145990e-04 -4.82030960e-14\n",
      "  4.78702750e-03 -1.19035378e-03  3.22581758e-03  8.37426047e-13\n",
      "  4.61351847e-11  8.26015375e-11  1.09732937e-12 -4.08765982e-04\n",
      " -7.55893975e-03 -6.84365271e-03 -6.91627189e-03  1.75406212e-05\n",
      " -9.55310355e-13 -6.77609841e-04  9.52497888e-05 -4.46879517e-04\n",
      " -1.20736335e-12 -7.12070065e-11 -3.62795773e-11  3.54063792e-12]\n",
      "0.03697652145421762\n"
     ]
    }
   ],
   "source": [
    "print(w)\n",
    "print(loss)"
   ]
  },
  {
   "cell_type": "markdown",
   "metadata": {},
   "source": [
    "#### Testing"
   ]
  },
  {
   "cell_type": "code",
   "execution_count": 68,
   "metadata": {},
   "outputs": [],
   "source": [
    "poly_test = build_poly(resulting_array,degree)\n",
    "                                 "
   ]
  },
  {
   "cell_type": "markdown",
   "metadata": {},
   "source": [
    "#### Prediction"
   ]
  },
  {
   "cell_type": "code",
   "execution_count": 69,
   "metadata": {},
   "outputs": [],
   "source": [
    "yp = predict_labels(w,poly_test)"
   ]
  },
  {
   "cell_type": "code",
   "execution_count": 70,
   "metadata": {},
   "outputs": [
    {
     "name": "stdout",
     "output_type": "stream",
     "text": [
      "[ 1. -1.  1. ...  1.  1.  1.]\n"
     ]
    }
   ],
   "source": [
    "print(yp)"
   ]
  },
  {
   "cell_type": "markdown",
   "metadata": {},
   "source": [
    "#### CSV Submission"
   ]
  },
  {
   "cell_type": "code",
   "execution_count": 74,
   "metadata": {},
   "outputs": [],
   "source": [
    "create_csv_submission(ids,yp,\"ridge_1e-4_7_output.csv\")"
   ]
  }
 ],
 "metadata": {
  "kernelspec": {
   "display_name": "Python 3",
   "language": "python",
   "name": "python3"
  },
  "language_info": {
   "codemirror_mode": {
    "name": "ipython",
    "version": 3
   },
   "file_extension": ".py",
   "mimetype": "text/x-python",
   "name": "python",
   "nbconvert_exporter": "python",
   "pygments_lexer": "ipython3",
   "version": "3.11.0"
  }
 },
 "nbformat": 4,
 "nbformat_minor": 2
}
