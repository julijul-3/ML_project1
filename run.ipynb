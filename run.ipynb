{
 "cells": [
  {
   "cell_type": "code",
   "execution_count": 34,
   "metadata": {},
   "outputs": [
    {
     "name": "stdout",
     "output_type": "stream",
     "text": [
      "The autoreload extension is already loaded. To reload it, use:\n",
      "  %reload_ext autoreload\n"
     ]
    }
   ],
   "source": [
    "# Useful starting lines\n",
    "%matplotlib inline\n",
    "import numpy as np\n",
    "import matplotlib.pyplot as plt\n",
    "from helpers import *\n",
    "from implementations import *\n",
    "\n",
    "# from test_utils import test\n",
    "\n",
    "%load_ext autoreload\n",
    "%autoreload 2"
   ]
  },
  {
   "cell_type": "markdown",
   "metadata": {},
   "source": [
    "## Run de A a Z"
   ]
  },
  {
   "cell_type": "markdown",
   "metadata": {},
   "source": [
    "### Loading  data "
   ]
  },
  {
   "cell_type": "code",
   "execution_count": 35,
   "metadata": {},
   "outputs": [],
   "source": [
    "x_train, x_test, y_train, train_ids, test_ids = load_csv_data(\"dataset\")\n"
   ]
  },
  {
   "cell_type": "markdown",
   "metadata": {},
   "source": [
    "### Extract labels "
   ]
  },
  {
   "cell_type": "code",
   "execution_count": 36,
   "metadata": {},
   "outputs": [],
   "source": [
    "labels = np.genfromtxt(\"dataset/x_test.csv\", delimiter=\",\", dtype = str, max_rows=1)\n",
    "labels = np.delete(labels,0) # delete the label 'id' as we dont have it in x_train and x_test"
   ]
  },
  {
   "cell_type": "markdown",
   "metadata": {},
   "source": [
    "### Cleaning and feature selection"
   ]
  },
  {
   "cell_type": "markdown",
   "metadata": {},
   "source": [
    "Due to the high number of features with all different exceptions values and linearity, we decided to select manually the features we found relevant. The list below is the name of the feature, the exception values that we have to remplace, and wheter we remplace by majority (True) or by the mean (False)"
   ]
  },
  {
   "cell_type": "code",
   "execution_count": 37,
   "metadata": {},
   "outputs": [],
   "source": [
    "label_list = [(\"MSCODE\", [], True),\n",
    "            (\"_HCVU651\", [9], True),\n",
    "            (\"_RFHYPE5\", [9], True),\n",
    "            (\"_RFCHOL\", [9], True),\n",
    "            (\"_RACE\",[9], True),\n",
    "            (\"_BMI5\",[], False),\n",
    "            (\"_EDUCAG\",[9], True),\n",
    "            (\"_INCOMG\",[9], True),\n",
    "            (\"_SMOKER3\",[9], True),\n",
    "            (\"_DRNKWEK\",[99900], True),\n",
    "            (\"_FRUTSUM\",[], True),\n",
    "            (\"_VEGESUM\",[], True),\n",
    "            (\"PA1MIN_\",[], True),\n",
    "            (\"GENHLTH\",[7,9], False),\n",
    "            (\"CHECKUP1\",[7,9], False),\n",
    "            (\"MENTHLTH\",[88, 77, 99], False),\n",
    "            (\"BPHIGH4\",[7,9], True),\n",
    "            (\"BPMEDS\",[7,9], True),\n",
    "            (\"TOLDHI2\",[7,9], True),\n",
    "            (\"CHCOCNCR\",[7,8,9], True),\n",
    "            (\"DIABETE3\",[7,8,9], True),\n",
    "            (\"SEX\",[], True),\n",
    "            (\"QLACTLM2\",[7,9], True),\n",
    "            (\"AVEDRNK2\",[77, 99], False),\n",
    "            (\"EXERANY2\",[7,9], True),\n",
    "            (\"SHINGLE2\", [7,9], True),\n",
    "            (\"LMTJOIN3\", [7,9], True),\n",
    "            (\"CVDASPRN\", [7,9], True)\n",
    "            ]\n",
    "cleaned_x_train = clean_data(labels, label_list, x_train)"
   ]
  },
  {
   "cell_type": "markdown",
   "metadata": {},
   "source": [
    "## Cleaning in another way"
   ]
  },
  {
   "cell_type": "code",
   "execution_count": 153,
   "metadata": {},
   "outputs": [],
   "source": [
    "threshold = 0.7  # You want to drop columns with > 50% NaNs\n",
    "column_count = x_train.shape[0]\n",
    "max_nan_count = threshold * column_count\n",
    "\n",
    "# Create a mask to identify columns with too many NaNs\n",
    "nan_mask = np.sum(np.isnan(x_train), axis=0) <= max_nan_count\n",
    "\n",
    "# Use the mask to select the columns with fewer NaNs\n",
    "x_train_filtered = x_train[:, nan_mask]\n",
    "x_test_filtered = x_test[:, nan_mask]\n",
    "\n",
    "# drop the "
   ]
  },
  {
   "cell_type": "markdown",
   "metadata": {},
   "source": [
    "## Train test split for our own cross validation"
   ]
  },
  {
   "cell_type": "code",
   "execution_count": 12,
   "metadata": {},
   "outputs": [],
   "source": [
    "x_train_1, y_train_1, x_test_1, y_test_1 = split_train_test(y_train, x_train, 0.7)"
   ]
  },
  {
   "cell_type": "code",
   "execution_count": 15,
   "metadata": {},
   "outputs": [],
   "source": [
    "cleaned_x_train_1 = clean_data(labels, label_list, x_train_1)\n",
    "cleaned_x_test_1 = clean_data(labels, label_list, x_test_1)"
   ]
  },
  {
   "cell_type": "code",
   "execution_count": 13,
   "metadata": {},
   "outputs": [
    {
     "name": "stdout",
     "output_type": "stream",
     "text": [
      "46.728971962616825\n",
      "46.728971962616825\n",
      "42.05607476635514\n",
      "32.398753894081\n",
      "38.940809968847354\n",
      "41.43302180685358\n",
      "44.54828660436137\n",
      "41.74454828660436\n",
      "41.74454828660436\n",
      "44.85981308411215\n",
      "50.155763239875384\n",
      "42.99065420560748\n",
      "46.10591900311526\n",
      "42.679127725856695\n",
      "36.7601246105919\n",
      "38.006230529595015\n",
      "43.925233644859816\n",
      "42.05607476635514\n",
      "50.77881619937694\n",
      "38.31775700934579\n",
      "39.56386292834891\n",
      "45.17133956386293\n",
      "30.8411214953271\n",
      "42.679127725856695\n",
      "42.36760124610592\n",
      "47.35202492211838\n",
      "52.024922118380054\n",
      "47.66355140186916\n"
     ]
    }
   ],
   "source": [
    "# want to see which labels are way to small\n",
    "\n",
    "for label in label_list:\n",
    "    l, _, _ = label\n",
    "    id = np.where(labels == l)[0][0]\n",
    "    x = x_train[:][id]\n",
    "\n",
    "    # Count the number of NaN values\n",
    "    nans= np.count_nonzero(np.isnan(x))\n",
    "    nan_perc = nans/len(x) *100\n",
    "    print(nan_perc)"
   ]
  },
  {
   "cell_type": "markdown",
   "metadata": {},
   "source": [
    "### Training"
   ]
  },
  {
   "cell_type": "markdown",
   "metadata": {},
   "source": [
    "#### Ridge regression"
   ]
  },
  {
   "cell_type": "code",
   "execution_count": 17,
   "metadata": {},
   "outputs": [],
   "source": [
    "lambda_ = 0.0001\n",
    "degree = 25\n",
    "## tx is cleaned data \n",
    "poly = build_poly(cleaned_x_train,degree)\n",
    "w , loss = ridge_regression(y_train,poly,lambda_)"
   ]
  },
  {
   "cell_type": "markdown",
   "metadata": {},
   "source": [
    "#### Mean squared errors gd"
   ]
  },
  {
   "cell_type": "code",
   "execution_count": 66,
   "metadata": {},
   "outputs": [
    {
     "name": "stdout",
     "output_type": "stream",
     "text": [
      "3.876059989445784\n",
      "[-1.73485780e+00 -9.38011905e-01 -1.29585163e+00 -1.24931575e+00\n",
      " -1.38391345e+00 -2.38188225e+01 -2.65089165e+00 -3.56246999e+00\n",
      " -2.70224664e+00 -1.53651777e+03 -1.25549341e+00 -1.89110299e+00\n",
      " -1.57837078e+03 -2.17627002e+00 -1.36434309e+00 -9.75091986e+00\n",
      " -1.83990496e+00 -9.53286893e-01 -1.40492730e+00 -1.66488961e+00\n",
      " -2.46525238e+00 -1.22063853e+00 -1.55524819e+00 -3.56398420e+00\n",
      " -9.56813038e-01 -1.74662282e+00 -1.62761910e+00 -1.75439078e+00]\n",
      "126.35408983675832\n",
      "[1.65739165e+01 9.52806732e+00 1.23825157e+01 1.20106047e+01\n",
      " 1.56083801e+01 2.43717246e+02 2.67454046e+01 3.61350423e+01\n",
      " 2.85166332e+01 1.03401475e+04 1.16353761e+01 1.76990290e+01\n",
      " 8.52338051e+03 2.14600634e+01 1.38861316e+01 9.60520855e+01\n",
      " 1.98059518e+01 9.56452935e+00 1.47013344e+01 1.69480586e+01\n",
      " 2.51069148e+01 1.31747076e+01 1.59252891e+01 2.95482088e+01\n",
      " 1.03547440e+01 1.76309798e+01 1.66242380e+01 1.76960926e+01]\n",
      "4767.401349091575\n",
      "[-9.10634418e+01 -5.25181104e+01 -6.85444120e+01 -6.63971182e+01\n",
      " -8.49613571e+01 -1.34011347e+03 -1.47558199e+02 -1.99452369e+02\n",
      " -1.55276357e+02 -6.73376345e+04 -6.39907549e+01 -9.78746432e+01\n",
      " -4.82374514e+04 -1.18399230e+02 -7.69864767e+01 -5.31207795e+02\n",
      " -1.08494218e+02 -5.27898189e+01 -8.07650476e+01 -9.33328836e+01\n",
      " -1.38468061e+02 -7.14448446e+01 -8.76103459e+01 -1.76547603e+02\n",
      " -5.69428318e+01 -9.71199766e+01 -9.15445296e+01 -9.74775888e+01]\n",
      "183656.36536585062\n",
      "[5.55591454e+02 3.22286864e+02 4.19669557e+02 4.06448314e+02\n",
      " 5.21869815e+02 8.21835551e+03 9.05510288e+02 1.22466849e+03\n",
      " 9.49892936e+02 4.30687703e+05 3.89737224e+02 5.98093884e+02\n",
      " 2.82466286e+05 7.25376965e+02 4.73786279e+02 3.25794028e+03\n",
      " 6.66451393e+02 3.23883697e+02 4.95860621e+02 5.72599961e+02\n",
      " 8.50129244e+02 4.36864321e+02 5.37457514e+02 1.10721235e+03\n",
      " 3.50506545e+02 5.95566194e+02 5.61746343e+02 5.97725941e+02]\n",
      "7122477.700305566\n",
      "[-3.38605646e+03 -1.97027377e+03 -2.56409078e+03 -2.48272466e+03\n",
      " -3.18730645e+03 -5.02131215e+04 -5.53631545e+03 -7.49005202e+03\n",
      " -5.79048705e+03 -2.72662505e+06 -2.37353678e+03 -3.65045748e+03\n",
      " -1.69318530e+06 -4.43160260e+03 -2.90218799e+03 -1.99192496e+04\n",
      " -4.07331196e+03 -1.98013189e+03 -3.03092877e+03 -3.49974583e+03\n",
      " -5.19865007e+03 -2.66128568e+03 -3.28446564e+03 -6.89474702e+03\n",
      " -2.14531041e+03 -3.63946011e+03 -3.43372011e+03 -3.65255782e+03]\n",
      "276883905.5323211\n",
      "[2.08586561e+04 1.21615268e+04 1.58189113e+04 1.53149985e+04\n",
      " 1.96667920e+04 3.09837843e+05 3.41744829e+04 4.62438727e+04\n",
      " 3.56838112e+04 1.71595819e+07 1.46139413e+04 2.25062024e+04\n",
      " 1.03053272e+07 2.73412666e+04 1.79349994e+04 1.22950252e+05\n",
      " 2.51422909e+04 1.22223784e+04 1.87079792e+04 2.15993810e+04\n",
      " 3.20943047e+04 1.63942906e+04 2.02692406e+04 4.30020085e+04\n",
      " 1.32530473e+04 2.24587950e+04 2.11932196e+04 2.25392120e+04]\n",
      "10773074777.413263\n",
      "[-1.29107109e+05 -7.53663931e+04 -9.80036828e+04 -9.48741437e+04\n",
      " -1.21846453e+05 -1.91970385e+06 -2.11789630e+05 -2.86622574e+05\n",
      " -2.20911968e+05 -1.07614000e+08 -9.04273775e+04 -1.39377752e+05\n",
      " -6.33288540e+07 -1.69390168e+05 -1.11226217e+05 -7.61941092e+05\n",
      " -1.55805234e+05 -7.57438698e+04 -1.15932464e+05 -1.33842982e+05\n",
      " -1.98913272e+05 -1.01470812e+05 -1.25594582e+05 -2.68204627e+05\n",
      " -8.21712050e+04 -1.39157972e+05 -1.31331044e+05 -1.39654729e+05]\n",
      "419292123994.8508\n",
      "[8.01687420e+05 4.68330521e+05 6.08892398e+05 5.89420314e+05\n",
      " 7.57048333e+05 1.19276472e+07 1.31609483e+06 1.78125186e+06\n",
      " 1.37191706e+06 6.73488218e+08 5.61402733e+05 8.65736072e+05\n",
      " 3.91499176e+08 1.05242088e+06 6.91469378e+05 4.73474576e+06\n",
      " 9.68168207e+05 4.70677219e+05 7.20399974e+05 8.31666179e+05\n",
      " 1.23613666e+06 6.30071869e+05 7.80390378e+05 1.67306266e+06\n",
      " 5.10770029e+05 8.64652406e+05 8.16076178e+05 8.67733239e+05]\n",
      "16320832308071.34\n",
      "[-4.98748976e+06 -2.91489131e+06 -3.78934798e+06 -3.66805947e+06\n",
      " -4.71144830e+06 -7.42321344e+07 -8.19146917e+06 -1.10871396e+07\n",
      " -8.53565445e+06 -4.20973445e+09 -3.49223155e+06 -5.38698084e+06\n",
      " -2.42908738e+09 -6.54960536e+06 -4.30485145e+06 -2.94691110e+07\n",
      " -6.02582996e+06 -2.92950144e+06 -4.48373332e+06 -5.17614073e+06\n",
      " -7.69401939e+06 -3.91979091e+06 -4.85692505e+06 -1.04373194e+07\n",
      " -3.17961222e+06 -5.38129208e+06 -5.07918088e+06 -5.40044456e+06]\n",
      "635309514315469.8\n",
      "[3.10640506e+07 1.81599492e+07 2.36063609e+07 2.28503735e+07\n",
      " 2.93510229e+07 4.62449710e+08 5.10336811e+07 6.90758741e+07\n",
      " 5.31657867e+07 2.62941419e+10 2.17495316e+07 3.35560969e+07\n",
      " 1.51048282e+10 4.08019347e+07 2.68237695e+07 1.83594453e+08\n",
      " 3.75410884e+07 1.82509867e+07 2.79337832e+07 3.22470949e+07\n",
      " 4.79353279e+07 2.44138664e+07 3.02580816e+07 6.51157202e+07\n",
      " 1.98113421e+07 3.35246184e+07 3.16433007e+07 3.36438545e+07]\n"
     ]
    }
   ],
   "source": [
    "gamma = 0.00001\n",
    "max_iters = 10\n",
    "w_initial = np.zeros(cleaned_x_train.shape[1])\n",
    "\n",
    "w, loss = mean_squared_error_gd(y_train, cleaned_x_train, w_initial, max_iters, gamma)"
   ]
  },
  {
   "cell_type": "code",
   "execution_count": 67,
   "metadata": {},
   "outputs": [
    {
     "data": {
      "text/plain": [
       "635309514315469.8"
      ]
     },
     "execution_count": 67,
     "metadata": {},
     "output_type": "execute_result"
    }
   ],
   "source": [
    "loss"
   ]
  },
  {
   "cell_type": "markdown",
   "metadata": {},
   "source": []
  },
  {
   "cell_type": "markdown",
   "metadata": {},
   "source": [
    "#### Mean squared error sgd"
   ]
  },
  {
   "cell_type": "code",
   "execution_count": 47,
   "metadata": {},
   "outputs": [],
   "source": [
    "gamma = 0.00001\n",
    "max_iters = 100\n",
    "w_initial = np.zeros(cleaned_x_train.shape[1])\n",
    "\n",
    "w, loss = mean_squared_error_sgd(y_train, cleaned_x_train, w_initial, max_iters, gamma)"
   ]
  },
  {
   "cell_type": "markdown",
   "metadata": {},
   "source": [
    "#### Least squared error"
   ]
  },
  {
   "cell_type": "code",
   "execution_count": 154,
   "metadata": {},
   "outputs": [],
   "source": [
    "w, loss = least_squares(y_train, cleaned_x_train)"
   ]
  },
  {
   "cell_type": "markdown",
   "metadata": {},
   "source": []
  },
  {
   "cell_type": "code",
   "execution_count": null,
   "metadata": {},
   "outputs": [],
   "source": []
  },
  {
   "cell_type": "code",
   "execution_count": 122,
   "metadata": {},
   "outputs": [
    {
     "name": "stdout",
     "output_type": "stream",
     "text": [
      "28\n"
     ]
    }
   ],
   "source": [
    "print(len(label_list))"
   ]
  },
  {
   "cell_type": "code",
   "execution_count": 170,
   "metadata": {},
   "outputs": [
    {
     "name": "stdout",
     "output_type": "stream",
     "text": [
      "[4.29695599e+01 2.51145669e+01 3.26484113e+01 3.16032914e+01\n",
      " 4.05931422e+01 6.39574453e+02 7.05774129e+01 9.55269539e+01\n",
      " 7.35393282e+01 3.62905491e+04 3.00867864e+01 4.64124920e+01\n",
      " 2.09206344e+04 5.64303677e+01 3.70916489e+01 2.53904536e+02\n",
      " 5.19182016e+01 2.52404526e+01 3.86315896e+01 4.45972177e+01\n",
      " 6.62916371e+01 3.37707816e+01 4.18467877e+01 8.99539567e+01\n",
      " 2.73960169e+01 4.63646235e+01 4.37618949e+01 4.65296156e+01]\n",
      "635309514315469.8\n",
      "28\n"
     ]
    }
   ],
   "source": [
    "print(w)\n",
    "print(loss)\n",
    "print(len(w))"
   ]
  },
  {
   "cell_type": "markdown",
   "metadata": {},
   "source": [
    "#### Testing"
   ]
  },
  {
   "cell_type": "code",
   "execution_count": 43,
   "metadata": {},
   "outputs": [],
   "source": [
    "#clean up x test\n",
    "\n",
    "cleaned_x_test = clean_data(labels, label_list, x_test)\n"
   ]
  },
  {
   "cell_type": "code",
   "execution_count": 147,
   "metadata": {},
   "outputs": [
    {
     "data": {
      "text/plain": [
       "(109379, 29)"
      ]
     },
     "execution_count": 147,
     "metadata": {},
     "output_type": "execute_result"
    }
   ],
   "source": [
    "poly_test = build_poly(cleaned_x_test,degree)\n",
    "poly_test.shape\n",
    "                                 "
   ]
  },
  {
   "cell_type": "markdown",
   "metadata": {},
   "source": [
    "#### Prediction"
   ]
  },
  {
   "cell_type": "markdown",
   "metadata": {},
   "source": [
    "# notes for next one working on this lol\n",
    "\n",
    "ridge -> build poly -> predict label: Ca marche mais pas très bons résultats (mieux si tu montes le degré mais tres bas F1)\n",
    "\n",
    "least squares -> predict label : marche pas avec build poly pck pas les bonnes dims (build poly rajoute une colonne, donc impossible de faire data@weight) Ca marche sans, mais on a que 1 valeur a 1, le reste a -1 (et ya pas de params a changer) F1 SCORE 0.000 ACCURACY 0.912\n",
    "\n",
    "mean squared gd -> (same thing pour build poly) les valeurs sont fucked up mdr [1.13497280e+79 1.72690226e+79 3.20689183e+78 ... 1.36781180e+78 1.99141883e+78 1.76606508e+78] c'est du 10^78 a peu pres, donc ya tout qui fini par etre a 1 et rien a -1 \n",
    "\n",
    "mean squared sgd -> same as gd mais on est plutot dans du 10^14, et que des negatifs\n",
    "\n",
    "J'ai aussi tenté ridge en filtrant les données d'une autre manière, aka juste prendre les colonnes qui ont plus que 70% de données (par rapport aux nan) et ca me donne des meilleurs résultats... snif snif donc F1 SCORE 0.139 ACCURACY 0.837 Après j'ai rien clean up or anything donc c'est un peu ridicule genre ya toutes les valeurs d'exceptions encore (en vrai j'ai aucune idée de pourquoi ca a marché ??? Pck j'ai pas enlevé les nan ?? Donc ca a du bader hahahaha)\n",
    "\n",
    "Si je mets 1000 max_iters ca overflow error, donc j'ai laissé 100, a tester avec 500 par exemple\n",
    "\n",
    "Idées: Peut être que normalizer les data ca change qqch mour les deux mean squares ? \n",
    "\n",
    "Questions TA:\n",
    "- regarder nos logisitc methods\n",
    "- pk ca marche pas lol\n",
    "- est - ce que c'est une bonne idée la manière dont on fait ou est-ce qu'il nous faut beaucoup plus de colonnes\n",
    "\n"
   ]
  },
  {
   "cell_type": "markdown",
   "metadata": {},
   "source": [
    "### noms des variables et valeurs utilisées\n",
    "\n",
    "- cleaned_x_train/test : data nettoyée avec nos 28 colonnes choisies\n",
    "- x_train/test_filtered : data avec enlevé ceux avec moins de 70% de donnees\n",
    "- x_train_1 etc: c'est x_train cleaned de la meme manière mais ils sont divisé en test/train pour nous meme faire cross validation\n",
    "\n",
    "- degres: pour ridge utiliser un grand chiffre, pour le reste utiliser 1 (bah en fait c'est juste pour build poly donc pas utiliser (je crois, j'ai pas trouvé de valuers qui marche))\n",
    "\n",
    "- max_iters: j'ai l'impression que plus je mets grand, plus mes y_pred sont grands (why??????) (avec 1, j'ai que des -1.3 environ, quand je mets 2 j'ai entre 1 et 20, quand je mets 100 j'ai 10^78 lol) Ca explique le overflow error quand je mets 1000 i guess\n",
    "\n",
    "\n",
    "\n",
    "\n"
   ]
  },
  {
   "cell_type": "code",
   "execution_count": 48,
   "metadata": {},
   "outputs": [
    {
     "name": "stdout",
     "output_type": "stream",
     "text": [
      "[8.50522933e+18 1.70788021e+19 2.73299094e+18 ... 1.03292313e+18\n",
      " 1.66305793e+18 1.33766479e+18]\n"
     ]
    }
   ],
   "source": [
    "yp = predict_labels(w,cleaned_x_test)"
   ]
  },
  {
   "cell_type": "code",
   "execution_count": 175,
   "metadata": {},
   "outputs": [
    {
     "name": "stdout",
     "output_type": "stream",
     "text": [
      "0\n"
     ]
    }
   ],
   "source": [
    "print(len(np.where(yp == 1)[0]))"
   ]
  },
  {
   "cell_type": "markdown",
   "metadata": {},
   "source": [
    "#### CSV Submission"
   ]
  },
  {
   "cell_type": "code",
   "execution_count": 141,
   "metadata": {},
   "outputs": [],
   "source": [
    "create_csv_submission(test_ids,yp,\"outputs/ridge_degre25_200features.csv\")"
   ]
  },
  {
   "cell_type": "markdown",
   "metadata": {},
   "source": [
    "## let me do loops and stuff"
   ]
  },
  {
   "cell_type": "code",
   "execution_count": 31,
   "metadata": {},
   "outputs": [
    {
     "ename": "ValueError",
     "evalue": "shapes (98440,197) and (28,) not aligned: 197 (dim 1) != 28 (dim 0)",
     "output_type": "error",
     "traceback": [
      "\u001b[0;31m---------------------------------------------------------------------------\u001b[0m",
      "\u001b[0;31mValueError\u001b[0m                                Traceback (most recent call last)",
      "\u001b[1;32m/Users/Julie/Desktop/EPFL/MA3/ML/ML_project1/run.ipynb Cellule 38\u001b[0m line \u001b[0;36m<cell line: 8>\u001b[0;34m()\u001b[0m\n\u001b[1;32m     <a href='vscode-notebook-cell:/Users/Julie/Desktop/EPFL/MA3/ML/ML_project1/run.ipynb#X50sZmlsZQ%3D%3D?line=10'>11</a>\u001b[0m poly_test \u001b[39m=\u001b[39m build_poly(cleaned_x_test_1,\u001b[39m7\u001b[39m)\n\u001b[1;32m     <a href='vscode-notebook-cell:/Users/Julie/Desktop/EPFL/MA3/ML/ML_project1/run.ipynb#X50sZmlsZQ%3D%3D?line=12'>13</a>\u001b[0m \u001b[39m#predict\u001b[39;00m\n\u001b[0;32m---> <a href='vscode-notebook-cell:/Users/Julie/Desktop/EPFL/MA3/ML/ML_project1/run.ipynb#X50sZmlsZQ%3D%3D?line=13'>14</a>\u001b[0m yp \u001b[39m=\u001b[39m predict_labels(w,poly_test)\n\u001b[1;32m     <a href='vscode-notebook-cell:/Users/Julie/Desktop/EPFL/MA3/ML/ML_project1/run.ipynb#X50sZmlsZQ%3D%3D?line=15'>16</a>\u001b[0m \u001b[39m# mesure accuracy\u001b[39;00m\n\u001b[1;32m     <a href='vscode-notebook-cell:/Users/Julie/Desktop/EPFL/MA3/ML/ML_project1/run.ipynb#X50sZmlsZQ%3D%3D?line=16'>17</a>\u001b[0m acc \u001b[39m=\u001b[39m measure_accuracy(y_test_1, yp)\n",
      "File \u001b[0;32m~/Desktop/EPFL/MA3/ML/ML_project1/helpers.py:408\u001b[0m, in \u001b[0;36mpredict_labels\u001b[0;34m(weights, data)\u001b[0m\n\u001b[1;32m    406\u001b[0m \u001b[39mdef\u001b[39;00m \u001b[39mpredict_labels\u001b[39m(weights, data):\n\u001b[1;32m    407\u001b[0m     \u001b[39m\"\"\"Generates class predictions given weights, and a test data matrix\"\"\"\u001b[39;00m\n\u001b[0;32m--> 408\u001b[0m     y_pred \u001b[39m=\u001b[39m np\u001b[39m.\u001b[39;49mdot(data, weights)\n\u001b[1;32m    409\u001b[0m     \u001b[39mprint\u001b[39m((y_pred))\n\u001b[1;32m    410\u001b[0m     y_pred[np\u001b[39m.\u001b[39mwhere(y_pred \u001b[39m<\u001b[39m\u001b[39m=\u001b[39m \u001b[39m0\u001b[39m)] \u001b[39m=\u001b[39m \u001b[39m-\u001b[39m\u001b[39m1\u001b[39m\n",
      "File \u001b[0;32m<__array_function__ internals>:180\u001b[0m, in \u001b[0;36mdot\u001b[0;34m(*args, **kwargs)\u001b[0m\n",
      "\u001b[0;31mValueError\u001b[0m: shapes (98440,197) and (28,) not aligned: 197 (dim 1) != 28 (dim 0)"
     ]
    }
   ],
   "source": [
    "N = 10\n",
    "gammas = np.linspace(0.0001, 0.1, N)\n",
    "max_iters_arr = np.linspace(1, 200, N)\n",
    "initial_w = np.zeros(cleaned_x_train_1.shape[1])\n",
    "accs = []\n",
    "f1s = []\n",
    "\n",
    "for gamma in gammas:\n",
    "    # train\n",
    "    w, loss = ridge_regression(y_train_1, cleaned_x_train_1, gamma)\n",
    "    poly_test = build_poly(cleaned_x_test_1,7)\n",
    "\n",
    "    #predict\n",
    "    yp = predict_labels(w,poly_test)\n",
    "\n",
    "    # mesure accuracy\n",
    "    acc = measure_accuracy(y_test_1, yp)\n",
    "    f1 = measure_f1_score(y_test_1, yp)\n",
    "    accs.append(acc)\n",
    "    f1s.append(f1)"
   ]
  },
  {
   "cell_type": "code",
   "execution_count": 26,
   "metadata": {},
   "outputs": [
    {
     "name": "stdout",
     "output_type": "stream",
     "text": [
      "[0.08906948394961398, 0.08906948394961398, 0.08906948394961398, 0.08906948394961398, 0.08906948394961398, 0.08906948394961398, 0.08906948394961398, 0.08906948394961398, 0.08906948394961398, 0.08906948394961398]\n",
      "[0.16356988284456384, 0.16356988284456384, 0.16356988284456384, 0.16356988284456384, 0.16356988284456384, 0.16356988284456384, 0.16356988284456384, 0.16356988284456384, 0.16356988284456384, 0.16356988284456384]\n"
     ]
    }
   ],
   "source": [
    "print(accs)\n",
    "print(f1s)"
   ]
  },
  {
   "cell_type": "code",
   "execution_count": 29,
   "metadata": {},
   "outputs": [
    {
     "name": "stderr",
     "output_type": "stream",
     "text": [
      "No artists with labels found to put in legend.  Note that artists whose label start with an underscore are ignored when legend() is called with no argument.\n"
     ]
    },
    {
     "data": {
      "image/png": "[encoded data removed]",
      "text/plain": [
       "<Figure size 432x288 with 1 Axes>"
      ]
     },
     "metadata": {
      "needs_background": "light"
     },
     "output_type": "display_data"
    }
   ],
   "source": [
    "plt.plot(gammas,accs,\"r\")\n",
    "plt.plot(gammas, f1s, \"b\")\n",
    "\n",
    "plt.title(\"Mean squared error gd accuracy\")\n",
    "plt.legend(loc=\"lower left\")\n",
    "plt.xlabel(\"Gamma\")\n",
    "plt.ylabel(\"Accuracy (%)\")\n",
    "plt.xscale('log')\n",
    "plt.show()"
   ]
  },
  {
   "cell_type": "code",
   "execution_count": null,
   "metadata": {},
   "outputs": [],
   "source": []
  }
 ],
 "metadata": {
  "kernelspec": {
   "display_name": "Python 3",
   "language": "python",
   "name": "python3"
  },
  "language_info": {
   "codemirror_mode": {
    "name": "ipython",
    "version": 3
   },
   "file_extension": ".py",
   "mimetype": "text/x-python",
   "name": "python",
   "nbconvert_exporter": "python",
   "pygments_lexer": "ipython3",
   "version": "3.9.18"
  }
 },
 "nbformat": 4,
 "nbformat_minor": 2
}
