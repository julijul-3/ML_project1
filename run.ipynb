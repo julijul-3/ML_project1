{
 "cells": [
  {
   "cell_type": "code",
   "execution_count": 32,
   "metadata": {},
   "outputs": [
    {
     "name": "stdout",
     "output_type": "stream",
     "text": [
      "The autoreload extension is already loaded. To reload it, use:\n",
      "  %reload_ext autoreload\n"
     ]
    }
   ],
   "source": [
    "# Useful starting lines\n",
    "%matplotlib inline\n",
    "import numpy as np\n",
    "import matplotlib.pyplot as plt\n",
    "from helpers import *\n",
    "\n",
    "# from test_utils import test\n",
    "\n",
    "%load_ext autoreload\n",
    "%autoreload 2"
   ]
  },
  {
   "cell_type": "markdown",
   "metadata": {},
   "source": [
    "## Run de A a Z - Ridge Regression "
   ]
  },
  {
   "cell_type": "markdown",
   "metadata": {},
   "source": [
    "### Loading  data "
   ]
  },
  {
   "cell_type": "code",
   "execution_count": 33,
   "metadata": {},
   "outputs": [],
   "source": [
    "x_train, x_test, y_train, train_ids, test_ids = load_csv_data(\"dataset\")\n"
   ]
  },
  {
   "cell_type": "markdown",
   "metadata": {},
   "source": [
    "### Extract labels "
   ]
  },
  {
   "cell_type": "code",
   "execution_count": 34,
   "metadata": {},
   "outputs": [],
   "source": [
    "labels = np.genfromtxt(\"dataset/x_test.csv\", delimiter=\",\", dtype = str, max_rows=1)\n",
    "labels = np.delete(labels,0) # delete the label 'id' as we dont have it in x_train and x_test"
   ]
  },
  {
   "cell_type": "markdown",
   "metadata": {},
   "source": [
    "### Cleaning and feature selection"
   ]
  },
  {
   "cell_type": "markdown",
   "metadata": {},
   "source": [
    "Due to the high number of features with all different exceptions values and linearity, we decided to select manually the features we found relevant. The list below is the name of the feature, the exception values that we have to remplace, and wheter we remplace by majority (True) or by the mean (False)"
   ]
  },
  {
   "cell_type": "code",
   "execution_count": 35,
   "metadata": {},
   "outputs": [],
   "source": [
    "label_list = [(\"MSCODE\", [], True),\n",
    "            (\"_HCVU651\", [9], True),\n",
    "            (\"_RFHYPE5\", [9], True),\n",
    "            (\"_RFCHOL\", [9], True),\n",
    "            (\"_RACE\",[9], True),\n",
    "            (\"_BMI5\",[], False),\n",
    "            (\"_EDUCAG\",[9], True),\n",
    "            (\"_INCOMG\",[9], True),\n",
    "            (\"_SMOKER3\",[9], True),\n",
    "            (\"_DRNKWEK\",[99900], True),\n",
    "            (\"_FRUTSUM\",[], True),\n",
    "            (\"_VEGESUM\",[], True),\n",
    "            (\"PA1MIN_\",[], True),\n",
    "            (\"GENHLTH\",[7,9], False),\n",
    "            (\"CHECKUP1\",[7,9], False),\n",
    "            (\"MENTHLTH\",[88, 77, 99], False),\n",
    "            (\"BPHIGH4\",[7,9], True),\n",
    "            (\"BPMEDS\",[7,9], True),\n",
    "            (\"TOLDHI2\",[7,9], True),\n",
    "            (\"CHCOCNCR\",[7,8,9], True),\n",
    "            (\"DIABETE3\",[7,8,9], True),\n",
    "            (\"SEX\",[], True),\n",
    "            (\"QLACTLM2\",[7,9], True),\n",
    "            (\"AVEDRNK2\",[77, 99], False),\n",
    "            (\"EXERANY2\",[7,9], True)\n",
    "            ]\n",
    "cleaned_x_train = clean_data(labels, label_list, x_train)"
   ]
  },
  {
   "cell_type": "markdown",
   "metadata": {},
   "source": [
    "### Training"
   ]
  },
  {
   "cell_type": "markdown",
   "metadata": {},
   "source": [
    "#### Ridge regression"
   ]
  },
  {
   "cell_type": "code",
   "execution_count": 36,
   "metadata": {},
   "outputs": [],
   "source": [
    "lambda_ = 0.0001\n",
    "degree = 7\n",
    "## tx is cleaned data \n",
    "poly = build_poly(cleaned_x_train,degree)\n",
    "w , loss = ridge_regression(y_train,poly,lambda_)"
   ]
  },
  {
   "cell_type": "code",
   "execution_count": 21,
   "metadata": {},
   "outputs": [
    {
     "name": "stdout",
     "output_type": "stream",
     "text": [
      "[-5.16789529e-03 -4.31712490e-03 -5.11131052e-03 -5.09995014e-03\n",
      " -5.10114752e-03 -1.68030361e-01 -4.76454082e-02 -5.18796786e-03\n",
      " -5.38498089e-03 -4.43009850e-03 -1.06290721e-04 -7.31644458e-03\n",
      " -1.48165636e-02 -4.67225592e-06 -2.86377170e-03 -4.99818031e-03\n",
      " -4.96419455e-03 -4.96774599e-03 -9.38308801e-02  1.28626619e-03\n",
      " -5.15765448e-03 -5.32962643e-03 -3.18796344e-03  4.33059605e-08\n",
      "  2.41712153e-03  1.70380134e-03  7.57754021e-09 -6.53230002e-04\n",
      " -4.77213615e-03 -4.69239373e-03 -4.70114470e-03  1.42861787e-01\n",
      "  2.65146900e-05 -4.92079713e-03 -4.32321425e-03 -1.32303195e-03\n",
      " -6.06346147e-12 -1.40183671e-04 -6.46486677e-05 -1.44492486e-12\n",
      "  1.93047914e-03 -4.31977344e-03 -4.14896100e-03 -4.16707509e-03\n",
      " -5.96210890e-02 -2.07386764e-06 -4.06030509e-03 -1.39187539e-03\n",
      "  8.81954273e-04  3.80713142e-16  3.34211527e-06  1.06152028e-06\n",
      "  9.72527295e-17  2.86341510e-03 -3.41597442e-03 -3.06273871e-03\n",
      " -3.09850012e-03  1.15985398e-02  4.26056467e-08 -1.74252177e-03\n",
      "  2.47416897e-03  1.89345746e-03 -1.17840132e-20 -3.81019108e-08\n",
      " -8.57791297e-09 -2.95718004e-21 -1.71520508e-03 -1.60728567e-03\n",
      " -8.87288993e-04 -9.64419151e-04 -1.08040538e-03 -3.81505996e-10\n",
      "  2.35509388e-03 -7.09398602e-04 -7.39757717e-04  1.75879509e-25\n",
      "  2.06157515e-10  3.36210868e-11  4.18360730e-26  2.15620983e-04\n",
      "  2.00813606e-03  3.45632712e-03  3.30597103e-03  3.87927110e-05\n",
      "  1.28107435e-12 -3.97737313e-04  6.14432613e-05  5.87492056e-05\n",
      " -1.01067581e-30 -4.25295692e-13 -5.10695905e-14 -2.24749682e-31]\n",
      "0.14789627669394342\n"
     ]
    }
   ],
   "source": [
    "print(w)\n",
    "print(loss)"
   ]
  },
  {
   "cell_type": "markdown",
   "metadata": {},
   "source": [
    "#### Testing"
   ]
  },
  {
   "cell_type": "code",
   "execution_count": 37,
   "metadata": {},
   "outputs": [
    {
     "name": "stdout",
     "output_type": "stream",
     "text": [
      "[[1.         1.         1.         ... 1.         2.14452306 1.        ]\n",
      " [5.         1.         2.         ... 2.         2.14452306 1.        ]\n",
      " [1.         1.         1.         ... 2.         1.         1.        ]\n",
      " ...\n",
      " [1.         1.         1.         ... 1.         2.14452306 1.        ]\n",
      " [5.         1.         1.         ... 2.         2.14452306 1.        ]\n",
      " [1.         1.         2.         ... 2.         2.14452306 1.        ]]\n",
      "328135\n",
      "25\n"
     ]
    }
   ],
   "source": [
    "#clean up x test\n",
    "tab_test = []\n",
    "\n",
    "for input in label_list:\n",
    "    label, exceptions, use_maj = input\n",
    "    # find index of label\n",
    "    id = np.where(labels == label)[0][0]\n",
    "    # find data of this index\n",
    "    data = x_test[:, id]\n",
    "    \n",
    "    #clean up\n",
    "    data_cleaned = data_clean((data, exceptions, use_maj))\n",
    "    tab_test.append(data_cleaned)\n",
    "\n",
    "cleaned_x_test = np.array(tab_test).T\n",
    "print(cleaned_x_train)\n",
    "print(len(cleaned_x_train))\n",
    "print(len(cleaned_x_train[0]))"
   ]
  },
  {
   "cell_type": "code",
   "execution_count": 38,
   "metadata": {},
   "outputs": [],
   "source": [
    "poly_test = build_poly(cleaned_x_test,degree)\n",
    "                                 "
   ]
  },
  {
   "cell_type": "markdown",
   "metadata": {},
   "source": [
    "#### Prediction"
   ]
  },
  {
   "cell_type": "code",
   "execution_count": 39,
   "metadata": {},
   "outputs": [],
   "source": [
    "yp = predict_labels(w,poly_test)"
   ]
  },
  {
   "cell_type": "code",
   "execution_count": 40,
   "metadata": {},
   "outputs": [
    {
     "name": "stdout",
     "output_type": "stream",
     "text": [
      "[-1. -1. -1. ... -1. -1. -1.]\n"
     ]
    }
   ],
   "source": [
    "print(yp)"
   ]
  },
  {
   "cell_type": "markdown",
   "metadata": {},
   "source": [
    "#### CSV Submission"
   ]
  },
  {
   "cell_type": "code",
   "execution_count": 41,
   "metadata": {},
   "outputs": [],
   "source": [
    "create_csv_submission(test_ids,yp,\"ridge_1e-4_7_output.csv\")"
   ]
  },
  {
   "cell_type": "code",
   "execution_count": null,
   "metadata": {},
   "outputs": [],
   "source": []
  }
 ],
 "metadata": {
  "kernelspec": {
   "display_name": "Python 3",
   "language": "python",
   "name": "python3"
  },
  "language_info": {
   "codemirror_mode": {
    "name": "ipython",
    "version": 3
   },
   "file_extension": ".py",
   "mimetype": "text/x-python",
   "name": "python",
   "nbconvert_exporter": "python",
   "pygments_lexer": "ipython3",
   "version": "3.9.18"
  }
 },
 "nbformat": 4,
 "nbformat_minor": 2
}
