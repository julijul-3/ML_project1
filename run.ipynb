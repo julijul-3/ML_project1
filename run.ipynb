{
 "cells": [
  {
   "cell_type": "code",
   "execution_count": 1,
   "metadata": {},
   "outputs": [],
   "source": [
    "# Useful starting lines\n",
    "%matplotlib inline\n",
    "import numpy as np\n",
    "import matplotlib.pyplot as plt\n",
    "from helpers import *\n",
    "from implementations import *\n",
    "\n",
    "# from test_utils import test\n",
    "\n",
    "%load_ext autoreload\n",
    "%autoreload 2"
   ]
  },
  {
   "cell_type": "markdown",
   "metadata": {},
   "source": [
    "## Run de A a Z"
   ]
  },
  {
   "cell_type": "markdown",
   "metadata": {},
   "source": [
    "### Loading  data "
   ]
  },
  {
   "cell_type": "code",
   "execution_count": 2,
   "metadata": {},
   "outputs": [],
   "source": [
    "x_train, x_test, y_train, train_ids, test_ids = load_csv_data(\"dataset\")\n"
   ]
  },
  {
   "cell_type": "markdown",
   "metadata": {},
   "source": [
    "### Extract labels "
   ]
  },
  {
   "cell_type": "code",
   "execution_count": 3,
   "metadata": {},
   "outputs": [],
   "source": [
    "labels = np.genfromtxt(\"dataset/x_test.csv\", delimiter=\",\", dtype = str, max_rows=1)\n",
    "labels = np.delete(labels,0) # delete the label 'id' as we dont have it in x_train and x_test"
   ]
  },
  {
   "cell_type": "markdown",
   "metadata": {},
   "source": [
    "### Cleaning and feature selection"
   ]
  },
  {
   "cell_type": "markdown",
   "metadata": {},
   "source": [
    "Due to the high number of features with all different exceptions values and linearity, we decided to select manually the features we found relevant. The list below is the name of the feature, the exception values that we have to remplace, and wheter we remplace by majority (True) or by the mean (False)"
   ]
  },
  {
   "cell_type": "code",
   "execution_count": 4,
   "metadata": {},
   "outputs": [],
   "source": [
    "label_list = [(\"MSCODE\", [], True),\n",
    "            (\"_HCVU651\", [9], True),\n",
    "            (\"_RFHYPE5\", [9], True),\n",
    "            (\"_RFCHOL\", [9], True),\n",
    "            (\"_RACE\",[9], True),\n",
    "            (\"_BMI5\",[], False),\n",
    "            (\"_EDUCAG\",[9], True),\n",
    "            (\"_INCOMG\",[9], True),\n",
    "            (\"_DRNKWEK\",[99900], False),\n",
    "            (\"_SMOKER3\",[9], True),\n",
    "            (\"_FRUTSUM\",[], False),\n",
    "            (\"_VEGESUM\",[], False),\n",
    "            (\"PA1MIN_\",[], False),\n",
    "            (\"GENHLTH\",[7,9], False),\n",
    "            (\"CHECKUP1\",[7,9], False),\n",
    "            (\"MENTHLTH\",[88, 77, 99], False),\n",
    "            (\"BPHIGH4\",[7,9], True),\n",
    "            (\"BPMEDS\",[7,9], True),\n",
    "            (\"TOLDHI2\",[7,9], True),\n",
    "            (\"CHCOCNCR\",[7,8,9], True),\n",
    "            (\"DIABETE3\",[7,8,9], True),\n",
    "            (\"SEX\",[], True),\n",
    "            (\"QLACTLM2\",[7,9], True),\n",
    "            (\"AVEDRNK2\",[77, 99], False),\n",
    "            (\"EXERANY2\",[7,9], True),\n",
    "            (\"SHINGLE2\", [7,9], True),\n",
    "            (\"LMTJOIN3\", [7,9], True),\n",
    "            (\"CVDASPRN\", [7,9], True)\n",
    "            ]\n",
    "\n",
    "\n",
    "cleaned_x_train = clean_data(labels, label_list, x_train)"
   ]
  },
  {
   "cell_type": "code",
   "execution_count": 5,
   "metadata": {},
   "outputs": [
    {
     "data": {
      "text/plain": [
       "array([[1., 1., 1., ..., 2., 2., 2.],\n",
       "       [5., 1., 2., ..., 2., 2., 2.],\n",
       "       [1., 1., 1., ..., 2., 2., 2.],\n",
       "       ...,\n",
       "       [1., 1., 1., ..., 2., 2., 2.],\n",
       "       [5., 1., 1., ..., 2., 2., 2.],\n",
       "       [1., 1., 2., ..., 2., 2., 2.]])"
      ]
     },
     "execution_count": 5,
     "metadata": {},
     "output_type": "execute_result"
    }
   ],
   "source": [
    "cleaned_x_train"
   ]
  },
  {
   "cell_type": "markdown",
   "metadata": {},
   "source": [
    "We then check that we have enough data in our features, i.e. there is not an exagerated amount of nans"
   ]
  },
  {
   "cell_type": "code",
   "execution_count": 21,
   "metadata": {},
   "outputs": [],
   "source": [
    "# want to see which labels are way to small\n",
    "\n",
    "for label in label_list:\n",
    "    l, _, _ = label\n",
    "    id = np.where(labels == l)[0][0]\n",
    "    x = x_train[:][id]\n",
    "\n",
    "    # Count the number of NaN values\n",
    "    nans= np.count_nonzero(np.isnan(x))\n",
    "    nan_perc = nans/len(x) *100\n",
    "    #print(nan_perc)"
   ]
  },
  {
   "cell_type": "markdown",
   "metadata": {},
   "source": [
    "We check that our features are uncorrelated as it would lead to less good results, but we saw that the uncorrelated data had the same dimension as the original cleaned data, so no changes were made."
   ]
  },
  {
   "cell_type": "code",
   "execution_count": 7,
   "metadata": {},
   "outputs": [
    {
     "name": "stdout",
     "output_type": "stream",
     "text": [
      "(328135, 28)\n"
     ]
    },
    {
     "data": {
      "text/plain": [
       "(328135, 28)"
      ]
     },
     "execution_count": 7,
     "metadata": {},
     "output_type": "execute_result"
    }
   ],
   "source": [
    "correlation_matrix = np.corrcoef(cleaned_x_train, rowvar=False)\n",
    "correlation_threshold = 0.7\n",
    "uncorrelated_indices = np.where(np.abs(correlation_matrix) < correlation_threshold)\n",
    "uncorrelated_columns = np.unique(uncorrelated_indices[1])\n",
    "uncorrelated_data = cleaned_x_train[:, uncorrelated_columns]\n",
    "print(uncorrelated_data.shape)\n",
    "cleaned_x_train.shape"
   ]
  },
  {
   "cell_type": "markdown",
   "metadata": {},
   "source": [
    "## Training\n",
    "We here choose which function we want to train our data with"
   ]
  },
  {
   "cell_type": "markdown",
   "metadata": {},
   "source": [
    "#### Ridge regression"
   ]
  },
  {
   "cell_type": "code",
   "execution_count": 8,
   "metadata": {},
   "outputs": [],
   "source": [
    "lambda_ = 0.0001\n",
    "degree = 25\n",
    "## tx is cleaned data \n",
    "poly = build_poly(cleaned_x_train,degree)\n",
    "w , loss = ridge_regression(y_train,poly,lambda_)"
   ]
  },
  {
   "cell_type": "markdown",
   "metadata": {},
   "source": [
    "#### Mean squared errors gd"
   ]
  },
  {
   "cell_type": "code",
   "execution_count": 9,
   "metadata": {},
   "outputs": [],
   "source": [
    "gamma = 0.00001\n",
    "max_iters = 10\n",
    "w_initial = np.zeros(cleaned_x_train.shape[1])\n",
    "\n",
    "w, loss = mean_squared_error_gd(y_train, cleaned_x_train, w_initial, max_iters, gamma)"
   ]
  },
  {
   "cell_type": "code",
   "execution_count": 10,
   "metadata": {},
   "outputs": [
    {
     "data": {
      "text/plain": [
       "0.4940363288172364"
      ]
     },
     "execution_count": 10,
     "metadata": {},
     "output_type": "execute_result"
    }
   ],
   "source": [
    "loss"
   ]
  },
  {
   "cell_type": "markdown",
   "metadata": {},
   "source": []
  },
  {
   "cell_type": "markdown",
   "metadata": {},
   "source": [
    "#### Mean squared error sgd"
   ]
  },
  {
   "cell_type": "code",
   "execution_count": 11,
   "metadata": {},
   "outputs": [],
   "source": [
    "gamma = 0.00001\n",
    "max_iters = 100\n",
    "w_initial = np.zeros(cleaned_x_train.shape[1])\n",
    "\n",
    "w, loss = mean_squared_error_sgd(y_train, cleaned_x_train, w_initial, max_iters, gamma)"
   ]
  },
  {
   "cell_type": "markdown",
   "metadata": {},
   "source": [
    "#### Least squared error"
   ]
  },
  {
   "cell_type": "code",
   "execution_count": 12,
   "metadata": {},
   "outputs": [],
   "source": [
    "w, loss = least_squares(y_train, cleaned_x_train)"
   ]
  },
  {
   "cell_type": "markdown",
   "metadata": {},
   "source": [
    "#### logistic regression"
   ]
  },
  {
   "cell_type": "code",
   "execution_count": 13,
   "metadata": {},
   "outputs": [
    {
     "name": "stderr",
     "output_type": "stream",
     "text": [
      "c:\\Users\\duval\\Documents\\GitHub\\ML_project1\\helpers.py:96: RuntimeWarning: overflow encountered in exp\n",
      "  return 1.0 / (1 + np.exp(-t))\n",
      "c:\\Users\\duval\\Documents\\GitHub\\ML_project1\\helpers.py:115: RuntimeWarning: divide by zero encountered in log\n",
      "  loss = -np.mean(y * np.log(pred) + (1 - y) * np.log(1 - pred))\n",
      "c:\\Users\\duval\\AppData\\Local\\Programs\\Python\\Python311\\Lib\\site-packages\\numpy\\core\\_methods.py:180: RuntimeWarning: invalid value encountered in reduce\n",
      "  ret = umr_sum(arr, axis, dtype, out, keepdims, where=where)\n"
     ]
    }
   ],
   "source": [
    "max_iters = 1000\n",
    "gamma = 0.01\n",
    "w_initial = np.zeros(cleaned_x_train.shape[1])\n",
    "w, loss = logistic_regression(y_train, cleaned_x_train, w_initial, max_iters, gamma)"
   ]
  },
  {
   "cell_type": "markdown",
   "metadata": {},
   "source": [
    "#### reg logistic"
   ]
  },
  {
   "cell_type": "code",
   "execution_count": 14,
   "metadata": {},
   "outputs": [],
   "source": [
    "max_iters = 1000\n",
    "gamma = 0.01\n",
    "lambda_ = 0.001\n",
    "w_initial = np.zeros(cleaned_x_train.shape[1])\n",
    "w, loss = reg_logistic_regression(y_train, cleaned_x_train, lambda_, w_initial, max_iters, gamma)"
   ]
  },
  {
   "cell_type": "code",
   "execution_count": 15,
   "metadata": {},
   "outputs": [
    {
     "name": "stdout",
     "output_type": "stream",
     "text": [
      "[-14.79804473  -8.77238717 -10.84327554 -10.59781838 -15.70345826\n",
      "   0.29566508 -24.45667781 -33.11180685   2.47068432 -27.67066015\n",
      "   0.12757138  -0.13770024   0.26736939   1.39737351  -0.37300463\n",
      "   0.35823878 -19.13955423  -8.70922062 -13.88738712 -15.65980897\n",
      " -23.11047421 -13.06839543 -14.80123112  -0.06041344  -9.95308042\n",
      " -16.19699181 -15.39133796 -16.24954041]\n",
      "nan\n",
      "28\n"
     ]
    }
   ],
   "source": [
    "#print(w)\n",
    "#print(loss)\n",
    "#print(len(w))"
   ]
  },
  {
   "cell_type": "markdown",
   "metadata": {},
   "source": [
    "### Testing\n",
    "\n",
    "We then test our data, cleaning the test dataset and building predictions"
   ]
  },
  {
   "cell_type": "code",
   "execution_count": 16,
   "metadata": {},
   "outputs": [],
   "source": [
    "#clean up x test\n",
    "\n",
    "cleaned_x_test = clean_data(labels, label_list, x_test)\n"
   ]
  },
  {
   "cell_type": "code",
   "execution_count": 17,
   "metadata": {},
   "outputs": [
    {
     "data": {
      "text/plain": [
       "(109379, 701)"
      ]
     },
     "execution_count": 17,
     "metadata": {},
     "output_type": "execute_result"
    }
   ],
   "source": [
    "# only used for ridge\n",
    "poly_test = build_poly(cleaned_x_test,degree)\n",
    "poly_test.shape\n",
    "                                 "
   ]
  },
  {
   "cell_type": "markdown",
   "metadata": {},
   "source": [
    "#### Prediction\n",
    "\n",
    "Use the correct prediction function depending on which train method"
   ]
  },
  {
   "cell_type": "code",
   "execution_count": 18,
   "metadata": {},
   "outputs": [],
   "source": [
    "yp = predict_labels_mse(w,cleaned_x_test)"
   ]
  },
  {
   "cell_type": "code",
   "execution_count": 26,
   "metadata": {},
   "outputs": [],
   "source": [
    "yp = predict_labels_logistic(w,cleaned_x_test)"
   ]
  },
  {
   "cell_type": "code",
   "execution_count": 22,
   "metadata": {},
   "outputs": [],
   "source": [
    "#print(len(np.where(y_pred == 1)[0]))"
   ]
  },
  {
   "cell_type": "markdown",
   "metadata": {},
   "source": [
    "#### CSV Submission"
   ]
  },
  {
   "cell_type": "code",
   "execution_count": null,
   "metadata": {},
   "outputs": [
    {
     "ename": "FileNotFoundError",
     "evalue": "[Errno 2] No such file or directory: 'outputs/ridge_degre25_200features.csv'",
     "output_type": "error",
     "traceback": [
      "\u001b[1;31m---------------------------------------------------------------------------\u001b[0m",
      "\u001b[1;31mFileNotFoundError\u001b[0m                         Traceback (most recent call last)",
      "\u001b[1;32mc:\\Users\\duval\\Documents\\GitHub\\ML_project1\\run.ipynb Cell 45\u001b[0m line \u001b[0;36m1\n\u001b[1;32m----> <a href='vscode-notebook-cell:/c%3A/Users/duval/Documents/GitHub/ML_project1/run.ipynb#X62sZmlsZQ%3D%3D?line=0'>1</a>\u001b[0m create_csv_submission(test_ids,yp,\u001b[39m\"\u001b[39;49m\u001b[39moutputs/ridge_degre25_200features.csv\u001b[39;49m\u001b[39m\"\u001b[39;49m)\n",
      "File \u001b[1;32mc:\\Users\\duval\\Documents\\GitHub\\ML_project1\\helpers.py:236\u001b[0m, in \u001b[0;36mcreate_csv_submission\u001b[1;34m(ids, y_pred, name)\u001b[0m\n\u001b[0;32m    233\u001b[0m \u001b[39mif\u001b[39;00m \u001b[39mnot\u001b[39;00m \u001b[39mall\u001b[39m(i \u001b[39min\u001b[39;00m [\u001b[39m-\u001b[39m\u001b[39m1\u001b[39m, \u001b[39m1\u001b[39m] \u001b[39mfor\u001b[39;00m i \u001b[39min\u001b[39;00m y_pred):\n\u001b[0;32m    234\u001b[0m     \u001b[39mraise\u001b[39;00m \u001b[39mValueError\u001b[39;00m(\u001b[39m\"\u001b[39m\u001b[39my_pred can only contain values -1, 1\u001b[39m\u001b[39m\"\u001b[39m)\n\u001b[1;32m--> 236\u001b[0m \u001b[39mwith\u001b[39;00m \u001b[39mopen\u001b[39;49m(name, \u001b[39m\"\u001b[39;49m\u001b[39mw\u001b[39;49m\u001b[39m\"\u001b[39;49m, newline\u001b[39m=\u001b[39;49m\u001b[39m\"\u001b[39;49m\u001b[39m\"\u001b[39;49m) \u001b[39mas\u001b[39;00m csvfile:\n\u001b[0;32m    237\u001b[0m     fieldnames \u001b[39m=\u001b[39m [\u001b[39m\"\u001b[39m\u001b[39mId\u001b[39m\u001b[39m\"\u001b[39m, \u001b[39m\"\u001b[39m\u001b[39mPrediction\u001b[39m\u001b[39m\"\u001b[39m]\n\u001b[0;32m    238\u001b[0m     writer \u001b[39m=\u001b[39m csv\u001b[39m.\u001b[39mDictWriter(csvfile, delimiter\u001b[39m=\u001b[39m\u001b[39m\"\u001b[39m\u001b[39m,\u001b[39m\u001b[39m\"\u001b[39m, fieldnames\u001b[39m=\u001b[39mfieldnames)\n",
      "\u001b[1;31mFileNotFoundError\u001b[0m: [Errno 2] No such file or directory: 'outputs/ridge_degre25_200features.csv'"
     ]
    }
   ],
   "source": [
    "create_csv_submission(test_ids,yp,\"outputs/ridge_degre25_200features.csv\")"
   ]
  },
  {
   "cell_type": "markdown",
   "metadata": {},
   "source": [
    "## Train test split for our own cross validation"
   ]
  },
  {
   "cell_type": "markdown",
   "metadata": {},
   "source": [
    "####read me or smth\n",
    "\n",
    "- N c'est le nombre de loops\n",
    "- pour l'instant ca loop sur gamma mais si tu veux changer de param tu peux le modifier\n",
    "- initial_w, accs et f1s pas besoin de changer\n",
    "\n",
    "Utilise pas ridge i guess tfacon c'est pas celle qui nous interesse\n"
   ]
  },
  {
   "cell_type": "code",
   "execution_count": 24,
   "metadata": {},
   "outputs": [],
   "source": [
    "x_train_1, y_train_1, x_test_1, y_test_1 = split_train_test(y_train, x_train, 0.7)\n",
    "cleaned_x_train_1 = clean_data(labels, label_list, x_train_1)\n",
    "cleaned_x_test_1 = clean_data(labels, label_list, x_test_1)"
   ]
  },
  {
   "cell_type": "code",
   "execution_count": 37,
   "metadata": {},
   "outputs": [
    {
     "name": "stdout",
     "output_type": "stream",
     "text": [
      "[-2.19080987e-02 -1.28387178e-02 -1.62016446e-02 -1.57962274e-02\n",
      " -2.27900587e-02  2.79201844e-04 -3.55860780e-02 -4.80806868e-02\n",
      "  3.65613181e-03 -4.03506823e-02  2.29631069e-04 -1.07577738e-04\n",
      "  3.26125943e-04  1.36072300e-03 -3.73494935e-04  3.43186173e-04\n",
      " -2.74807166e-02 -1.27723437e-02 -2.01174303e-02 -2.29016225e-02\n",
      " -3.35649318e-02 -1.90771435e-02 -2.14868128e-02 -6.65634744e-05\n",
      " -1.46935571e-02 -2.37477958e-02 -2.24269208e-02 -2.38191007e-02]\n",
      "[0.26655655 0.22421238 0.25721512 ... 0.27948223 0.24037126 0.24431731]\n",
      "[-1. -1. -1. ... -1. -1. -1.]\n",
      "[-1.70545929 -1.01036719 -1.25009364 -1.22164719 -1.80648224  0.03350661\n",
      " -2.81553693 -3.81234088  0.28294289 -3.1859624   0.01423981 -0.01562636\n",
      "  0.03073501  0.15936588 -0.04247348  0.0411349  -2.2027163  -1.00343573\n",
      " -1.59880277 -1.80383176 -2.66053336 -1.50522721 -1.70409435 -0.00618615\n",
      " -1.14681652 -1.86577855 -1.77270282 -1.87168823]\n",
      "[1.76461977e-35 2.59027761e-43 4.21728671e-37 ... 3.46398551e-33\n",
      " 3.60188743e-40 1.71877717e-39]\n",
      "[-1. -1. -1. ... -1. -1. -1.]\n",
      "[ -5.03837703  -2.98536303  -3.69190456  -3.60819718  -5.33924028\n",
      "   0.09994772  -8.32094136 -11.26795528   0.83578935  -9.41521515\n",
      "   0.04169658  -0.04680355   0.09118197   0.47479843  -0.12633606\n",
      "   0.12271956  -6.511506    -2.96477167  -4.72517161  -5.33003655\n",
      "  -7.86279875  -4.44786218  -5.03624511  -0.01817029  -3.38785512\n",
      "  -5.51272829  -5.23855941  -5.53021053]\n",
      "[1.97324676e-103 1.40515318e-126 3.20156722e-108 ... 1.19234373e-096\n",
      " 2.74842629e-117 2.75613251e-115]\n",
      "[-1. -1. -1. ... -1. -1. -1.]\n",
      "[-10.03028073  -5.94342856  -7.34914603  -7.18267116 -10.63045638\n",
      "   0.19946042 -16.56670404 -22.43466026   1.66381948 -18.74512734\n",
      "   0.08282017  -0.09349942   0.18171688   0.94724001  -0.25194191\n",
      "   0.24491362 -12.96502958  -5.90237797  -9.40771507 -10.61143746\n",
      " -15.65453257  -8.8552168  -10.02700007  -0.03611964  -6.74438826\n",
      " -10.97497588 -10.42957332 -11.00979101]\n",
      "[3.31386142e-205 2.72887681e-251 9.66758535e-215 ... 1.05665618e-191\n",
      " 8.62629100e-233 8.27684143e-229]\n",
      "[-1. -1. -1. ... -1. -1. -1.]\n"
     ]
    },
    {
     "name": "stderr",
     "output_type": "stream",
     "text": [
      "c:\\Users\\duval\\Documents\\GitHub\\ML_project1\\helpers.py:96: RuntimeWarning: overflow encountered in exp\n",
      "  return 1.0 / (1 + np.exp(-t))\n",
      "c:\\Users\\duval\\Documents\\GitHub\\ML_project1\\helpers.py:115: RuntimeWarning: divide by zero encountered in log\n",
      "  loss = -np.mean(y * np.log(pred) + (1 - y) * np.log(1 - pred))\n",
      "c:\\Users\\duval\\AppData\\Local\\Programs\\Python\\Python311\\Lib\\site-packages\\numpy\\core\\_methods.py:180: RuntimeWarning: invalid value encountered in reduce\n",
      "  ret = umr_sum(arr, axis, dtype, out, keepdims, where=where)\n"
     ]
    },
    {
     "name": "stdout",
     "output_type": "stream",
     "text": [
      "[-16.68117039  -9.88456376 -12.22181805 -11.94506912 -17.68013051\n",
      "   0.33204471 -27.55282498 -37.31245581   2.76703327 -31.17569897\n",
      "   0.13761058  -0.15571398   0.30233975   1.57669062  -0.41929102\n",
      "   0.40771709 -21.56328705  -9.81625464 -15.64643315 -17.64803447\n",
      " -26.03573482 -14.72729107 -16.67635922  -0.0600342  -11.21641595\n",
      " -18.25252132 -17.34574455 -18.31042969]\n",
      "[0. 0. 0. ... 0. 0. 0.]\n",
      "[-1. -1. -1. ... -1. -1. -1.]\n",
      "[-24.99104601 -14.80876864 -18.30992063 -17.89539107 -26.48826268\n",
      "   0.49770058 -41.27930419 -55.90134195   4.14543072 -46.70693003\n",
      "   0.20606781  -0.23344723   0.45305056   2.36315026  -0.62838338\n",
      "   0.61112996 -32.30627841 -14.70640166 -23.44132585 -26.43982758\n",
      " -39.00640549 -22.064085   -24.98432256  -0.08991396 -16.80393819\n",
      " -27.34536461 -25.98707309 -27.43212655]\n",
      "[0. 0. 0. ... 0. 0. 0.]\n",
      "[-1. -1. -1. ... -1. -1. -1.]\n",
      "[-34.95990759 -20.7160432  -25.61345375 -25.033637   -37.0548529\n",
      "   0.69642803 -57.74614164 -78.20131865   5.79901184 -65.33882054\n",
      "   0.28819186  -0.32669917   0.63384932   3.30661892  -0.87921901\n",
      "   0.85515223 -45.19400366 -20.57281904 -32.79239318 -36.98681681\n",
      " -54.56654459 -30.86559857 -34.9508901   -0.12575892 -23.50695497\n",
      " -38.25350576 -36.35355896 -38.37488159]\n",
      "[0. 0. 0. ... 0. 0. 0.]\n",
      "[-1. -1. -1. ... -1. -1. -1.]\n",
      "[ -46.58775512  -27.60638744  -34.13241741  -33.35980692  -49.37990116\n",
      "    0.92822708  -76.95333736 -104.21238594    7.72777662  -87.07137049\n",
      "    0.38398274   -0.4354698     0.84473604    4.40709661   -1.1717979\n",
      "    1.13978391  -60.22646279  -27.41550678  -43.69963513  -49.28900214\n",
      "  -72.71615211  -41.13183179  -46.57606183   -0.16756908  -31.3254663\n",
      "  -50.97694475  -48.44520214  -51.13869482]\n",
      "[0. 0. 0. ... 0. 0. 0.]\n",
      "[-1. -1. -1. ... -1. -1. -1.]\n",
      "[ -59.87458862  -35.47980135  -43.86681163  -42.87390083  -63.46340746\n",
      "    1.1930977   -98.90089133 -133.9345438     9.93172507 -111.90457987\n",
      "    0.49344043   -0.55975911    1.0857107     5.66458333   -1.50612005\n",
      "    1.46502499  -77.4036558   -35.23446487  -56.16305171  -63.34638358\n",
      "  -93.45522806  -52.86278466  -59.85983775   -0.21534445  -40.25947218\n",
      "  -65.5156816   -62.26200263  -65.72356624]\n",
      "[0. 0. 0. ... 0. 0. 0.]\n",
      "[-1. -1. -1. ... -1. -1. -1.]\n",
      "[ -74.82040807  -44.33628495  -54.8166364   -53.57591872  -79.30537181\n",
      "    1.49103992 -123.58880356 -167.36779224   12.41085718 -139.8384487\n",
      "    0.61656495   -0.69956712    1.35677332    7.07907908   -1.88218545\n",
      "    1.83087548  -96.72558271  -44.02969333  -70.18264291  -79.15896113\n",
      " -116.78377243  -66.05845718  -74.80221786   -0.26908502  -50.3089726\n",
      "  -81.8697163   -77.80396045  -82.12949584]\n",
      "[0. 0. 0. ... 0. 0. 0.]\n",
      "[-1. -1. -1. ... -1. -1. -1.]\n"
     ]
    }
   ],
   "source": [
    "N = 10\n",
    "max_iters = 100\n",
    "gammas = np.linspace(0.0001, 0.1, N)\n",
    "initial_w = np.zeros(cleaned_x_train_1.shape[1])\n",
    "accs = []\n",
    "f1s = []\n",
    "\n",
    "for gamma in gammas:\n",
    "    # train\n",
    "    # choisi la methode de train qui t'interesse\n",
    "    #w, loss = mean_squared_error_gd(y_train_1, cleaned_x_train_1, initial_w, max_iters, gamma)\n",
    "    w, loss = logistic_regression(y_train_1, cleaned_x_train_1, initial_w, max_iters, gamma)\n",
    "    print(w)\n",
    "    #predict \n",
    "    # choisi la methode de test qui t'interresse (commente l'autre)\n",
    "    #yp = predict_labels_mse(w,cleaned_x_test_1)\n",
    "    yp = predict_labels_logistic(w, cleaned_x_test_1)\n",
    "    print(yp)\n",
    "\n",
    "    # mesure accuracy\n",
    "    acc = measure_accuracy(y_test_1, yp)\n",
    "    f1 = measure_f1_score(y_test_1, yp)\n",
    "    accs.append(acc)\n",
    "    f1s.append(f1)"
   ]
  },
  {
   "cell_type": "code",
   "execution_count": 30,
   "metadata": {},
   "outputs": [
    {
     "name": "stdout",
     "output_type": "stream",
     "text": [
      "[]\n",
      "[]\n"
     ]
    }
   ],
   "source": [
    "print(accs)\n",
    "print(f1s)"
   ]
  },
  {
   "cell_type": "code",
   "execution_count": null,
   "metadata": {},
   "outputs": [
    {
     "name": "stderr",
     "output_type": "stream",
     "text": [
      "No artists with labels found to put in legend.  Note that artists whose label start with an underscore are ignored when legend() is called with no argument.\n"
     ]
    },
    {
     "data": {
      "image/png": "[encoded data removed]",
      "text/plain": [
       "<Figure size 432x288 with 1 Axes>"
      ]
     },
     "metadata": {
      "needs_background": "light"
     },
     "output_type": "display_data"
    }
   ],
   "source": [
    "# tu peux plot tes tableaux ici ca fait ton parametre x accuracies et f1 \n",
    "# (change le gammas si t'as changé de param la haut)\n",
    "plt.plot(gammas,accs,\"r\")\n",
    "plt.plot(gammas, f1s, \"b\")\n",
    "\n",
    "plt.title(\"Mean squared error gd accuracy\")\n",
    "plt.legend(loc=\"lower left\")\n",
    "plt.xlabel(\"Gamma\")\n",
    "plt.ylabel(\"Accuracy (%)\")\n",
    "plt.xscale('log')\n",
    "plt.show()"
   ]
  },
  {
   "cell_type": "code",
   "execution_count": null,
   "metadata": {},
   "outputs": [],
   "source": []
  }
 ],
 "metadata": {
  "kernelspec": {
   "display_name": "Python 3",
   "language": "python",
   "name": "python3"
  },
  "language_info": {
   "codemirror_mode": {
    "name": "ipython",
    "version": 3
   },
   "file_extension": ".py",
   "mimetype": "text/x-python",
   "name": "python",
   "nbconvert_exporter": "python",
   "pygments_lexer": "ipython3",
   "version": "3.11.0"
  }
 },
 "nbformat": 4,
 "nbformat_minor": 2
}
