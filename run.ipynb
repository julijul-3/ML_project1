{
 "cells": [
  {
   "cell_type": "code",
   "execution_count": 1,
   "metadata": {},
   "outputs": [],
   "source": [
    "# Useful starting lines\n",
    "%matplotlib inline\n",
    "import numpy as np\n",
    "import matplotlib.pyplot as plt\n",
    "from helpers import *\n",
    "from implementations import *\n",
    "\n",
    "# from test_utils import test\n",
    "\n",
    "%load_ext autoreload\n",
    "%autoreload 2"
   ]
  },
  {
   "cell_type": "markdown",
   "metadata": {},
   "source": [
    "## Run de A a Z"
   ]
  },
  {
   "cell_type": "markdown",
   "metadata": {},
   "source": [
    "### Loading  data "
   ]
  },
  {
   "cell_type": "code",
   "execution_count": 2,
   "metadata": {},
   "outputs": [],
   "source": [
    "x_train, x_test, y_train, train_ids, test_ids = load_csv_data(\"dataset\")\n"
   ]
  },
  {
   "cell_type": "markdown",
   "metadata": {},
   "source": [
    "### Extract labels "
   ]
  },
  {
   "cell_type": "code",
   "execution_count": 3,
   "metadata": {},
   "outputs": [],
   "source": [
    "labels = np.genfromtxt(\"dataset/x_test.csv\", delimiter=\",\", dtype = str, max_rows=1)\n",
    "labels = np.delete(labels,0) # delete the label 'id' as we dont have it in x_train and x_test"
   ]
  },
  {
   "cell_type": "markdown",
   "metadata": {},
   "source": [
    "### Cleaning and feature selection"
   ]
  },
  {
   "cell_type": "markdown",
   "metadata": {},
   "source": [
    "Due to the high number of features with all different exceptions values and linearity, we decided to select manually the features we found relevant. The list below is the name of the feature, the exception values that we have to remplace, and wheter we remplace by majority (True) or by the mean (False)"
   ]
  },
  {
   "cell_type": "code",
   "execution_count": 52,
   "metadata": {},
   "outputs": [],
   "source": [
    "label_list = [(\"MSCODE\", [], True),\n",
    "            (\"_HCVU651\", [9], True),\n",
    "            (\"_RFHYPE5\", [9], True),\n",
    "            (\"_RFCHOL\", [9], True),\n",
    "            (\"_RACE\",[9], True),\n",
    "            (\"_BMI5\",[], False),\n",
    "            (\"_EDUCAG\",[9], True),\n",
    "            (\"_INCOMG\",[9], True),\n",
    "            (\"_DRNKWEK\",[99900], False),\n",
    "            (\"_SMOKER3\",[9], True),\n",
    "            (\"_FRUTSUM\",[], False),\n",
    "            (\"_VEGESUM\",[], False),\n",
    "            (\"PA1MIN_\",[], False),\n",
    "            #(\"GENHLTH\",[7,9], False),\n",
    "            #(\"CHECKUP1\",[7,9], False),\n",
    "            #(\"MENTHLTH\",[88, 77, 99], False),\n",
    "            #(\"BPHIGH4\",[7,9], True),\n",
    "            #(\"BPMEDS\",[7,9], True),\n",
    "            #(\"TOLDHI2\",[7,9], True),\n",
    "            (\"CHCOCNCR\",[7,8,9], True),\n",
    "            (\"DIABETE3\",[7,8,9], True),\n",
    "            #(\"SEX\",[], True),\n",
    "            #(\"QLACTLM2\",[7,9], True),\n",
    "            #(\"AVEDRNK2\",[77, 99], False),\n",
    "            #(\"EXERANY2\",[7,9], True),\n",
    "            #(\"SHINGLE2\", [7,9], True),\n",
    "            #(\"LMTJOIN3\", [7,9], True),\n",
    "            #(\"CVDASPRN\", [7,9], True)\n",
    "            ]\n",
    "\n",
    "\n",
    "cleaned_x_train = clean_data(labels, label_list, x_train)"
   ]
  },
  {
   "cell_type": "code",
   "execution_count": 53,
   "metadata": {},
   "outputs": [
    {
     "data": {
      "text/plain": [
       "array([[ 1.00000000e+00,  1.00000000e+00,  1.00000000e+00, ...,\n",
       "        -4.89451372e-01,  2.00000000e+00,  3.00000000e+00],\n",
       "       [ 5.00000000e+00,  1.00000000e+00,  2.00000000e+00, ...,\n",
       "        -9.33005477e-17,  2.00000000e+00,  3.00000000e+00],\n",
       "       [ 1.00000000e+00,  1.00000000e+00,  1.00000000e+00, ...,\n",
       "        -6.70001037e-01,  2.00000000e+00,  3.00000000e+00],\n",
       "       ...,\n",
       "       [ 1.00000000e+00,  1.00000000e+00,  1.00000000e+00, ...,\n",
       "        -6.20760219e-01,  2.00000000e+00,  3.00000000e+00],\n",
       "       [ 5.00000000e+00,  1.00000000e+00,  1.00000000e+00, ...,\n",
       "        -7.71765394e-01,  2.00000000e+00,  3.00000000e+00],\n",
       "       [ 1.00000000e+00,  1.00000000e+00,  2.00000000e+00, ...,\n",
       "        -8.17723491e-01,  2.00000000e+00,  3.00000000e+00]])"
      ]
     },
     "execution_count": 53,
     "metadata": {},
     "output_type": "execute_result"
    }
   ],
   "source": [
    "cleaned_x_train"
   ]
  },
  {
   "cell_type": "markdown",
   "metadata": {},
   "source": [
    "We then check that we have enough data in our features, i.e. there is not an exagerated amount of nans"
   ]
  },
  {
   "cell_type": "code",
   "execution_count": 6,
   "metadata": {},
   "outputs": [],
   "source": [
    "# want to see which labels are way to small\n",
    "\n",
    "for label in label_list:\n",
    "    l, _, _ = label\n",
    "    id = np.where(labels == l)[0][0]\n",
    "    x = x_train[:][id]\n",
    "\n",
    "    # Count the number of NaN values\n",
    "    nans= np.count_nonzero(np.isnan(x))\n",
    "    nan_perc = nans/len(x) *100\n",
    "    #print(nan_perc)"
   ]
  },
  {
   "cell_type": "markdown",
   "metadata": {},
   "source": [
    "We check that our features are uncorrelated as it would lead to less good results, but we saw that the uncorrelated data had the same dimension as the original cleaned data, so no changes were made."
   ]
  },
  {
   "cell_type": "code",
   "execution_count": 7,
   "metadata": {},
   "outputs": [
    {
     "name": "stdout",
     "output_type": "stream",
     "text": [
      "(328135, 28)\n"
     ]
    },
    {
     "data": {
      "text/plain": [
       "(328135, 28)"
      ]
     },
     "execution_count": 7,
     "metadata": {},
     "output_type": "execute_result"
    }
   ],
   "source": [
    "correlation_matrix = np.corrcoef(cleaned_x_train, rowvar=False)\n",
    "correlation_threshold = 0.7\n",
    "uncorrelated_indices = np.where(np.abs(correlation_matrix) < correlation_threshold)\n",
    "uncorrelated_columns = np.unique(uncorrelated_indices[1])\n",
    "uncorrelated_data = cleaned_x_train[:, uncorrelated_columns]\n",
    "print(uncorrelated_data.shape)\n",
    "cleaned_x_train.shape"
   ]
  },
  {
   "cell_type": "markdown",
   "metadata": {},
   "source": [
    "## Training\n",
    "We here choose which function we want to train our data with"
   ]
  },
  {
   "cell_type": "markdown",
   "metadata": {},
   "source": [
    "#### Ridge regression"
   ]
  },
  {
   "cell_type": "code",
   "execution_count": 8,
   "metadata": {},
   "outputs": [
    {
     "data": {
      "text/plain": [
       "(701,)"
      ]
     },
     "execution_count": 8,
     "metadata": {},
     "output_type": "execute_result"
    }
   ],
   "source": [
    "lambda_ = 0.0001\n",
    "degree = 25\n",
    "## tx is cleaned data \n",
    "poly = build_poly(cleaned_x_train,degree)\n",
    "w , loss = ridge_regression(y_train,poly,lambda_)\n",
    "w.shape"
   ]
  },
  {
   "cell_type": "markdown",
   "metadata": {},
   "source": [
    "#### Mean squared errors gd"
   ]
  },
  {
   "cell_type": "code",
   "execution_count": 9,
   "metadata": {},
   "outputs": [],
   "source": [
    "gamma = 0.0001\n",
    "max_iters = 1000\n",
    "w_initial = np.zeros(cleaned_x_train.shape[1])\n",
    "\n",
    "w, loss = mean_squared_error_gd(y_train, cleaned_x_train, w_initial, max_iters, gamma)"
   ]
  },
  {
   "cell_type": "code",
   "execution_count": 10,
   "metadata": {},
   "outputs": [
    {
     "data": {
      "text/plain": [
       "0.15174410864282326"
      ]
     },
     "execution_count": 10,
     "metadata": {},
     "output_type": "execute_result"
    }
   ],
   "source": [
    "loss"
   ]
  },
  {
   "cell_type": "markdown",
   "metadata": {},
   "source": []
  },
  {
   "cell_type": "markdown",
   "metadata": {},
   "source": [
    "#### Mean squared error sgd"
   ]
  },
  {
   "cell_type": "code",
   "execution_count": 11,
   "metadata": {},
   "outputs": [],
   "source": [
    "gamma = 0.00001\n",
    "max_iters = 100\n",
    "w_initial = np.zeros(cleaned_x_train.shape[1])\n",
    "\n",
    "w, loss = mean_squared_error_sgd(y_train, cleaned_x_train, w_initial, max_iters, gamma)"
   ]
  },
  {
   "cell_type": "markdown",
   "metadata": {},
   "source": [
    "#### Least squared error"
   ]
  },
  {
   "cell_type": "code",
   "execution_count": 12,
   "metadata": {},
   "outputs": [],
   "source": [
    "w, loss = least_squares(y_train, cleaned_x_train)"
   ]
  },
  {
   "cell_type": "markdown",
   "metadata": {},
   "source": [
    "#### logistic regression"
   ]
  },
  {
   "cell_type": "code",
   "execution_count": 13,
   "metadata": {},
   "outputs": [
    {
     "name": "stderr",
     "output_type": "stream",
     "text": [
      "c:\\Users\\duval\\Documents\\GitHub\\ML_project1\\helpers.py:96: RuntimeWarning: overflow encountered in exp\n",
      "  return 1.0 / (1 + np.exp(-t))\n",
      "c:\\Users\\duval\\Documents\\GitHub\\ML_project1\\helpers.py:115: RuntimeWarning: divide by zero encountered in log\n",
      "  loss = -np.mean(y * np.log(pred) + (1 - y) * np.log(1 - pred))\n",
      "c:\\Users\\duval\\AppData\\Local\\Programs\\Python\\Python311\\Lib\\site-packages\\numpy\\core\\_methods.py:180: RuntimeWarning: invalid value encountered in reduce\n",
      "  ret = umr_sum(arr, axis, dtype, out, keepdims, where=where)\n"
     ]
    }
   ],
   "source": [
    "max_iters = 1000\n",
    "gamma = 0.01\n",
    "w_initial = np.zeros(cleaned_x_train.shape[1])\n",
    "w, loss = logistic_regression(y_train, cleaned_x_train, w_initial, max_iters, gamma)"
   ]
  },
  {
   "cell_type": "markdown",
   "metadata": {},
   "source": [
    "#### reg logistic"
   ]
  },
  {
   "cell_type": "code",
   "execution_count": 14,
   "metadata": {},
   "outputs": [],
   "source": [
    "max_iters = 1000\n",
    "gamma = 0.01\n",
    "lambda_ = 0.001\n",
    "w_initial = np.zeros(cleaned_x_train.shape[1])\n",
    "w, loss = reg_logistic_regression(y_train, cleaned_x_train, lambda_, w_initial, max_iters, gamma)"
   ]
  },
  {
   "cell_type": "code",
   "execution_count": 15,
   "metadata": {},
   "outputs": [],
   "source": [
    "#print(w)\n",
    "#print(loss)\n",
    "#print(len(w))"
   ]
  },
  {
   "cell_type": "markdown",
   "metadata": {},
   "source": [
    "### Testing\n",
    "\n",
    "We then test our data, cleaning the test dataset and building predictions"
   ]
  },
  {
   "cell_type": "code",
   "execution_count": 54,
   "metadata": {},
   "outputs": [],
   "source": [
    "#clean up x test\n",
    "\n",
    "cleaned_x_test = clean_data(labels, label_list, x_test)\n"
   ]
  },
  {
   "cell_type": "code",
   "execution_count": 17,
   "metadata": {},
   "outputs": [
    {
     "data": {
      "text/plain": [
       "(109379, 701)"
      ]
     },
     "execution_count": 17,
     "metadata": {},
     "output_type": "execute_result"
    }
   ],
   "source": [
    "# only used for ridge\n",
    "poly_test = build_poly(cleaned_x_test,degree)\n",
    "poly_test.shape\n",
    "                                 "
   ]
  },
  {
   "cell_type": "markdown",
   "metadata": {},
   "source": [
    "#### Prediction\n",
    "\n",
    "Use the correct prediction function depending on which train method"
   ]
  },
  {
   "cell_type": "code",
   "execution_count": 18,
   "metadata": {},
   "outputs": [],
   "source": [
    "yp = predict_labels_mse(w,cleaned_x_test)"
   ]
  },
  {
   "cell_type": "code",
   "execution_count": 19,
   "metadata": {},
   "outputs": [
    {
     "name": "stdout",
     "output_type": "stream",
     "text": [
      "[0.00000000e+000 0.00000000e+000 0.00000000e+000 ... 1.19096188e-304\n",
      " 0.00000000e+000 0.00000000e+000]\n"
     ]
    }
   ],
   "source": [
    "yp = predict_labels_logistic(w,cleaned_x_test)"
   ]
  },
  {
   "cell_type": "code",
   "execution_count": 20,
   "metadata": {},
   "outputs": [],
   "source": [
    "#print(len(np.where(y_pred == 1)[0]))"
   ]
  },
  {
   "cell_type": "markdown",
   "metadata": {},
   "source": [
    "#### CSV Submission"
   ]
  },
  {
   "cell_type": "code",
   "execution_count": 21,
   "metadata": {},
   "outputs": [],
   "source": [
    "create_csv_submission(test_ids,yp,\"outputs/ridge_degre25_200features.csv\")"
   ]
  },
  {
   "cell_type": "markdown",
   "metadata": {},
   "source": [
    "## Train test split for our own cross validation"
   ]
  },
  {
   "cell_type": "markdown",
   "metadata": {},
   "source": [
    "####read me or smth\n",
    "\n",
    "- N c'est le nombre de loops\n",
    "- pour l'instant ca loop sur gamma mais si tu veux changer de param tu peux le modifier\n",
    "- initial_w, accs et f1s pas besoin de changer\n",
    "\n",
    "Utilise pas ridge i guess tfacon c'est pas celle qui nous interesse\n"
   ]
  },
  {
   "cell_type": "code",
   "execution_count": 56,
   "metadata": {},
   "outputs": [],
   "source": [
    "x_train_1, y_train_1, x_test_1, y_test_1 = split_train_test(y_train, x_train, 0.7)\n",
    "cleaned_x_train_1 = clean_data(labels, label_list, x_train_1)\n",
    "cleaned_x_test_1 = clean_data(labels, label_list, x_test_1)"
   ]
  },
  {
   "cell_type": "code",
   "execution_count": 80,
   "metadata": {},
   "outputs": [
    {
     "name": "stdout",
     "output_type": "stream",
     "text": [
      "Gammas : '0.01555'.\n",
      "y pred : '[-12.65265487 -15.64788083  -0.97244884 ... -14.40771769 -16.41392299\n",
      " -19.04338792]'.\n",
      "Gammas : '0.015661111111111112'.\n",
      "y pred : '[-0.18800594  0.0521824   0.49063192 ...  0.30895106  0.081623\n",
      " -0.1533118 ]'.\n",
      "Gammas : '0.015772222222222222'.\n",
      "y pred : '[-2.17944471 -2.4040565  -2.1568758  ... -1.80572702 -2.47722675\n",
      " -2.01770134]'.\n",
      "Gammas : '0.015883333333333333'.\n",
      "y pred : '[-1.04169984 -1.19910456 -0.97668698 ... -0.95966625 -1.07760354\n",
      " -1.07815049]'.\n",
      "Gammas : '0.015994444444444443'.\n",
      "y pred : '[-1.28607275 -1.32260811 -0.81223492 ... -1.22834892 -1.1950356\n",
      " -1.10568079]'.\n",
      "Gammas : '0.016105555555555554'.\n",
      "y pred : '[-0.44025471 -1.34265706 -0.24094104 ... -1.35005886 -1.37318831\n",
      " -0.96510149]'.\n",
      "Gammas : '0.016216666666666664'.\n",
      "y pred : '[-2.56512982 -1.42529424 -2.5942495  ... -2.68869876 -1.6704096\n",
      " -0.8751916 ]'.\n",
      "Gammas : '0.016327777777777778'.\n",
      "y pred : '[-0.57586797 -0.97199187 -0.04830943 ... -1.10862397 -0.82716291\n",
      " -1.42782464]'.\n",
      "Gammas : '0.01643888888888889'.\n",
      "y pred : '[-0.55545051 -1.50949479 -1.00294112 ... -0.64788747 -1.6097533\n",
      " -0.75406422]'.\n",
      "Gammas : '0.01655'.\n",
      "y pred : '[-0.52280295 -0.27308733 -0.44479334 ... -0.47248915 -0.30885761\n",
      " -1.35897146]'.\n"
     ]
    }
   ],
   "source": [
    "N = 20\n",
    "max_iters = 300\n",
    "\n",
    "#gammas = np.linspace(0.00000001, 0.1, N)\n",
    "#gammas = [0.018,0.185,0.019,0.0195,0.020]\n",
    "gammas = np.linspace(0.01555,0.01655,10)\n",
    "\n",
    "lambda_ = 0.01\n",
    "#lambda_ = np.linspace(0.000001, 0.1, N)\n",
    "\n",
    "initial_w = np.zeros(cleaned_x_train_1.shape[1])\n",
    "accs = []\n",
    "f1s = []\n",
    "\n",
    "for gamma in gammas:\n",
    "    print(\"Gammas : '{}'.\".format(gamma))\n",
    "    # train\n",
    "    # choisi la methode de train qui t'interesse\n",
    "    w, loss = mean_squared_error_sgd(y_train_1, cleaned_x_train_1, initial_w, max_iters, gamma)\n",
    "    ## remplacer gamma par lambda \n",
    "    #w, loss = reg_logistic_regression(y_train_1, cleaned_x_train_1, lambda_, initial_w, max_iters, gamma)\n",
    "    #predict \n",
    "    # choisi la methode de test qui t'interresse (commente l'autre)\n",
    "    yp = predict_labels_mse(w,cleaned_x_test_1)\n",
    "    #yp = predict_labels_logistic(w, cleaned_x_test_1)\n",
    "\n",
    "    # mesure accuracy\n",
    "    acc = measure_accuracy(y_test_1, yp)\n",
    "    f1 = measure_f1_score(y_test_1, yp)\n",
    "    accs.append(acc)\n",
    "    f1s.append(f1)"
   ]
  },
  {
   "cell_type": "code",
   "execution_count": 81,
   "metadata": {},
   "outputs": [
    {
     "name": "stdout",
     "output_type": "stream",
     "text": [
      "[0.8209874034945144, 0.3541446566436408, 0.9107984559122309, 0.9108594067452255, 0.909548963835839, 0.9098841934173101, 0.9081064607882975, 0.9089902478667209, 0.9093559528646892, 0.8793071921982933]\n",
      "[0.0957512315270936, 0.19319306616583334, 0.0004553215708594195, 0.0, 0.014390081912773965, 0.012467995101859067, 0.013737461840383776, 0.013434643761700253, 0.009546009546009546, 0.1363669404666715]\n"
     ]
    }
   ],
   "source": [
    "print(accs)\n",
    "print(f1s)"
   ]
  },
  {
   "cell_type": "markdown",
   "metadata": {},
   "source": [
    "0.63 / 0.219 : entre 0.0156 et 0.0159 \n",
    "0.837 : 0.153 : 0.0156\n",
    "0.88 / 0.148 : 0.0157\n",
    "\n",
    "Visiblement rester a des chiffres exacts "
   ]
  },
  {
   "cell_type": "code",
   "execution_count": null,
   "metadata": {},
   "outputs": [],
   "source": [
    "[0.9109101991060544, 0.8207029662738724, 0.9089800893945551, 0.9085331166192605, 0.9055160503860219, 0.6329642421779764, 0.9071820398212109, 0.9067249085737505, 0.13592035757822024, 0.13160300690776108, 0.9076696464851687, 0.9055160503860219, 0.7161722876879317, 0.7563490451036164, 0.9104937017472572, 0.9076594880130029, 0.09873019097927671, 0.22479683055668429, 0.6392929703372613, 0.9107273466070703, 0.8376980902072328, 0.09902478667208452, 0.31964648516863065, 0.0904611946363267]\n",
    "[0.00022799817601459188, 0.09291807996710864, 0.03135135135135135, 0.006838738142510479, 0.02413178050571818, 0.21964968359214704, 0.025594539831502613, 0.047312720481427685, 0.15646879152700371, 0.16390364132507848, 0.052735799895779055, 0.054103528933184174, 0.1750324790362584, 0.19310344827586207, 0.0036186814429492254, 0.018570503131073203, 0.163112071161084, 0.1593575465150864, 0.12429712932820361, 0.00022753128555176336, 0.0610049955921246, 0.16367751060820368, 0.1621756861567715, 0.1635135513887721]"
   ]
  },
  {
   "cell_type": "code",
   "execution_count": 60,
   "metadata": {},
   "outputs": [
    {
     "name": "stdout",
     "output_type": "stream",
     "text": [
      "[0.910930516050386, 0.910930516050386, 0.9099756196668021, 0.8630434782608696, 0.6709670865501829, 0.2854937017472572, 0.5486286062576189, 0.9109203575782202, 0.9109203575782202, 0.910930516050386, 0.9095184884193417, 0.9108187728565623, 0.910930516050386, 0.910930516050386, 0.09434173100365705, 0.910930516050386, 0.08906948394961398, 0.08906948394961398, 0.08907964242177976, 0.08906948394961398]\n",
      "[0.0, 0.0, 0.022501654533421574, 0.21970135432341706, 0.1793767418292374, 0.14222298104831826, 0.13871174087499272, 0.0, 0.0, 0.0, 0.0017931189061974671, 0.0, 0.0, 0.0, 0.1627018041454962, 0.0, 0.16356988284456384, 0.16356988284456384, 0.16357140858339475, 0.16356988284456384]\n"
     ]
    }
   ],
   "source": [
    "# Previous Test cant remember param gamma rip for the 0.86 : 0.22\n",
    "print(accs)\n",
    "print(f1s)"
   ]
  },
  {
   "cell_type": "code",
   "execution_count": null,
   "metadata": {},
   "outputs": [],
   "source": []
  },
  {
   "cell_type": "code",
   "execution_count": 27,
   "metadata": {},
   "outputs": [
    {
     "name": "stderr",
     "output_type": "stream",
     "text": [
      "No artists with labels found to put in legend.  Note that artists whose label start with an underscore are ignored when legend() is called with no argument.\n"
     ]
    },
    {
     "data": {
      "image/png": "[encoded data removed]",
      "text/plain": [
       "<Figure size 640x480 with 1 Axes>"
      ]
     },
     "metadata": {},
     "output_type": "display_data"
    }
   ],
   "source": [
    "# tu peux plot tes tableaux ici ca fait ton parametre x accuracies et f1 \n",
    "# (change le gammas si t'as changé de param la haut)\n",
    "plt.plot(gammas,accs,\"r\")\n",
    "plt.plot(gammas, f1s, \"b\")\n",
    "\n",
    "plt.title(\"accuracy/f1\")\n",
    "plt.legend(loc=\"lower left\")\n",
    "plt.xlabel(\"gammas\")\n",
    "plt.ylabel(\"Accuracy and F1 (%)\")\n",
    "plt.xscale('log')\n",
    "plt.show()"
   ]
  },
  {
   "cell_type": "code",
   "execution_count": null,
   "metadata": {},
   "outputs": [
    {
     "data": {
      "text/plain": [
       "0.9035757822023568"
      ]
     },
     "execution_count": 73,
     "metadata": {},
     "output_type": "execute_result"
    }
   ],
   "source": [
    "accs[9]"
   ]
  },
  {
   "cell_type": "markdown",
   "metadata": {},
   "source": [
    "# testing which method is better"
   ]
  },
  {
   "cell_type": "code",
   "execution_count": 28,
   "metadata": {},
   "outputs": [
    {
     "name": "stdout",
     "output_type": "stream",
     "text": [
      "accuracy ridge:\n",
      "0.9063693620479479\n",
      "f1 ridge:\n",
      "0.19382489285401908\n",
      "accuracy mse gd:\n",
      "0.910930516050386\n",
      "f1 mse gd:\n",
      "0.0\n",
      "accuracy mse sgd:\n",
      "0.8993295408370581\n",
      "f1 mse sgd:\n",
      "0.15385928961748635\n",
      "accuracy least squares:\n",
      "0.910930516050386\n",
      "f1 mse least squares:\n",
      "0.0\n",
      "accuracy logistic reg:\n",
      "0.910930516050386\n",
      "f1 mse logistic reg:\n",
      "0.0\n",
      "accuracy reg logistic reg:\n",
      "0.910930516050386\n",
      "f1 mse reg logistic reg:\n",
      "0.0\n"
     ]
    }
   ],
   "source": [
    "gamma = 0.01\n",
    "lambda_ = 0.0000001\n",
    "max_iters = 1000\n",
    "degree = 9\n",
    "initial_w = np.zeros(cleaned_x_train_1.shape[1])\n",
    "\n",
    "# ridge\n",
    "poly_train = build_poly(cleaned_x_train_1, degree)\n",
    "w, loss = ridge_regression(y_train_1, poly_train, lambda_)\n",
    "poly_test = build_poly(cleaned_x_test_1, degree)\n",
    "yp = predict_labels_mse(w, poly_test)\n",
    "\n",
    "print(\"accuracy ridge:\")\n",
    "accuracy = measure_accuracy(y_test_1, yp)\n",
    "print(accuracy)\n",
    "print(\"f1 ridge:\")\n",
    "f1 = measure_f1_score(y_test_1, yp)\n",
    "print(f1)\n",
    "\n",
    "# mse gd\n",
    "w, loss = mean_squared_error_gd(y_train_1, cleaned_x_train_1, initial_w, max_iters, gamma)\n",
    "yp = predict_labels_mse(w, cleaned_x_test_1)\n",
    "\n",
    "print(\"accuracy mse gd:\")\n",
    "accuracy = measure_accuracy(y_test_1, yp)\n",
    "print(accuracy)\n",
    "print(\"f1 mse gd:\")\n",
    "f1 = measure_f1_score(y_test_1, yp)\n",
    "print(f1)\n",
    "\n",
    "# mse sgd\n",
    "w, loss = mean_squared_error_sgd(y_train_1, cleaned_x_train_1, initial_w, max_iters, gamma)\n",
    "yp = predict_labels_mse(w, cleaned_x_test_1)\n",
    "\n",
    "print(\"accuracy mse sgd:\")\n",
    "accuracy = measure_accuracy(y_test_1, yp)\n",
    "print(accuracy)\n",
    "print(\"f1 mse sgd:\")\n",
    "f1 = measure_f1_score(y_test_1, yp)\n",
    "print(f1)\n",
    "\n",
    "# mse sgd\n",
    "w, loss = least_squares(y_train_1, cleaned_x_train_1)\n",
    "yp = predict_labels_mse(w, cleaned_x_test_1)\n",
    "\n",
    "print(\"accuracy least squares:\")\n",
    "accuracy = measure_accuracy(y_test_1, yp)\n",
    "print(accuracy)\n",
    "print(\"f1 mse least squares:\")\n",
    "f1 = measure_f1_score(y_test_1, yp)\n",
    "print(f1)\n",
    "\n",
    "# logistic reg\n",
    "w, loss = logistic_regression(y_train_1, cleaned_x_train_1, initial_w, max_iters, gamma)\n",
    "yp = predict_labels_logistic(w, cleaned_x_test_1)\n",
    "\n",
    "print(\"accuracy logistic reg:\")\n",
    "accuracy = measure_accuracy(y_test_1, yp)\n",
    "print(accuracy)\n",
    "print(\"f1 mse logistic reg:\")\n",
    "f1 = measure_f1_score(y_test_1, yp)\n",
    "print(f1)\n",
    "\n",
    "#  reg logistic reg\n",
    "w, loss = reg_logistic_regression(y_train_1, cleaned_x_train_1, lambda_, initial_w, max_iters, gamma)\n",
    "yp = predict_labels_logistic(w, cleaned_x_test_1)\n",
    "\n",
    "print(\"accuracy reg logistic reg:\")\n",
    "accuracy = measure_accuracy(y_test_1, yp)\n",
    "print(accuracy)\n",
    "print(\"f1 mse reg logistic reg:\")\n",
    "f1 = measure_f1_score(y_test_1, yp)\n",
    "print(f1)\n"
   ]
  },
  {
   "cell_type": "code",
   "execution_count": null,
   "metadata": {},
   "outputs": [],
   "source": []
  },
  {
   "cell_type": "code",
   "execution_count": null,
   "metadata": {},
   "outputs": [],
   "source": []
  },
  {
   "cell_type": "code",
   "execution_count": null,
   "metadata": {},
   "outputs": [],
   "source": [
    "lamdas = 0.0000001\n",
    "accs = []\n",
    "f1s = []\n",
    "degrees = range(25)\n",
    "for deg in degrees:\n",
    "\n",
    "    # ridge\n",
    "    poly_train = build_poly(cleaned_x_train_1, deg)\n",
    "    w, loss = ridge_regression(y_train_1, poly_train, lamdas)\n",
    "    poly_test = build_poly(cleaned_x_test_1, deg)\n",
    "    yp = predict_labels_mse(w, poly_test)\n",
    "\n",
    "    accuracy = measure_accuracy(y_test_1, yp)\n",
    "    f1 = measure_f1_score(y_test_1, yp)\n",
    "    accs.append(accuracy)\n",
    "    f1s.append(f1)\n",
    "\n",
    "\n"
   ]
  },
  {
   "cell_type": "code",
   "execution_count": null,
   "metadata": {},
   "outputs": [],
   "source": []
  },
  {
   "cell_type": "code",
   "execution_count": null,
   "metadata": {},
   "outputs": [],
   "source": []
  },
  {
   "cell_type": "code",
   "execution_count": null,
   "metadata": {},
   "outputs": [],
   "source": []
  },
  {
   "cell_type": "code",
   "execution_count": null,
   "metadata": {},
   "outputs": [],
   "source": []
  }
 ],
 "metadata": {
  "kernelspec": {
   "display_name": "Python 3",
   "language": "python",
   "name": "python3"
  },
  "language_info": {
   "codemirror_mode": {
    "name": "ipython",
    "version": 3
   },
   "file_extension": ".py",
   "mimetype": "text/x-python",
   "name": "python",
   "nbconvert_exporter": "python",
   "pygments_lexer": "ipython3",
   "version": "3.11.0"
  }
 },
 "nbformat": 4,
 "nbformat_minor": 2
}
